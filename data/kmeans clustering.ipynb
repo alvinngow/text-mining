{
 "cells": [
  {
   "cell_type": "markdown",
   "id": "43604a48",
   "metadata": {},
   "source": [
    "# Importing relevant packages\n",
    "<ul>\n",
    "    <li>Kmeans is a clustering algorithm provided by Scikit-Learn, which can be used for grouping data points into clusters based on their similarity</li>\n",
    "    <li>Validators is to ensure that if the tweet is just a URL to not translate it.</li>\n",
    "    <li>Other packages like demoji,WordNetLemmatizer is for pre-processing </li>\n",
    "</ul>"
   ]
  },
  {
   "cell_type": "code",
   "execution_count": 12,
   "id": "263ac105",
   "metadata": {},
   "outputs": [],
   "source": [
    "import numpy as np\n",
    "import pandas as pd\n",
    "import matplotlib.pyplot as plt\n",
    "import ast\n",
    "import validators\n",
    "import string\n",
    "import demoji\n",
    "from nltk.corpus import stopwords\n",
    "from sklearn.feature_extraction.text import CountVectorizer\n",
    "from sklearn.cluster import KMeans\n",
    "from nltk.stem import WordNetLemmatizer"
   ]
  },
  {
   "cell_type": "markdown",
   "id": "68e8ad1b",
   "metadata": {},
   "source": [
    "# Converting data frame to documents\n"
   ]
  },
  {
   "cell_type": "code",
   "execution_count": 13,
   "id": "40591260",
   "metadata": {},
   "outputs": [],
   "source": [
    "def DFToDocument(df):\n",
    "    document = []\n",
    "    lemmatizer = WordNetLemmatizer()\n",
    "    stop_words = set(stopwords.words('english'))\n",
    "    for i, row in df.iterrows():\n",
    "        sentence = \"\"\n",
    "        tokenized_text = ast.literal_eval(row['tokenized_text'])\n",
    "        for token in tokenized_text:\n",
    "            if token not in stop_words and not validators.url(token) and token not in string.punctuation:\n",
    "                sentence += token + ' '\n",
    "        sentence = demoji.replace_with_desc(string = sentence, sep = \":\")\n",
    "        document.append(sentence[:-1])\n",
    "    return document"
   ]
  },
  {
   "cell_type": "code",
   "execution_count": 14,
   "id": "5472e8d8",
   "metadata": {},
   "outputs": [],
   "source": [
    "df = pd.read_csv('translated_tokenized/translated_dataframe.csv')\n",
    "DFsplit = np.array_split(df, 300)\n",
    "DFsplitFinal = np.array_split(df, 6)"
   ]
  },
  {
   "cell_type": "code",
   "execution_count": 24,
   "id": "98c55326",
   "metadata": {},
   "outputs": [],
   "source": [
    "document = DFToDocument(DFsplit[0])\n",
    "vectorizer = CountVectorizer()\n",
    "x = vectorizer.fit_transform(document).toarray()"
   ]
  },
  {
   "cell_type": "markdown",
   "id": "17df71b0",
   "metadata": {},
   "source": [
    "# Elbow Method \n",
    "Calculate SSE and Plot graph"
   ]
  },
  {
   "cell_type": "code",
   "execution_count": 25,
   "id": "6d8abe56",
   "metadata": {},
   "outputs": [
    {
     "name": "stderr",
     "output_type": "stream",
     "text": [
      "/Users/eileengoh/opt/anaconda3/lib/python3.9/site-packages/sklearn/cluster/_kmeans.py:870: FutureWarning: The default value of `n_init` will change from 10 to 'auto' in 1.4. Set the value of `n_init` explicitly to suppress the warning\n",
      "  warnings.warn(\n",
      "/Users/eileengoh/opt/anaconda3/lib/python3.9/site-packages/sklearn/cluster/_kmeans.py:870: FutureWarning: The default value of `n_init` will change from 10 to 'auto' in 1.4. Set the value of `n_init` explicitly to suppress the warning\n",
      "  warnings.warn(\n",
      "/Users/eileengoh/opt/anaconda3/lib/python3.9/site-packages/sklearn/cluster/_kmeans.py:870: FutureWarning: The default value of `n_init` will change from 10 to 'auto' in 1.4. Set the value of `n_init` explicitly to suppress the warning\n",
      "  warnings.warn(\n",
      "/Users/eileengoh/opt/anaconda3/lib/python3.9/site-packages/sklearn/cluster/_kmeans.py:870: FutureWarning: The default value of `n_init` will change from 10 to 'auto' in 1.4. Set the value of `n_init` explicitly to suppress the warning\n",
      "  warnings.warn(\n",
      "/Users/eileengoh/opt/anaconda3/lib/python3.9/site-packages/sklearn/cluster/_kmeans.py:870: FutureWarning: The default value of `n_init` will change from 10 to 'auto' in 1.4. Set the value of `n_init` explicitly to suppress the warning\n",
      "  warnings.warn(\n",
      "/Users/eileengoh/opt/anaconda3/lib/python3.9/site-packages/sklearn/cluster/_kmeans.py:870: FutureWarning: The default value of `n_init` will change from 10 to 'auto' in 1.4. Set the value of `n_init` explicitly to suppress the warning\n",
      "  warnings.warn(\n",
      "/Users/eileengoh/opt/anaconda3/lib/python3.9/site-packages/sklearn/cluster/_kmeans.py:870: FutureWarning: The default value of `n_init` will change from 10 to 'auto' in 1.4. Set the value of `n_init` explicitly to suppress the warning\n",
      "  warnings.warn(\n",
      "/Users/eileengoh/opt/anaconda3/lib/python3.9/site-packages/sklearn/cluster/_kmeans.py:870: FutureWarning: The default value of `n_init` will change from 10 to 'auto' in 1.4. Set the value of `n_init` explicitly to suppress the warning\n",
      "  warnings.warn(\n",
      "/Users/eileengoh/opt/anaconda3/lib/python3.9/site-packages/sklearn/cluster/_kmeans.py:870: FutureWarning: The default value of `n_init` will change from 10 to 'auto' in 1.4. Set the value of `n_init` explicitly to suppress the warning\n",
      "  warnings.warn(\n"
     ]
    },
    {
     "data": {
      "image/png": "[encoded data removed]",
      "text/plain": [
       "<Figure size 432x288 with 1 Axes>"
      ]
     },
     "metadata": {
      "needs_background": "light"
     },
     "output_type": "display_data"
    }
   ],
   "source": [
    "SSE = []\n",
    "K = range(1,10)    \n",
    "# Create a KMeans object with desired number of clusters\n",
    "for k in K:\n",
    "    model_i = KMeans(n_clusters=k, random_state=99)\n",
    "    model_i.fit(x)\n",
    "    SSE.append(model_i.inertia_)\n",
    "\n",
    "# Plot the elbow\n",
    "import matplotlib.pyplot as plt\n",
    "plt.plot(K, SSE, 'bx-')\n",
    "plt.xlabel('k')\n",
    "plt.ylabel('SSE')\n",
    "plt.title('The Elbow Method showing the optimal k')\n",
    "plt.show()"
   ]
  },
  {
   "cell_type": "markdown",
   "id": "7451a98b",
   "metadata": {},
   "source": [
    "# Silhouette Scores\n",
    "A measure used to evaluate the quality of clustering results, to quantify how similar an object is to its own cluster compared to other clusters"
   ]
  },
  {
   "cell_type": "code",
   "execution_count": 19,
   "id": "2b6f2101",
   "metadata": {},
   "outputs": [
    {
     "name": "stderr",
     "output_type": "stream",
     "text": [
      "/Users/eileengoh/opt/anaconda3/lib/python3.9/site-packages/sklearn/cluster/_kmeans.py:870: FutureWarning: The default value of `n_init` will change from 10 to 'auto' in 1.4. Set the value of `n_init` explicitly to suppress the warning\n",
      "  warnings.warn(\n",
      "/Users/eileengoh/opt/anaconda3/lib/python3.9/site-packages/sklearn/cluster/_kmeans.py:870: FutureWarning: The default value of `n_init` will change from 10 to 'auto' in 1.4. Set the value of `n_init` explicitly to suppress the warning\n",
      "  warnings.warn(\n",
      "/Users/eileengoh/opt/anaconda3/lib/python3.9/site-packages/sklearn/cluster/_kmeans.py:870: FutureWarning: The default value of `n_init` will change from 10 to 'auto' in 1.4. Set the value of `n_init` explicitly to suppress the warning\n",
      "  warnings.warn(\n",
      "/Users/eileengoh/opt/anaconda3/lib/python3.9/site-packages/sklearn/cluster/_kmeans.py:870: FutureWarning: The default value of `n_init` will change from 10 to 'auto' in 1.4. Set the value of `n_init` explicitly to suppress the warning\n",
      "  warnings.warn(\n",
      "/Users/eileengoh/opt/anaconda3/lib/python3.9/site-packages/sklearn/cluster/_kmeans.py:870: FutureWarning: The default value of `n_init` will change from 10 to 'auto' in 1.4. Set the value of `n_init` explicitly to suppress the warning\n",
      "  warnings.warn(\n",
      "/Users/eileengoh/opt/anaconda3/lib/python3.9/site-packages/sklearn/cluster/_kmeans.py:870: FutureWarning: The default value of `n_init` will change from 10 to 'auto' in 1.4. Set the value of `n_init` explicitly to suppress the warning\n",
      "  warnings.warn(\n",
      "/Users/eileengoh/opt/anaconda3/lib/python3.9/site-packages/sklearn/cluster/_kmeans.py:870: FutureWarning: The default value of `n_init` will change from 10 to 'auto' in 1.4. Set the value of `n_init` explicitly to suppress the warning\n",
      "  warnings.warn(\n",
      "/Users/eileengoh/opt/anaconda3/lib/python3.9/site-packages/sklearn/cluster/_kmeans.py:870: FutureWarning: The default value of `n_init` will change from 10 to 'auto' in 1.4. Set the value of `n_init` explicitly to suppress the warning\n",
      "  warnings.warn(\n"
     ]
    },
    {
     "name": "stdout",
     "output_type": "stream",
     "text": [
      "For 2 clusters, The Silhouette Score: 0.2819268722012063\n",
      "For 3 clusters, The Silhouette Score: 0.32971233090829527\n",
      "For 4 clusters, The Silhouette Score: 0.20454566637128163\n",
      "For 5 clusters, The Silhouette Score: 0.09175517455217333\n",
      "For 6 clusters, The Silhouette Score: 0.18477824164214995\n",
      "For 7 clusters, The Silhouette Score: -0.035083087193598775\n",
      "For 8 clusters, The Silhouette Score: 0.18648772284374573\n",
      "For 9 clusters, The Silhouette Score: -0.01629777587261548\n",
      "For 10 clusters, The Silhouette Score: 0.0729435717293391\n",
      "For 11 clusters, The Silhouette Score: -0.10971928563898758\n",
      "For 12 clusters, The Silhouette Score: 0.0906134094115759\n",
      "For 13 clusters, The Silhouette Score: -0.07067606016766596\n"
     ]
    },
    {
     "name": "stderr",
     "output_type": "stream",
     "text": [
      "/Users/eileengoh/opt/anaconda3/lib/python3.9/site-packages/sklearn/cluster/_kmeans.py:870: FutureWarning: The default value of `n_init` will change from 10 to 'auto' in 1.4. Set the value of `n_init` explicitly to suppress the warning\n",
      "  warnings.warn(\n",
      "/Users/eileengoh/opt/anaconda3/lib/python3.9/site-packages/sklearn/cluster/_kmeans.py:870: FutureWarning: The default value of `n_init` will change from 10 to 'auto' in 1.4. Set the value of `n_init` explicitly to suppress the warning\n",
      "  warnings.warn(\n",
      "/Users/eileengoh/opt/anaconda3/lib/python3.9/site-packages/sklearn/cluster/_kmeans.py:870: FutureWarning: The default value of `n_init` will change from 10 to 'auto' in 1.4. Set the value of `n_init` explicitly to suppress the warning\n",
      "  warnings.warn(\n",
      "/Users/eileengoh/opt/anaconda3/lib/python3.9/site-packages/sklearn/cluster/_kmeans.py:870: FutureWarning: The default value of `n_init` will change from 10 to 'auto' in 1.4. Set the value of `n_init` explicitly to suppress the warning\n",
      "  warnings.warn(\n"
     ]
    },
    {
     "name": "stdout",
     "output_type": "stream",
     "text": [
      "For 14 clusters, The Silhouette Score: -0.02047371490729501\n",
      "Average score from cluster 2-14: 0.09157792814458493\n"
     ]
    },
    {
     "name": "stderr",
     "output_type": "stream",
     "text": [
      "/Users/eileengoh/opt/anaconda3/lib/python3.9/site-packages/sklearn/cluster/_kmeans.py:870: FutureWarning: The default value of `n_init` will change from 10 to 'auto' in 1.4. Set the value of `n_init` explicitly to suppress the warning\n",
      "  warnings.warn(\n"
     ]
    }
   ],
   "source": [
    "from sklearn.datasets import make_blobs\n",
    "from sklearn.cluster import KMeans\n",
    "from sklearn.metrics import silhouette_score, adjusted_rand_score\n",
    "\n",
    "all_score = 0\n",
    "\n",
    "for i in range(2,15):\n",
    "\n",
    "    # Initialize KMeans object with 4 clusters\n",
    "    kmeans = KMeans(n_clusters=i)\n",
    "\n",
    "    # Fit the data to the KMeans model\n",
    "    kmeans.fit(x)\n",
    "\n",
    "    # Get the Silhouette score\n",
    "    silhouette_score_value = silhouette_score(x, kmeans.labels_)\n",
    "    all_score += silhouette_score_value\n",
    "\n",
    "\n",
    "    # Print the Silhouette score\n",
    "    print(f\"For {i} clusters, The Silhouette Score:\", silhouette_score_value)\n",
    "average_score = all_score/13\n",
    "print(f\"Average score from cluster 2-14: {average_score}\")"
   ]
  }
 ],
 "metadata": {
  "kernelspec": {
   "display_name": "Python 3 (ipykernel)",
   "language": "python",
   "name": "python3"
  },
  "language_info": {
   "codemirror_mode": {
    "name": "ipython",
    "version": 3
   },
   "file_extension": ".py",
   "mimetype": "text/x-python",
   "name": "python",
   "nbconvert_exporter": "python",
   "pygments_lexer": "ipython3",
   "version": "3.9.7"
  }
 },
 "nbformat": 4,
 "nbformat_minor": 5
}
