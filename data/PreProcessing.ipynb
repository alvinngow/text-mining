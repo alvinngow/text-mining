{
 "cells": [
  {
   "cell_type": "code",
   "execution_count": 8,
   "id": "4d737416",
   "metadata": {},
   "outputs": [],
   "source": [
    "import pandas as pd\n",
    "from nltk import TweetTokenizer\n",
    "import translators as ts\n",
    "import validators\n",
    "import numpy as np\n",
    "from os import listdir"
   ]
  },
  {
   "cell_type": "code",
   "execution_count": 9,
   "id": "2a679592",
   "metadata": {},
   "outputs": [],
   "source": [
    "def CurrentIter():\n",
    "    files = listdir()\n",
    "    maxCount = 0\n",
    "    for file in files:\n",
    "        if '_' in file and 'csv' in file and 'preprocessed' in file:\n",
    "            fileCount = int(file.split('_')[1])\n",
    "            if fileCount > maxCount:\n",
    "                maxCount = fileCount\n",
    "    return maxCount + 1"
   ]
  },
  {
   "cell_type": "code",
   "execution_count": 10,
   "id": "7a7de8cf",
   "metadata": {},
   "outputs": [],
   "source": [
    "def TranslateTokenize(row):\n",
    "    language = row['language']\n",
    "    array = row['tokenized_text']\n",
    "    translatedArray = []\n",
    "    if language != 'en':\n",
    "        for token in array:\n",
    "            token = token.strip()\n",
    "            if len(token) > 0 and not validators.url(token):\n",
    "                translatedArray.append(ts.translate_text(query_text = token, translator = 'bing', to_language = 'en')) \n",
    "        return translatedArray\n",
    "    return array"
   ]
  },
  {
   "cell_type": "code",
   "execution_count": 11,
   "id": "61fc117b",
   "metadata": {},
   "outputs": [],
   "source": [
    "DF = pd.read_csv('./dataframe.csv')\n",
    "DF.drop_duplicates(inplace = True)\n",
    "TT = TweetTokenizer()\n",
    "DF['tokenized_text'] = DF['tweet'].apply(TT.tokenize)\n",
    "DFSplit = np.array_split(DF, 1000)"
   ]
  },
  {
   "cell_type": "code",
   "execution_count": null,
   "id": "629e77d5",
   "metadata": {},
   "outputs": [],
   "source": [
    "count = CurrentIter()\n",
    "for df in DFSplit[count:]:\n",
    "    df['translated_tokenized_text'] = df.apply(TranslateTokenize, axis = 1)\n",
    "    df.to_csv(f'./dataframe_{count}_preprocessed.csv', index = False)\n",
    "    count += 1"
   ]
  },
  {
   "cell_type": "code",
   "execution_count": null,
   "id": "122efc9d",
   "metadata": {},
   "outputs": [],
   "source": []
  }
 ],
 "metadata": {
  "kernelspec": {
   "display_name": "Python 3 (ipykernel)",
   "language": "python",
   "name": "python3"
  },
  "language_info": {
   "codemirror_mode": {
    "name": "ipython",
    "version": 3
   },
   "file_extension": ".py",
   "mimetype": "text/x-python",
   "name": "python",
   "nbconvert_exporter": "python",
   "pygments_lexer": "ipython3",
   "version": "3.9.2"
  }
 },
 "nbformat": 4,
 "nbformat_minor": 5
}
