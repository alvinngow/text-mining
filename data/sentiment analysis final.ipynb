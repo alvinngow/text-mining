{
 "cells": [
  {
   "cell_type": "code",
   "execution_count": 1,
   "id": "69d84e93",
   "metadata": {},
   "outputs": [
    {
     "name": "stderr",
     "output_type": "stream",
     "text": [
      "/Users/ngohanping/opt/anaconda3/lib/python3.9/site-packages/scipy/__init__.py:146: UserWarning: A NumPy version >=1.16.5 and <1.23.0 is required for this version of SciPy (detected version 1.24.2\n",
      "  warnings.warn(f\"A NumPy version >={np_minversion} and <{np_maxversion}\"\n"
     ]
    }
   ],
   "source": [
    "import gensim\n",
    "import csv\n",
    "import pandas as pd\n",
    "import numpy as np\n",
    "\n",
    "# text preprocessing\n",
    "import nltk\n",
    "from nltk import word_tokenize\n",
    "from nltk.stem import PorterStemmer\n",
    "from nltk.corpus import stopwords\n",
    "import re\n",
    "\n",
    "# plots and metrics\n",
    "import matplotlib.pyplot as plt\n",
    "import seaborn as sns\n",
    "from sklearn.model_selection import train_test_split\n",
    "from sklearn.metrics import accuracy_score, f1_score, confusion_matrix, precision_score, recall_score\n",
    "\n",
    "# feature extraction / vectorization\n",
    "from sklearn.feature_extraction.text import CountVectorizer, TfidfVectorizer\n",
    "\n",
    "# classifiers\n",
    "from sklearn.naive_bayes import MultinomialNB\n",
    "from sklearn.linear_model import LogisticRegression, SGDClassifier\n",
    "from sklearn.ensemble import RandomForestClassifier\n",
    "from sklearn.svm import LinearSVC\n",
    "from sklearn.pipeline import Pipeline\n",
    "\n",
    "# save and load a file\n",
    "import pickle"
   ]
  },
  {
   "cell_type": "markdown",
   "id": "c42c01ac",
   "metadata": {},
   "source": [
    "# Importing Training Dataset\n",
    "Training data are from sentiment140 -- http://help.sentiment140.com/for-students/. <br>\n",
    "Data set is reduced from 1.6 million to 400k due to it being computationally heavy. <br>"
   ]
  },
  {
   "cell_type": "code",
   "execution_count": 2,
   "id": "418d31f8",
   "metadata": {},
   "outputs": [
    {
     "data": {
      "text/html": [
       "<div>\n",
       "<style scoped>\n",
       "    .dataframe tbody tr th:only-of-type {\n",
       "        vertical-align: middle;\n",
       "    }\n",
       "\n",
       "    .dataframe tbody tr th {\n",
       "        vertical-align: top;\n",
       "    }\n",
       "\n",
       "    .dataframe thead th {\n",
       "        text-align: right;\n",
       "    }\n",
       "</style>\n",
       "<table border=\"1\" class=\"dataframe\">\n",
       "  <thead>\n",
       "    <tr style=\"text-align: right;\">\n",
       "      <th></th>\n",
       "      <th>sentiment</th>\n",
       "      <th>tweet</th>\n",
       "    </tr>\n",
       "  </thead>\n",
       "  <tbody>\n",
       "    <tr>\n",
       "      <th>0</th>\n",
       "      <td>0</td>\n",
       "      <td>@chrishasboobs AHHH I HOPE YOUR OK!!!</td>\n",
       "    </tr>\n",
       "    <tr>\n",
       "      <th>1</th>\n",
       "      <td>0</td>\n",
       "      <td>@misstoriblack cool , i have no tweet apps  fo...</td>\n",
       "    </tr>\n",
       "    <tr>\n",
       "      <th>2</th>\n",
       "      <td>0</td>\n",
       "      <td>@TiannaChaos i know  just family drama. its la...</td>\n",
       "    </tr>\n",
       "    <tr>\n",
       "      <th>3</th>\n",
       "      <td>0</td>\n",
       "      <td>School email won't open  and I have geography ...</td>\n",
       "    </tr>\n",
       "    <tr>\n",
       "      <th>4</th>\n",
       "      <td>0</td>\n",
       "      <td>upper airways problem</td>\n",
       "    </tr>\n",
       "    <tr>\n",
       "      <th>...</th>\n",
       "      <td>...</td>\n",
       "      <td>...</td>\n",
       "    </tr>\n",
       "    <tr>\n",
       "      <th>399995</th>\n",
       "      <td>0</td>\n",
       "      <td>@brykins Splendid! I was told I looked like a ...</td>\n",
       "    </tr>\n",
       "    <tr>\n",
       "      <th>399996</th>\n",
       "      <td>0</td>\n",
       "      <td>@herbadmother I'm so sorry!  that IS sad</td>\n",
       "    </tr>\n",
       "    <tr>\n",
       "      <th>399997</th>\n",
       "      <td>1</td>\n",
       "      <td>@JosieStingray Sounds like Eddie Murphy is coo...</td>\n",
       "    </tr>\n",
       "    <tr>\n",
       "      <th>399998</th>\n",
       "      <td>0</td>\n",
       "      <td>http://twitpic.com/4incl - The tiny Porter pla...</td>\n",
       "    </tr>\n",
       "    <tr>\n",
       "      <th>399999</th>\n",
       "      <td>1</td>\n",
       "      <td>Im glad i got my old gameboy to work,now whene...</td>\n",
       "    </tr>\n",
       "  </tbody>\n",
       "</table>\n",
       "<p>400000 rows × 2 columns</p>\n",
       "</div>"
      ],
      "text/plain": [
       "        sentiment                                              tweet\n",
       "0               0             @chrishasboobs AHHH I HOPE YOUR OK!!! \n",
       "1               0  @misstoriblack cool , i have no tweet apps  fo...\n",
       "2               0  @TiannaChaos i know  just family drama. its la...\n",
       "3               0  School email won't open  and I have geography ...\n",
       "4               0                             upper airways problem \n",
       "...           ...                                                ...\n",
       "399995          0  @brykins Splendid! I was told I looked like a ...\n",
       "399996          0          @herbadmother I'm so sorry!  that IS sad \n",
       "399997          1  @JosieStingray Sounds like Eddie Murphy is coo...\n",
       "399998          0  http://twitpic.com/4incl - The tiny Porter pla...\n",
       "399999          1  Im glad i got my old gameboy to work,now whene...\n",
       "\n",
       "[400000 rows x 2 columns]"
      ]
     },
     "execution_count": 2,
     "metadata": {},
     "output_type": "execute_result"
    }
   ],
   "source": [
    "# Read the CSV file into a pandas DataFrame\n",
    "# Replace 'your_data.csv' with the path to your CSV file\n",
    "data = pd.read_csv('400k_sampled_data.csv')\n",
    "data"
   ]
  },
  {
   "cell_type": "markdown",
   "id": "7b31b14b",
   "metadata": {},
   "source": [
    "## Defining proprocessing functions\n",
    "We are looking to explore two levels of preprocessing, the base level of text lowering and stemming, while the other with the addition of removing urls, hashtags, names, punctuations and non-ascii digits."
   ]
  },
  {
   "cell_type": "code",
   "execution_count": 3,
   "id": "2c94f71a",
   "metadata": {},
   "outputs": [],
   "source": [
    "# Define a preprocessing function\n",
    "def preprocess_text(text):\n",
    "    stop_list = nltk.corpus.stopwords.words('english')\n",
    "    stemmer = nltk.stem.porter.PorterStemmer()\n",
    "    \n",
    "    # Tokenize\n",
    "    sent = nltk.word_tokenize(text)\n",
    "    \n",
    "    # Text lowering\n",
    "    sent = [w.lower() for w in sent]\n",
    "\n",
    "    # Stop word removal. Optional!\n",
    "    # sent = [w for w in sent if w not in stop_list]\n",
    "\n",
    "    # Stemming. Optional!\n",
    "    sent = [stemmer.stem(w) for w in sent]\n",
    "    \n",
    "    \n",
    "    return sent"
   ]
  },
  {
   "cell_type": "code",
   "execution_count": 4,
   "id": "28aca61d",
   "metadata": {},
   "outputs": [],
   "source": [
    "def preprocess_and_tokenize(data):\n",
    "    #remove html markup\n",
    "    data = re.sub(\"(<.*?>)\", \"\", data)\n",
    "\n",
    "    #remove urls\n",
    "    data = re.sub(r'http\\S+', '', data)\n",
    "    \n",
    "    #remove hashtags and @names\n",
    "    data= re.sub(r\"(#[\\d\\w\\.]+)\", '', data)\n",
    "    data= re.sub(r\"(@[\\d\\w\\.]+)\", '', data)\n",
    "\n",
    "    #remove punctuation and non-ascii digits\n",
    "    data = re.sub(\"(\\\\W|\\\\d)\", \" \", data)\n",
    "    \n",
    "    #remove whitespace\n",
    "    data = data.strip()\n",
    "    \n",
    "    # tokenization with nltk\n",
    "    data = word_tokenize(data)\n",
    "    \n",
    "    # stemming with nltk\n",
    "    porter = PorterStemmer()\n",
    "    stem_data = [porter.stem(word) for word in data]\n",
    "    \n",
    "    return stem_data"
   ]
  },
  {
   "cell_type": "markdown",
   "id": "35cba6e6",
   "metadata": {},
   "source": [
    "### Applying preprocessing function to the training data"
   ]
  },
  {
   "cell_type": "code",
   "execution_count": 5,
   "id": "6f275e51",
   "metadata": {
    "scrolled": true
   },
   "outputs": [
    {
     "data": {
      "text/html": [
       "<div>\n",
       "<style scoped>\n",
       "    .dataframe tbody tr th:only-of-type {\n",
       "        vertical-align: middle;\n",
       "    }\n",
       "\n",
       "    .dataframe tbody tr th {\n",
       "        vertical-align: top;\n",
       "    }\n",
       "\n",
       "    .dataframe thead th {\n",
       "        text-align: right;\n",
       "    }\n",
       "</style>\n",
       "<table border=\"1\" class=\"dataframe\">\n",
       "  <thead>\n",
       "    <tr style=\"text-align: right;\">\n",
       "      <th></th>\n",
       "      <th>sentiment</th>\n",
       "      <th>tweet</th>\n",
       "      <th>preprocessed_tweet</th>\n",
       "      <th>more_preprocessed_tweet</th>\n",
       "    </tr>\n",
       "  </thead>\n",
       "  <tbody>\n",
       "    <tr>\n",
       "      <th>0</th>\n",
       "      <td>0</td>\n",
       "      <td>@chrishasboobs AHHH I HOPE YOUR OK!!!</td>\n",
       "      <td>[@, chrishasboob, ahhh, i, hope, your, ok, !, ...</td>\n",
       "      <td>[ahhh, i, hope, your, ok]</td>\n",
       "    </tr>\n",
       "    <tr>\n",
       "      <th>1</th>\n",
       "      <td>0</td>\n",
       "      <td>@misstoriblack cool , i have no tweet apps  fo...</td>\n",
       "      <td>[@, misstoriblack, cool, ,, i, have, no, tweet...</td>\n",
       "      <td>[cool, i, have, no, tweet, app, for, my, razr]</td>\n",
       "    </tr>\n",
       "    <tr>\n",
       "      <th>2</th>\n",
       "      <td>0</td>\n",
       "      <td>@TiannaChaos i know  just family drama. its la...</td>\n",
       "      <td>[@, tiannachao, i, know, just, famili, drama, ...</td>\n",
       "      <td>[i, know, just, famili, drama, it, lame, hey, ...</td>\n",
       "    </tr>\n",
       "    <tr>\n",
       "      <th>3</th>\n",
       "      <td>0</td>\n",
       "      <td>School email won't open  and I have geography ...</td>\n",
       "      <td>[school, email, wo, n't, open, and, i, have, g...</td>\n",
       "      <td>[school, email, won, t, open, and, i, have, ge...</td>\n",
       "    </tr>\n",
       "    <tr>\n",
       "      <th>4</th>\n",
       "      <td>0</td>\n",
       "      <td>upper airways problem</td>\n",
       "      <td>[upper, airway, problem]</td>\n",
       "      <td>[upper, airway, problem]</td>\n",
       "    </tr>\n",
       "    <tr>\n",
       "      <th>...</th>\n",
       "      <td>...</td>\n",
       "      <td>...</td>\n",
       "      <td>...</td>\n",
       "      <td>...</td>\n",
       "    </tr>\n",
       "    <tr>\n",
       "      <th>399995</th>\n",
       "      <td>0</td>\n",
       "      <td>@brykins Splendid! I was told I looked like a ...</td>\n",
       "      <td>[@, brykin, splendid, !, i, wa, told, i, look,...</td>\n",
       "      <td>[splendid, i, wa, told, i, look, like, a, moom...</td>\n",
       "    </tr>\n",
       "    <tr>\n",
       "      <th>399996</th>\n",
       "      <td>0</td>\n",
       "      <td>@herbadmother I'm so sorry!  that IS sad</td>\n",
       "      <td>[@, herbadmoth, i, 'm, so, sorri, !, that, is,...</td>\n",
       "      <td>[i, m, so, sorri, that, is, sad]</td>\n",
       "    </tr>\n",
       "    <tr>\n",
       "      <th>399997</th>\n",
       "      <td>1</td>\n",
       "      <td>@JosieStingray Sounds like Eddie Murphy is coo...</td>\n",
       "      <td>[@, josiestingray, sound, like, eddi, murphi, ...</td>\n",
       "      <td>[sound, like, eddi, murphi, is, cook, tonight,...</td>\n",
       "    </tr>\n",
       "    <tr>\n",
       "      <th>399998</th>\n",
       "      <td>0</td>\n",
       "      <td>http://twitpic.com/4incl - The tiny Porter pla...</td>\n",
       "      <td>[http, :, //twitpic.com/4incl, -, the, tini, p...</td>\n",
       "      <td>[the, tini, porter, plane, that, took, me, fro...</td>\n",
       "    </tr>\n",
       "    <tr>\n",
       "      <th>399999</th>\n",
       "      <td>1</td>\n",
       "      <td>Im glad i got my old gameboy to work,now whene...</td>\n",
       "      <td>[im, glad, i, got, my, old, gameboy, to, work,...</td>\n",
       "      <td>[im, glad, i, got, my, old, gameboy, to, work,...</td>\n",
       "    </tr>\n",
       "  </tbody>\n",
       "</table>\n",
       "<p>400000 rows × 4 columns</p>\n",
       "</div>"
      ],
      "text/plain": [
       "        sentiment                                              tweet  \\\n",
       "0               0             @chrishasboobs AHHH I HOPE YOUR OK!!!    \n",
       "1               0  @misstoriblack cool , i have no tweet apps  fo...   \n",
       "2               0  @TiannaChaos i know  just family drama. its la...   \n",
       "3               0  School email won't open  and I have geography ...   \n",
       "4               0                             upper airways problem    \n",
       "...           ...                                                ...   \n",
       "399995          0  @brykins Splendid! I was told I looked like a ...   \n",
       "399996          0          @herbadmother I'm so sorry!  that IS sad    \n",
       "399997          1  @JosieStingray Sounds like Eddie Murphy is coo...   \n",
       "399998          0  http://twitpic.com/4incl - The tiny Porter pla...   \n",
       "399999          1  Im glad i got my old gameboy to work,now whene...   \n",
       "\n",
       "                                       preprocessed_tweet  \\\n",
       "0       [@, chrishasboob, ahhh, i, hope, your, ok, !, ...   \n",
       "1       [@, misstoriblack, cool, ,, i, have, no, tweet...   \n",
       "2       [@, tiannachao, i, know, just, famili, drama, ...   \n",
       "3       [school, email, wo, n't, open, and, i, have, g...   \n",
       "4                                [upper, airway, problem]   \n",
       "...                                                   ...   \n",
       "399995  [@, brykin, splendid, !, i, wa, told, i, look,...   \n",
       "399996  [@, herbadmoth, i, 'm, so, sorri, !, that, is,...   \n",
       "399997  [@, josiestingray, sound, like, eddi, murphi, ...   \n",
       "399998  [http, :, //twitpic.com/4incl, -, the, tini, p...   \n",
       "399999  [im, glad, i, got, my, old, gameboy, to, work,...   \n",
       "\n",
       "                                  more_preprocessed_tweet  \n",
       "0                               [ahhh, i, hope, your, ok]  \n",
       "1          [cool, i, have, no, tweet, app, for, my, razr]  \n",
       "2       [i, know, just, famili, drama, it, lame, hey, ...  \n",
       "3       [school, email, won, t, open, and, i, have, ge...  \n",
       "4                                [upper, airway, problem]  \n",
       "...                                                   ...  \n",
       "399995  [splendid, i, wa, told, i, look, like, a, moom...  \n",
       "399996                   [i, m, so, sorri, that, is, sad]  \n",
       "399997  [sound, like, eddi, murphi, is, cook, tonight,...  \n",
       "399998  [the, tini, porter, plane, that, took, me, fro...  \n",
       "399999  [im, glad, i, got, my, old, gameboy, to, work,...  \n",
       "\n",
       "[400000 rows x 4 columns]"
      ]
     },
     "execution_count": 5,
     "metadata": {},
     "output_type": "execute_result"
    }
   ],
   "source": [
    "# Apply the preprocessing function to the \"tweet\" column\n",
    "data['preprocessed_tweet'] = data['tweet'].apply(preprocess_text)\n",
    "data['more_preprocessed_tweet'] = data['tweet'].apply(preprocess_and_tokenize)\n",
    "\n",
    "data"
   ]
  },
  {
   "cell_type": "markdown",
   "id": "15d30c99",
   "metadata": {},
   "source": [
    "## Converting into train/test data\n",
    "Data are split into labels and corpus, accordingly to what was split. <br>\n",
    "Afterwards, each sentence will be vectorised and stored in the dictionary, together with its respective label. <br>"
   ]
  },
  {
   "cell_type": "code",
   "execution_count": 6,
   "id": "eb1749ee",
   "metadata": {},
   "outputs": [],
   "source": [
    "# Split the data into training and test data (80% train, 20% test)\n",
    "train_data, test_data = train_test_split(data, test_size=0.2, random_state=42)"
   ]
  },
  {
   "cell_type": "code",
   "execution_count": 7,
   "id": "7c329657",
   "metadata": {},
   "outputs": [],
   "source": [
    "# We use the following list to store the sequence of sentence labels.\n",
    "train_labels = []\n",
    "\n",
    "# We use the following list to store the sentences, where each sentence itself is a list of words.\n",
    "train_corpus = []\n",
    "\n",
    "# We use the following list to store the sentences, where each sentence itself is a list of words.\n",
    "m_train_corpus = []\n",
    "\n",
    "for index, row in train_data.iterrows():\n",
    "    train_corpus.append(row['preprocessed_tweet'])\n",
    "    m_train_corpus.append(row['more_preprocessed_tweet'])\n",
    "    train_labels.append(row['sentiment'])"
   ]
  },
  {
   "cell_type": "code",
   "execution_count": 8,
   "id": "c62c13a7",
   "metadata": {
    "scrolled": true
   },
   "outputs": [
    {
     "name": "stdout",
     "output_type": "stream",
     "text": [
      "Finished reading sentences from the training data file.\n"
     ]
    }
   ],
   "source": [
    "# We use the following list to store the sequence of test sentence labels.\n",
    "test_labels = []\n",
    "\n",
    "# We use the following list to store the sentences, where each sentence itself is a list of words.\n",
    "test_corpus = []\n",
    "\n",
    "# We use the following list to store the sentences, where each sentence itself is a list of words.\n",
    "m_test_corpus = []\n",
    "\n",
    "for index, row in test_data.iterrows():\n",
    "    test_corpus.append(row['preprocessed_tweet'])\n",
    "    m_test_corpus.append(row['more_preprocessed_tweet'])\n",
    "\n",
    "    test_labels.append(row['sentiment'])\n",
    "    \n",
    "print('Finished reading sentences from the training data file.')"
   ]
  },
  {
   "cell_type": "code",
   "execution_count": 9,
   "id": "1527df4a",
   "metadata": {},
   "outputs": [
    {
     "name": "stdout",
     "output_type": "stream",
     "text": [
      "Amount of training data: 320000\n",
      "Amount of testing data: 80000\n"
     ]
    }
   ],
   "source": [
    "print(\"Amount of training data:\", len(train_corpus))\n",
    "print(\"Amount of testing data:\", len(test_corpus))"
   ]
  },
  {
   "cell_type": "code",
   "execution_count": 10,
   "id": "e53600c5",
   "metadata": {},
   "outputs": [
    {
     "name": "stdout",
     "output_type": "stream",
     "text": [
      "Finished preparing the training data.\n"
     ]
    }
   ],
   "source": [
    "# Create a dictionary from the corpus.\n",
    "dictionary = gensim.corpora.Dictionary(train_corpus)\n",
    "\n",
    "# Store the labeled training data in the following list.\n",
    "labeled_training_data = []\n",
    "    \n",
    "# Going through the two lists in parallel to create the labeled data set.\n",
    "for (l, s) in zip(train_labels, train_corpus):\n",
    "\n",
    "    # Convert the original sentence into a vector.\n",
    "    vector = dictionary.doc2bow(s)\n",
    "    \n",
    "    # Create a dict object to store the document vector (in order to use NLTK's classifier later)\n",
    "    sent_as_dict = {id:1 for (id, tf) in vector}\n",
    "    \n",
    "    # Add the labeled sentence to the labeled data set.\n",
    "    labeled_training_data.append((sent_as_dict, l))\n",
    "    \n",
    "print('Finished preparing the training data.')\n"
   ]
  },
  {
   "cell_type": "markdown",
   "id": "9be40daa",
   "metadata": {},
   "source": [
    "## Another way of converting text into vector before splitting into train/test data"
   ]
  },
  {
   "cell_type": "code",
   "execution_count": 55,
   "id": "79eae1af",
   "metadata": {},
   "outputs": [],
   "source": [
    "# Step 3: Convert the text data into bag-of-words vectors\n",
    "vectorizer = CountVectorizer()\n",
    "\n",
    "# Assuming data['preprocessed_tweet'] is a list of lists (tokenized sentences)\n",
    "joined_tweets = [' '.join(tokens) for tokens in data['preprocessed_tweet']]\n",
    "\n",
    "m_joined_tweets = [' '.join(tokens) for tokens in data['more_preprocessed_tweet']]\n",
    "\n",
    "\n",
    "# join tweets after it is preprocessed\n",
    "X = vectorizer.fit_transform(joined_tweets)\n",
    "m_X = vectorizer.fit_transform(m_joined_tweets)\n",
    "y = data['sentiment']\n",
    "\n",
    "# Split the data into train and test sets\n",
    "v_X_train, v_X_test, v_y_train, v_y_test = train_test_split(X, y, test_size=0.2, random_state=42)\n",
    "\n",
    "# Split the data into train and test sets\n",
    "m_X_train, m_X_test, m_y_train, m_y_test = train_test_split(m_X, y, test_size=0.2, random_state=42)\n"
   ]
  },
  {
   "cell_type": "markdown",
   "id": "7277e561",
   "metadata": {},
   "source": [
    "## Preparing the test data\n",
    "By vectorising the sentences into a dictionary and its respective labels."
   ]
  },
  {
   "cell_type": "code",
   "execution_count": 12,
   "id": "ef1c313c",
   "metadata": {
    "scrolled": false
   },
   "outputs": [
    {
     "name": "stdout",
     "output_type": "stream",
     "text": [
      "Finished preparing the test data.\n"
     ]
    }
   ],
   "source": [
    "# Process the test set and predict labels using the trained classifier.\n",
    "labeled_test_data = []\n",
    "\n",
    "for s in test_corpus:\n",
    "    v_vector = dictionary.doc2bow(s)\n",
    "    v_sent_as_dict = {id: 1 for (id, tf) in v_vector}\n",
    "    labeled_test_data.append(v_sent_as_dict)\n",
    "    \n",
    "print('Finished preparing the test data.')"
   ]
  },
  {
   "cell_type": "code",
   "execution_count": 13,
   "id": "40783338",
   "metadata": {},
   "outputs": [],
   "source": [
    "class_names = ['positive', 'negative']"
   ]
  },
  {
   "cell_type": "markdown",
   "id": "06fd2100",
   "metadata": {},
   "source": [
    "# Evaluations of Classifiers\n",
    "We will be using confusion matrix to evaluate the accuracy of a model. <br>\n",
    "So first, we will define the function of confusion matrix that allows us to visualise it."
   ]
  },
  {
   "cell_type": "code",
   "execution_count": 14,
   "id": "7e66bd77",
   "metadata": {},
   "outputs": [],
   "source": [
    "def plot_confusion_matrix(y_true, y_pred, classes,\n",
    "                          normalize=False,\n",
    "                          title=None,\n",
    "                          cmap=plt.cm.Blues):\n",
    "    '''\n",
    "    This function prints and plots the confusion matrix.\n",
    "    Normalization can be applied by setting `normalize=True`.\n",
    "    '''\n",
    "    if not title:\n",
    "        if normalize:\n",
    "            title = 'Normalized confusion matrix'\n",
    "        else:\n",
    "            title = 'Confusion matrix, without normalization'\n",
    "\n",
    "    # Compute confusion matrix\n",
    "    cm = confusion_matrix(y_true, y_pred)\n",
    "\n",
    "    if normalize:\n",
    "        cm = cm.astype('float') / cm.sum(axis=1)[:, np.newaxis]\n",
    "\n",
    "    fig, ax = plt.subplots()\n",
    "    \n",
    "    # Set size\n",
    "    fig.set_size_inches(12.5, 7.5)\n",
    "    im = ax.imshow(cm, interpolation='nearest', cmap=cmap)\n",
    "    ax.figure.colorbar(im, ax=ax)\n",
    "    ax.grid(False)\n",
    "    \n",
    "    # We want to show all ticks...\n",
    "    ax.set(xticks=np.arange(cm.shape[1]),\n",
    "           yticks=np.arange(cm.shape[0]),\n",
    "           # ... and label them with the respective list entries\n",
    "           xticklabels=classes, yticklabels=classes,\n",
    "           title=title,\n",
    "           ylabel='True label',\n",
    "           xlabel='Predicted label')\n",
    "\n",
    "    # Rotate the tick labels and set their alignment.\n",
    "    plt.setp(ax.get_xticklabels(), rotation=45, ha=\"right\",\n",
    "             rotation_mode=\"anchor\")\n",
    "\n",
    "    # Loop over data dimensions and create text annotations.\n",
    "    fmt = '.4f' if normalize else 'd'\n",
    "    thresh = cm.max() / 2.\n",
    "    for i in range(cm.shape[0]):\n",
    "        for j in range(cm.shape[1]):\n",
    "            ax.text(j, i, format(cm[i, j], fmt),\n",
    "                    ha=\"center\", va=\"center\",\n",
    "                    color=\"white\" if cm[i, j] > thresh else \"black\")\n",
    "    fig.tight_layout()\n",
    "    return ax"
   ]
  },
  {
   "cell_type": "markdown",
   "id": "b62d3f53",
   "metadata": {},
   "source": [
    "# Evaluations of Base Model\n",
    "Base model only consist of minimal preprocessing like text lowering and stemming\n",
    "### Results after using Naives Bayes"
   ]
  },
  {
   "cell_type": "code",
   "execution_count": 15,
   "id": "448fc413",
   "metadata": {},
   "outputs": [
    {
     "name": "stdout",
     "output_type": "stream",
     "text": [
      "Finished training Naive Bayes classifier.\n"
     ]
    }
   ],
   "source": [
    "# Training a classifier.\n",
    "classifier = nltk.NaiveBayesClassifier.train(labeled_training_data)\n",
    "\n",
    "print('Finished training Naive Bayes classifier.')"
   ]
  },
  {
   "cell_type": "code",
   "execution_count": 16,
   "id": "b7378f78",
   "metadata": {},
   "outputs": [
    {
     "name": "stdout",
     "output_type": "stream",
     "text": [
      "Accuracy on training data using Naive Bayes:  0.85834375\n"
     ]
    }
   ],
   "source": [
    "# Training data accuracy using naive bayes\n",
    "print(\"Accuracy on training data using Naive Bayes: \", nltk.classify.accuracy(classifier, labeled_training_data))"
   ]
  },
  {
   "cell_type": "code",
   "execution_count": 17,
   "id": "1f1fe0e2",
   "metadata": {},
   "outputs": [],
   "source": [
    "# predict labels using the trained classifier.\n",
    "predicted_labels = [classifier.classify(sent) for sent in labeled_test_data]"
   ]
  },
  {
   "cell_type": "code",
   "execution_count": 18,
   "id": "f0bc05de",
   "metadata": {},
   "outputs": [
    {
     "name": "stdout",
     "output_type": "stream",
     "text": [
      "Accuracy: 76.4600%\n",
      "Precision: 77.0999%\n",
      "Recall: 76.4600%\n",
      "F1 Score: 0.7633\n"
     ]
    },
    {
     "data": {
      "image/png": "[encoded data removed]",
      "text/plain": [
       "<Figure size 900x540 with 2 Axes>"
      ]
     },
     "metadata": {
      "needs_background": "light"
     },
     "output_type": "display_data"
    }
   ],
   "source": [
    "print(\"Accuracy: {:.4f}%\".format(accuracy_score(test_labels, predicted_labels) * 100))\n",
    "print(\"Precision: {:.4f}%\".format(precision_score(test_labels, predicted_labels, average='weighted') * 100))\n",
    "print(\"Recall: {:.4f}%\".format(recall_score(test_labels, predicted_labels, average='weighted') * 100))\n",
    "print(\"F1 Score: {:.4f}\".format(f1_score(test_labels, predicted_labels, average='weighted')))\n",
    "\n",
    "# Plot normalized confusion matrix\n",
    "plot_confusion_matrix(test_labels, predicted_labels, classes=class_names, normalize=True, title='Normalized confusion matrix')\n",
    "plt.show()"
   ]
  },
  {
   "cell_type": "markdown",
   "id": "34fa81f5",
   "metadata": {},
   "source": [
    "### Results after using maxent"
   ]
  },
  {
   "cell_type": "code",
   "execution_count": 19,
   "id": "b863d54d",
   "metadata": {},
   "outputs": [
    {
     "name": "stdout",
     "output_type": "stream",
     "text": [
      "  ==> Training (10 iterations)\n",
      "\n",
      "      Iteration    Log Likelihood    Accuracy\n",
      "      ---------------------------------------\n",
      "             1          -0.69315        0.501\n",
      "             2          -0.69314        0.837\n",
      "             3          -0.69314        0.837\n",
      "             4          -0.69313        0.837\n",
      "             5          -0.69313        0.837\n",
      "             6          -0.69312        0.837\n",
      "             7          -0.69312        0.837\n",
      "             8          -0.69311        0.837\n",
      "             9          -0.69311        0.837\n",
      "         Final          -0.69310        0.837\n",
      "Finished training Maxent classifier.\n"
     ]
    }
   ],
   "source": [
    "#Set iterations and the define classifer\n",
    "numIterations = 10\n",
    "algorithm = nltk.classify.MaxentClassifier.ALGORITHMS[0]\n",
    "\n",
    "#Train the classifier \n",
    "entclassifier = nltk.MaxentClassifier.train(labeled_training_data, algorithm, max_iter=numIterations)\n",
    "\n",
    "print('Finished training Maxent classifier.')"
   ]
  },
  {
   "cell_type": "code",
   "execution_count": 20,
   "id": "61e423a6",
   "metadata": {},
   "outputs": [
    {
     "name": "stdout",
     "output_type": "stream",
     "text": [
      "Accuracy on training data using Maxent:  0.836765625\n"
     ]
    }
   ],
   "source": [
    "# Training data accuracy using maxent\n",
    "print(\"Accuracy on training data using Maxent: \", nltk.classify.accuracy(entclassifier, labeled_training_data))"
   ]
  },
  {
   "cell_type": "code",
   "execution_count": 21,
   "id": "bc6ef874",
   "metadata": {},
   "outputs": [],
   "source": [
    "# predict labels using the trained classifier.\n",
    "ent_predicted_labels = [entclassifier.classify(sent) for sent in labeled_test_data]"
   ]
  },
  {
   "cell_type": "code",
   "execution_count": 22,
   "id": "deecf9e7",
   "metadata": {},
   "outputs": [
    {
     "name": "stdout",
     "output_type": "stream",
     "text": [
      "Accuracy: 76.6962%\n",
      "Precision: 77.2988%\n",
      "Recall: 76.6962%\n",
      "F1 Score: 0.7658\n"
     ]
    },
    {
     "data": {
      "image/png": "[encoded data removed]",
      "text/plain": [
       "<Figure size 900x540 with 2 Axes>"
      ]
     },
     "metadata": {
      "needs_background": "light"
     },
     "output_type": "display_data"
    }
   ],
   "source": [
    "print(\"Accuracy: {:.4f}%\".format(accuracy_score(test_labels, ent_predicted_labels) * 100))\n",
    "print(\"Precision: {:.4f}%\".format(precision_score(test_labels, ent_predicted_labels, average='weighted') * 100))\n",
    "print(\"Recall: {:.4f}%\".format(recall_score(test_labels, ent_predicted_labels, average='weighted') * 100))\n",
    "print(\"F1 Score: {:.4f}\".format(f1_score(test_labels, ent_predicted_labels, average='weighted')))\n",
    "\n",
    "# Plot normalized confusion matrix\n",
    "plot_confusion_matrix(test_labels, ent_predicted_labels, classes=class_names, normalize=True, title='Normalized confusion matrix')\n",
    "plt.show()"
   ]
  },
  {
   "cell_type": "markdown",
   "id": "a2a972d4",
   "metadata": {},
   "source": [
    "### Using Logistic Regression"
   ]
  },
  {
   "cell_type": "code",
   "execution_count": 23,
   "id": "670fda5d",
   "metadata": {},
   "outputs": [
    {
     "name": "stderr",
     "output_type": "stream",
     "text": [
      "/Users/ngohanping/opt/anaconda3/lib/python3.9/site-packages/sklearn/linear_model/_logistic.py:763: ConvergenceWarning: lbfgs failed to converge (status=1):\n",
      "STOP: TOTAL NO. of ITERATIONS REACHED LIMIT.\n",
      "\n",
      "Increase the number of iterations (max_iter) or scale the data as shown in:\n",
      "    https://scikit-learn.org/stable/modules/preprocessing.html\n",
      "Please also refer to the documentation for alternative solver options:\n",
      "    https://scikit-learn.org/stable/modules/linear_model.html#logistic-regression\n",
      "  n_iter_i = _check_optimize_result(\n"
     ]
    }
   ],
   "source": [
    "# Step 4: Train the logistic regression model\n",
    "lr = LogisticRegression()\n",
    "lr.fit(v_X_train, v_y_train)\n",
    "\n",
    "# Step 5: Evaluate the model\n",
    "y_pred = lr.predict(v_X_test)"
   ]
  },
  {
   "cell_type": "code",
   "execution_count": 24,
   "id": "29d626e4",
   "metadata": {},
   "outputs": [
    {
     "name": "stdout",
     "output_type": "stream",
     "text": [
      "Accuracy: 78.4575%\n",
      "Precision: 78.4796%\n",
      "Recall: 78.4575%\n",
      "F1 Score: 0.7845\n"
     ]
    },
    {
     "data": {
      "image/png": "[encoded data removed]",
      "text/plain": [
       "<Figure size 900x540 with 2 Axes>"
      ]
     },
     "metadata": {
      "needs_background": "light"
     },
     "output_type": "display_data"
    }
   ],
   "source": [
    "print(\"Accuracy: {:.4f}%\".format(accuracy_score(v_y_test, y_pred) * 100))\n",
    "print(\"Precision: {:.4f}%\".format(precision_score(v_y_test, y_pred, average='weighted') * 100))\n",
    "print(\"Recall: {:.4f}%\".format(recall_score(v_y_test, y_pred, average='weighted') * 100))\n",
    "print(\"F1 Score: {:.4f}\".format(f1_score(v_y_test, y_pred, average='weighted')))\n",
    "\n",
    "# Plot normalized confusion matrix\n",
    "plot_confusion_matrix(v_y_test, y_pred, classes=class_names, normalize=True, title='Normalized confusion matrix')\n",
    "plt.show()"
   ]
  },
  {
   "cell_type": "markdown",
   "id": "76b99028",
   "metadata": {},
   "source": [
    "### Use linear Support Vector Machine (SVM)"
   ]
  },
  {
   "cell_type": "code",
   "execution_count": 25,
   "id": "dd97f374",
   "metadata": {},
   "outputs": [
    {
     "name": "stderr",
     "output_type": "stream",
     "text": [
      "/Users/ngohanping/opt/anaconda3/lib/python3.9/site-packages/sklearn/svm/_base.py:985: ConvergenceWarning: Liblinear failed to converge, increase the number of iterations.\n",
      "  warnings.warn(\"Liblinear failed to converge, increase \"\n"
     ]
    }
   ],
   "source": [
    "# Step 4: Train the linear SVM model\n",
    "svm = LinearSVC()\n",
    "svm.fit(v_X_train, v_y_train)\n",
    "\n",
    "# Step 5: Evaluate the model\n",
    "y_pred = svm.predict(v_X_test)"
   ]
  },
  {
   "cell_type": "code",
   "execution_count": 26,
   "id": "7033ae19",
   "metadata": {},
   "outputs": [
    {
     "name": "stdout",
     "output_type": "stream",
     "text": [
      "Accuracy: 77.2488%\n",
      "Precision: 77.2487%\n",
      "Recall: 77.2488%\n",
      "F1 Score: 0.7725\n"
     ]
    },
    {
     "data": {
      "image/png": "[encoded data removed]",
      "text/plain": [
       "<Figure size 900x540 with 2 Axes>"
      ]
     },
     "metadata": {
      "needs_background": "light"
     },
     "output_type": "display_data"
    }
   ],
   "source": [
    "print(\"Accuracy: {:.4f}%\".format(accuracy_score(v_y_test, y_pred) * 100))\n",
    "print(\"Precision: {:.4f}%\".format(precision_score(v_y_test, y_pred, average='weighted') * 100))\n",
    "print(\"Recall: {:.4f}%\".format(recall_score(v_y_test, y_pred, average='weighted') * 100))\n",
    "print(\"F1 Score: {:.4f}\".format(f1_score(v_y_test, y_pred, average='weighted')))\n",
    "\n",
    "# Plot normalized confusion matrix\n",
    "plot_confusion_matrix(v_y_test, y_pred, classes=class_names, normalize=True, title='Normalized confusion matrix')\n",
    "plt.show()"
   ]
  },
  {
   "cell_type": "markdown",
   "id": "5cfb5985",
   "metadata": {},
   "source": [
    "# Training 2nd model -- with more preprocesses\n",
    "More preprocessing includes removing urls, hashtags, names, punctuations and non-ascii digits.\n",
    "\n",
    "## Preparing both training and testing data with more preprocesses"
   ]
  },
  {
   "cell_type": "code",
   "execution_count": 46,
   "id": "163c956f",
   "metadata": {
    "scrolled": true
   },
   "outputs": [
    {
     "name": "stdout",
     "output_type": "stream",
     "text": [
      "Finished preparing the ANOTHER training data -- more preprocess.\n"
     ]
    }
   ],
   "source": [
    "# Create ANOTHER dictionary from more_processed corpus.\n",
    "m_dictionary = gensim.corpora.Dictionary(m_train_corpus)\n",
    "\n",
    "# Store the labeled training data in the following list.\n",
    "m_labeled_training_data = []\n",
    "    \n",
    "# Going through the two lists in parallel to create the labeled data set.\n",
    "for (l, s) in zip(train_labels, m_train_corpus):\n",
    "\n",
    "    # Convert the original sentence into a vector.\n",
    "    m_vector = m_dictionary.doc2bow(s)\n",
    "    \n",
    "    # Create a dict object to store the document vector (in order to use NLTK's classifier later)\n",
    "    m_sent_as_dict = {id:1 for (id, tf) in m_vector}\n",
    "    \n",
    "    # Add the labeled sentence to the labeled data set.\n",
    "    m_labeled_training_data.append((m_sent_as_dict, l))\n",
    "    \n",
    "print('Finished preparing the ANOTHER training data -- more preprocess.')\n"
   ]
  },
  {
   "cell_type": "code",
   "execution_count": 47,
   "id": "74b2b27f",
   "metadata": {},
   "outputs": [
    {
     "name": "stdout",
     "output_type": "stream",
     "text": [
      "Finished preparing more processed test data.\n"
     ]
    }
   ],
   "source": [
    "# Process the test set and predict labels using the trained classifier.\n",
    "m_labeled_test_data = []\n",
    "\n",
    "for s in test_corpus:\n",
    "    m_v_vector = m_dictionary.doc2bow(s)\n",
    "    m_v_sent_as_dict = {id: 1 for (id, tf) in m_v_vector}\n",
    "    m_labeled_test_data.append(m_v_sent_as_dict)\n",
    "    \n",
    "print('Finished preparing more processed test data.')"
   ]
  },
  {
   "cell_type": "markdown",
   "id": "c31cea5d",
   "metadata": {},
   "source": [
    "# Evaluations of 2nd model -- with more preprocessing\n",
    "More preprocessing includes removing urls, hashtags, names, punctuations and non-ascii digits.\n",
    "### Results after using Naives Bayes"
   ]
  },
  {
   "cell_type": "code",
   "execution_count": 48,
   "id": "d00f4461",
   "metadata": {},
   "outputs": [
    {
     "name": "stdout",
     "output_type": "stream",
     "text": [
      "Finished training another Naive Bayes classifier.\n"
     ]
    }
   ],
   "source": [
    "# Training aNOTHER classifier.\n",
    "m_classifier = nltk.NaiveBayesClassifier.train(m_labeled_training_data)\n",
    "\n",
    "print('Finished training another Naive Bayes classifier.')"
   ]
  },
  {
   "cell_type": "code",
   "execution_count": 49,
   "id": "1b8c483d",
   "metadata": {},
   "outputs": [],
   "source": [
    "# predict labels using the trained classifier.\n",
    "predicted_labels = [m_classifier.classify(sent) for sent in m_labeled_test_data]"
   ]
  },
  {
   "cell_type": "code",
   "execution_count": 50,
   "id": "32ddd8a7",
   "metadata": {},
   "outputs": [
    {
     "name": "stdout",
     "output_type": "stream",
     "text": [
      "Accuracy: 74.9663%\n",
      "Precision: 76.7210%\n",
      "Recall: 74.9663%\n",
      "F1 Score: 0.7457\n"
     ]
    },
    {
     "data": {
      "image/png": "[encoded data removed]",
      "text/plain": [
       "<Figure size 900x540 with 2 Axes>"
      ]
     },
     "metadata": {
      "needs_background": "light"
     },
     "output_type": "display_data"
    }
   ],
   "source": [
    "print(\"Accuracy: {:.4f}%\".format(accuracy_score(test_labels, predicted_labels) * 100))\n",
    "print(\"Precision: {:.4f}%\".format(precision_score(test_labels, predicted_labels, average='weighted') * 100))\n",
    "print(\"Recall: {:.4f}%\".format(recall_score(test_labels, predicted_labels, average='weighted') * 100))\n",
    "print(\"F1 Score: {:.4f}\".format(f1_score(test_labels, predicted_labels, average='weighted')))\n",
    "\n",
    "# Plot normalized confusion matrix\n",
    "plot_confusion_matrix(test_labels, predicted_labels, classes=class_names, normalize=True, title='Normalized confusion matrix')\n",
    "plt.show()"
   ]
  },
  {
   "cell_type": "markdown",
   "id": "774157af",
   "metadata": {},
   "source": [
    "### Results after using maxent"
   ]
  },
  {
   "cell_type": "code",
   "execution_count": 32,
   "id": "f3702370",
   "metadata": {},
   "outputs": [
    {
     "name": "stdout",
     "output_type": "stream",
     "text": [
      "  ==> Training (10 iterations)\n",
      "\n",
      "      Iteration    Log Likelihood    Accuracy\n",
      "      ---------------------------------------\n",
      "             1          -0.69315        0.501\n",
      "             2          -0.69314        0.786\n",
      "             3          -0.69313        0.786\n",
      "             4          -0.69311        0.786\n",
      "             5          -0.69310        0.786\n",
      "             6          -0.69309        0.786\n",
      "             7          -0.69308        0.786\n",
      "             8          -0.69307        0.786\n",
      "             9          -0.69306        0.786\n",
      "         Final          -0.69305        0.786\n",
      "Finished training Maxent classifier.\n"
     ]
    }
   ],
   "source": [
    "#Set iterations and the define classifer\n",
    "numIterations = 10\n",
    "algorithm = nltk.classify.MaxentClassifier.ALGORITHMS[0]\n",
    "\n",
    "#Train the classifier \n",
    "m_entclassifier = nltk.MaxentClassifier.train(m_labeled_training_data, algorithm, max_iter=numIterations)\n",
    "\n",
    "print('Finished training Maxent classifier.')"
   ]
  },
  {
   "cell_type": "code",
   "execution_count": 33,
   "id": "9e81da7b",
   "metadata": {},
   "outputs": [],
   "source": [
    "# predict labels using the trained classifier.\n",
    "ent_predicted_labels = [m_entclassifier.classify(sent) for sent in m_labeled_test_data]"
   ]
  },
  {
   "cell_type": "markdown",
   "id": "cc43aaf4",
   "metadata": {},
   "source": [
    "### Using Logistic Regression"
   ]
  },
  {
   "cell_type": "code",
   "execution_count": 56,
   "id": "ce0508fa",
   "metadata": {},
   "outputs": [
    {
     "name": "stderr",
     "output_type": "stream",
     "text": [
      "/Users/ngohanping/opt/anaconda3/lib/python3.9/site-packages/sklearn/linear_model/_logistic.py:763: ConvergenceWarning: lbfgs failed to converge (status=1):\n",
      "STOP: TOTAL NO. of ITERATIONS REACHED LIMIT.\n",
      "\n",
      "Increase the number of iterations (max_iter) or scale the data as shown in:\n",
      "    https://scikit-learn.org/stable/modules/preprocessing.html\n",
      "Please also refer to the documentation for alternative solver options:\n",
      "    https://scikit-learn.org/stable/modules/linear_model.html#logistic-regression\n",
      "  n_iter_i = _check_optimize_result(\n"
     ]
    }
   ],
   "source": [
    "# Step 4: Train the logistic regression model\n",
    "lr = LogisticRegression()\n",
    "lr.fit(m_X_train, m_y_train)\n",
    "\n",
    "# Step 5: Evaluate the model\n",
    "y_pred = lr.predict(m_X_test)"
   ]
  },
  {
   "cell_type": "code",
   "execution_count": 57,
   "id": "6874b445",
   "metadata": {},
   "outputs": [
    {
     "name": "stdout",
     "output_type": "stream",
     "text": [
      "Accuracy: 78.6338%\n",
      "Precision: 78.6446%\n",
      "Recall: 78.6338%\n",
      "F1 Score: 0.7863\n"
     ]
    },
    {
     "data": {
      "image/png": "[encoded data removed]",
      "text/plain": [
       "<Figure size 900x540 with 2 Axes>"
      ]
     },
     "metadata": {
      "needs_background": "light"
     },
     "output_type": "display_data"
    }
   ],
   "source": [
    "print(\"Accuracy: {:.4f}%\".format(accuracy_score(m_y_test, y_pred) * 100))\n",
    "print(\"Precision: {:.4f}%\".format(precision_score(m_y_test, y_pred, average='weighted') * 100))\n",
    "print(\"Recall: {:.4f}%\".format(recall_score(m_y_test, y_pred, average='weighted') * 100))\n",
    "print(\"F1 Score: {:.4f}\".format(f1_score(m_y_test, y_pred, average='weighted')))\n",
    "\n",
    "# Plot normalized confusion matrix\n",
    "plot_confusion_matrix(m_y_test, y_pred, classes=class_names, normalize=True, title='Normalized confusion matrix')\n",
    "plt.show()"
   ]
  },
  {
   "cell_type": "markdown",
   "id": "1ff19739",
   "metadata": {},
   "source": [
    "### Use linear Support Vector Machine (SVM)"
   ]
  },
  {
   "cell_type": "code",
   "execution_count": 58,
   "id": "8a6527a7",
   "metadata": {},
   "outputs": [
    {
     "name": "stderr",
     "output_type": "stream",
     "text": [
      "/Users/ngohanping/opt/anaconda3/lib/python3.9/site-packages/sklearn/svm/_base.py:985: ConvergenceWarning: Liblinear failed to converge, increase the number of iterations.\n",
      "  warnings.warn(\"Liblinear failed to converge, increase \"\n"
     ]
    }
   ],
   "source": [
    "# Step 4: Train the linear SVM model\n",
    "svm = LinearSVC()\n",
    "svm.fit(m_X_train, m_y_train)\n",
    "\n",
    "# Step 5: Evaluate the model\n",
    "y_pred = svm.predict(m_X_test)"
   ]
  },
  {
   "cell_type": "code",
   "execution_count": 59,
   "id": "7fc6636c",
   "metadata": {},
   "outputs": [
    {
     "name": "stdout",
     "output_type": "stream",
     "text": [
      "Accuracy: 77.4737%\n",
      "Precision: 77.4985%\n",
      "Recall: 77.4737%\n",
      "F1 Score: 0.7747\n"
     ]
    },
    {
     "data": {
      "image/png": "[encoded data removed]",
      "text/plain": [
       "<Figure size 900x540 with 2 Axes>"
      ]
     },
     "metadata": {
      "needs_background": "light"
     },
     "output_type": "display_data"
    }
   ],
   "source": [
    "print(\"Accuracy: {:.4f}%\".format(accuracy_score(m_y_test, y_pred) * 100))\n",
    "print(\"Precision: {:.4f}%\".format(precision_score(m_y_test, y_pred, average='weighted') * 100))\n",
    "print(\"Recall: {:.4f}%\".format(recall_score(m_y_test, y_pred, average='weighted') * 100))\n",
    "print(\"F1 Score: {:.4f}\".format(f1_score(m_y_test, y_pred, average='weighted')))\n",
    "\n",
    "# Plot normalized confusion matrix\n",
    "plot_confusion_matrix(m_y_test, y_pred, classes=class_names, normalize=True, title='Normalized confusion matrix')\n",
    "plt.show()"
   ]
  },
  {
   "cell_type": "markdown",
   "id": "9717be9e",
   "metadata": {},
   "source": [
    "# Preliminary Conclusion\n",
    "With the evaluations done on both model using different classifers, we can see more preprocessing does not necessarily lead to improved accuracies regardless of classifiers. These are likely the case:\n",
    "1. <b>Overfitting</b> -- More extensive preprocessing can result in overfitting, where the model becomes too specialized to the training data and does not generalize well to new data. This is because the model is learning to recognize specific patterns in the training data that may not exist in new data. Minimal preprocessing reduces the risk of overfitting.\n",
    "2. <b>Noise reduction</b> -- Removing punctuation, Twitter @ names, and URLs can also result in the reduction of noise in the text, which can improve the accuracy of the sentiment analysis. However, in some cases, this may not be beneficial if the noise contains important sentiment-carrying information.\n",
    "3. <b>Loss of information</b> -- Removing punctuations, Twitter @ names, and URLs can result in the loss of important information that may be relevant to sentiment analysis."
   ]
  },
  {
   "cell_type": "markdown",
   "id": "207fd348",
   "metadata": {},
   "source": [
    "# 3rd Model -- Text Representation\n",
    "With the current evaluations we had, we seek to explore other ways to improve on the base model that provides adequate accuracy and decided to try a different text representation.<br><br>\n",
    "Vectorizing text using Term Frequency technique (Term Frequency(TF) — Inverse Dense Frequency(IDF))\n",
    "* Tokenize with our preprocess_and_tokenize\n",
    "* Find it’s TF = (Number of repetitions of word in a document) / (# of words in a document)\n",
    "* IDF = log(# of documents / # of documents containing the word)\n",
    "\n",
    "The following steps are taken:\n",
    "1. Prepare train/test dataset\n",
    "2. Fit sentences to TF-IDF that are unigrams and bigrams\n",
    "3. Transform train/test dataset to vectors"
   ]
  },
  {
   "cell_type": "code",
   "execution_count": 35,
   "id": "a870dd47",
   "metadata": {
    "scrolled": false
   },
   "outputs": [
    {
     "name": "stdout",
     "output_type": "stream",
     "text": [
      "size of training set: 320000\n",
      "size of validation set: 80000\n",
      "1    200419\n",
      "0    199581\n",
      "Name: sentiment, dtype: int64\n"
     ]
    },
    {
     "data": {
      "text/html": [
       "<div>\n",
       "<style scoped>\n",
       "    .dataframe tbody tr th:only-of-type {\n",
       "        vertical-align: middle;\n",
       "    }\n",
       "\n",
       "    .dataframe tbody tr th {\n",
       "        vertical-align: top;\n",
       "    }\n",
       "\n",
       "    .dataframe thead th {\n",
       "        text-align: right;\n",
       "    }\n",
       "</style>\n",
       "<table border=\"1\" class=\"dataframe\">\n",
       "  <thead>\n",
       "    <tr style=\"text-align: right;\">\n",
       "      <th></th>\n",
       "      <th>sentiment</th>\n",
       "      <th>tweet</th>\n",
       "      <th>preprocessed_tweet</th>\n",
       "      <th>more_preprocessed_tweet</th>\n",
       "    </tr>\n",
       "  </thead>\n",
       "  <tbody>\n",
       "    <tr>\n",
       "      <th>242245</th>\n",
       "      <td>1</td>\n",
       "      <td>The full moon tonight is amazing. Almost like ...</td>\n",
       "      <td>[the, full, moon, tonight, is, amaz, ., almost...</td>\n",
       "      <td>[the, full, moon, tonight, is, amaz, almost, l...</td>\n",
       "    </tr>\n",
       "    <tr>\n",
       "      <th>288918</th>\n",
       "      <td>0</td>\n",
       "      <td>@buttercupamy I miss Amy cards</td>\n",
       "      <td>[@, buttercupami, i, miss, ami, card]</td>\n",
       "      <td>[i, miss, ami, card]</td>\n",
       "    </tr>\n",
       "    <tr>\n",
       "      <th>105103</th>\n",
       "      <td>1</td>\n",
       "      <td>At work and reading People's 100 most beautifu...</td>\n",
       "      <td>[at, work, and, read, peopl, 's, 100, most, be...</td>\n",
       "      <td>[at, work, and, read, peopl, s, most, beauti, ...</td>\n",
       "    </tr>\n",
       "    <tr>\n",
       "      <th>63504</th>\n",
       "      <td>1</td>\n",
       "      <td>@likelyto get how are you doing? thanks for fo...</td>\n",
       "      <td>[@, likelyto, get, how, are, you, do, ?, thank...</td>\n",
       "      <td>[get, how, are, you, do, thank, for, follow, m...</td>\n",
       "    </tr>\n",
       "    <tr>\n",
       "      <th>239180</th>\n",
       "      <td>1</td>\n",
       "      <td>Kinky, now I get it</td>\n",
       "      <td>[kinki, ,, now, i, get, it]</td>\n",
       "      <td>[kinki, now, i, get, it]</td>\n",
       "    </tr>\n",
       "  </tbody>\n",
       "</table>\n",
       "</div>"
      ],
      "text/plain": [
       "        sentiment                                              tweet  \\\n",
       "242245          1  The full moon tonight is amazing. Almost like ...   \n",
       "288918          0                    @buttercupamy I miss Amy cards    \n",
       "105103          1  At work and reading People's 100 most beautifu...   \n",
       "63504           1  @likelyto get how are you doing? thanks for fo...   \n",
       "239180          1                               Kinky, now I get it    \n",
       "\n",
       "                                       preprocessed_tweet  \\\n",
       "242245  [the, full, moon, tonight, is, amaz, ., almost...   \n",
       "288918              [@, buttercupami, i, miss, ami, card]   \n",
       "105103  [at, work, and, read, peopl, 's, 100, most, be...   \n",
       "63504   [@, likelyto, get, how, are, you, do, ?, thank...   \n",
       "239180                        [kinki, ,, now, i, get, it]   \n",
       "\n",
       "                                  more_preprocessed_tweet  \n",
       "242245  [the, full, moon, tonight, is, amaz, almost, l...  \n",
       "288918                               [i, miss, ami, card]  \n",
       "105103  [at, work, and, read, peopl, s, most, beauti, ...  \n",
       "63504   [get, how, are, you, do, thank, for, follow, m...  \n",
       "239180                           [kinki, now, i, get, it]  "
      ]
     },
     "execution_count": 35,
     "metadata": {},
     "output_type": "execute_result"
    }
   ],
   "source": [
    "X_train = train_data.tweet\n",
    "X_test = test_data.tweet\n",
    "\n",
    "y_train = train_data.sentiment\n",
    "y_test = test_data.sentiment\n",
    "\n",
    "idf_data = pd.concat([train_data, test_data])\n",
    "\n",
    "print('size of training set: %s' % (len(train_data['tweet'])))\n",
    "print('size of validation set: %s' % (len(test_data['tweet'])))\n",
    "print(idf_data.sentiment.value_counts())\n",
    "\n",
    "idf_data.head()"
   ]
  },
  {
   "cell_type": "code",
   "execution_count": 36,
   "id": "4d90586d",
   "metadata": {},
   "outputs": [],
   "source": [
    "# TFIDF, unigrams and bigrams\n",
    "vect = TfidfVectorizer(tokenizer=preprocess_text, sublinear_tf=True, norm='l2', ngram_range=(1, 2))"
   ]
  },
  {
   "cell_type": "code",
   "execution_count": 37,
   "id": "4a2840ab",
   "metadata": {},
   "outputs": [],
   "source": [
    "# fit on our complete corpus\n",
    "vect.fit_transform(idf_data.tweet)\n",
    "\n",
    "# transform testing and training datasets to vectors\n",
    "X_train_vect = vect.transform(X_train)\n",
    "X_test_vect = vect.transform(X_test)"
   ]
  },
  {
   "cell_type": "markdown",
   "id": "6a080e7b",
   "metadata": {},
   "source": [
    "# Evaluations of 3rd Model\n",
    "\n",
    "Time to run the different classifiers now that the text has been transformed into vectors. This is so that we can eventually select the most appropriate classifier that we will use for the model.\n",
    "\n",
    "### Naive Bayes"
   ]
  },
  {
   "cell_type": "code",
   "execution_count": 38,
   "id": "d2e90254",
   "metadata": {},
   "outputs": [
    {
     "name": "stdout",
     "output_type": "stream",
     "text": [
      "Accuracy: 79.4862%\n",
      "Precision: 79.9165%\n",
      "Recall: 79.4862%\n",
      "\n",
      "F1 Score: 0.7949\n",
      "\n",
      "Cnfusion Matrix:\n",
      " [[34015  5832]\n",
      " [10579 29574]]\n"
     ]
    },
    {
     "data": {
      "image/png": "[encoded data removed]",
      "text/plain": [
       "<Figure size 900x540 with 2 Axes>"
      ]
     },
     "metadata": {
      "needs_background": "light"
     },
     "output_type": "display_data"
    }
   ],
   "source": [
    "nb = MultinomialNB()\n",
    "\n",
    "nb.fit(X_train_vect, y_train)\n",
    "\n",
    "ynb_pred = nb.predict(X_test_vect)\n",
    "\n",
    "print(\"Accuracy: {:.4f}%\".format(accuracy_score(y_test, ynb_pred) * 100))\n",
    "print(\"Precision: {:.4f}%\".format(precision_score(y_test, ynb_pred, average='weighted') * 100))\n",
    "print(\"Recall: {:.4f}%\".format(recall_score(y_test, ynb_pred, average='weighted') * 100))\n",
    "print(\"\\nF1 Score: {:.4f}\".format(f1_score(y_test, ynb_pred, average='micro')))\n",
    "print(\"\\nCnfusion Matrix:\\n\", confusion_matrix(y_test, ynb_pred))\n",
    "\n",
    "# Plot normalized confusion matrix\n",
    "plot_confusion_matrix(y_test, ynb_pred, classes=class_names, normalize=True, title='Normalized confusion matrix')\n",
    "plt.show()"
   ]
  },
  {
   "cell_type": "markdown",
   "id": "10b18d37",
   "metadata": {},
   "source": [
    "### Logistic Regression "
   ]
  },
  {
   "cell_type": "code",
   "execution_count": 39,
   "id": "14a4eb60",
   "metadata": {},
   "outputs": [
    {
     "name": "stderr",
     "output_type": "stream",
     "text": [
      "/Users/ngohanping/opt/anaconda3/lib/python3.9/site-packages/sklearn/linear_model/_logistic.py:763: ConvergenceWarning: lbfgs failed to converge (status=1):\n",
      "STOP: TOTAL NO. of ITERATIONS REACHED LIMIT.\n",
      "\n",
      "Increase the number of iterations (max_iter) or scale the data as shown in:\n",
      "    https://scikit-learn.org/stable/modules/preprocessing.html\n",
      "Please also refer to the documentation for alternative solver options:\n",
      "    https://scikit-learn.org/stable/modules/linear_model.html#logistic-regression\n",
      "  n_iter_i = _check_optimize_result(\n"
     ]
    },
    {
     "name": "stdout",
     "output_type": "stream",
     "text": [
      "Accuracy: 81.2288%\n",
      "Precision: 81.2620%\n",
      "Recall: 81.2288%\n",
      "\n",
      "F1 Score: 0.8123\n",
      "\n",
      "COnfusion Matrix:\n",
      " [[31663  8184]\n",
      " [ 6833 33320]]\n"
     ]
    },
    {
     "data": {
      "image/png": "[encoded data removed]",
      "text/plain": [
       "<Figure size 900x540 with 2 Axes>"
      ]
     },
     "metadata": {
      "needs_background": "light"
     },
     "output_type": "display_data"
    }
   ],
   "source": [
    "log = LogisticRegression(solver='lbfgs', multi_class='auto', max_iter=200)\n",
    "log.fit(X_train_vect, y_train)\n",
    "\n",
    "ylog_pred = log.predict(X_test_vect)\n",
    "\n",
    "print(\"Accuracy: {:.4f}%\".format(accuracy_score(y_test, ylog_pred) * 100))\n",
    "print(\"Precision: {:.4f}%\".format(precision_score(y_test, ylog_pred, average='weighted') * 100))\n",
    "print(\"Recall: {:.4f}%\".format(recall_score(y_test, ylog_pred, average='weighted') * 100))\n",
    "print(\"\\nF1 Score: {:.4f}\".format(f1_score(y_test, ylog_pred, average='micro')))\n",
    "print(\"\\nCOnfusion Matrix:\\n\", confusion_matrix(y_test, ylog_pred))\n",
    "\n",
    "plot_confusion_matrix(y_test, ylog_pred, classes=class_names, normalize=True, title='Normalized confusion matrix')\n",
    "plt.show()"
   ]
  },
  {
   "cell_type": "markdown",
   "id": "4b53b7cb",
   "metadata": {},
   "source": [
    "### Linear Support Vector"
   ]
  },
  {
   "cell_type": "code",
   "execution_count": 40,
   "id": "e91ae5b2",
   "metadata": {
    "scrolled": false
   },
   "outputs": [
    {
     "name": "stdout",
     "output_type": "stream",
     "text": [
      "Accuracy: 81.2375%\n",
      "Precision: 81.2655%\n",
      "Recall: 81.2375%\n",
      "\n",
      "F1 Score: 0.8124\n",
      "\n",
      "COnfusion Matrix:\n",
      " [[31720  8127]\n",
      " [ 6883 33270]]\n"
     ]
    },
    {
     "data": {
      "image/png": "[encoded data removed]",
      "text/plain": [
       "<Figure size 900x540 with 2 Axes>"
      ]
     },
     "metadata": {
      "needs_background": "light"
     },
     "output_type": "display_data"
    }
   ],
   "source": [
    "svc = LinearSVC(tol=1e-05)\n",
    "svc.fit(X_train_vect, y_train)\n",
    "\n",
    "ysvm_pred = svc.predict(X_test_vect)\n",
    "\n",
    "print(\"Accuracy: {:.4f}%\".format(accuracy_score(y_test, ysvm_pred) * 100))\n",
    "print(\"Precision: {:.4f}%\".format(precision_score(y_test, ysvm_pred, average='weighted') * 100))\n",
    "print(\"Recall: {:.4f}%\".format(recall_score(y_test, ysvm_pred, average='weighted') * 100))\n",
    "print(\"\\nF1 Score: {:.4f}\".format(f1_score(y_test, ysvm_pred, average='micro')))\n",
    "print(\"\\nCOnfusion Matrix:\\n\", confusion_matrix(y_test, ysvm_pred))\n",
    "\n",
    "plot_confusion_matrix(y_test, ysvm_pred, classes=class_names, normalize=True, title='Normalized confusion matrix')\n",
    "plt.show()"
   ]
  },
  {
   "cell_type": "markdown",
   "id": "bb07f13a",
   "metadata": {},
   "source": [
    "# 4th Model -- with more preprocessing\n",
    "The team understood that TF-IDF evaluates the importance of a word in a document based on its frequency in the document and its rarity in the entire corpus.<br>\n",
    "Hence, we would run another test to verify whether more preprocessing produces higher accuracy."
   ]
  },
  {
   "cell_type": "code",
   "execution_count": 41,
   "id": "c6bef204",
   "metadata": {},
   "outputs": [],
   "source": [
    "## New vectoriser for more preprocesses\n",
    "# TFIDF, unigrams and bigrams\n",
    "m_vect = TfidfVectorizer(tokenizer=preprocess_and_tokenize, sublinear_tf=True, norm='l2', ngram_range=(1, 2))"
   ]
  },
  {
   "cell_type": "code",
   "execution_count": 42,
   "id": "99150ab9",
   "metadata": {},
   "outputs": [],
   "source": [
    "# fit on our complete corpus\n",
    "m_vect.fit_transform(idf_data.tweet)\n",
    "\n",
    "# transform testing and training datasets to vectors\n",
    "X_train_vect = m_vect.transform(X_train)\n",
    "X_test_vect = m_vect.transform(X_test)"
   ]
  },
  {
   "cell_type": "markdown",
   "id": "137ecd78",
   "metadata": {},
   "source": [
    "## Evaluation of 4th Model -- more preprocessing\n",
    "\n",
    "\n",
    "### Naive Bayes"
   ]
  },
  {
   "cell_type": "code",
   "execution_count": 43,
   "id": "bf7cedf9",
   "metadata": {},
   "outputs": [
    {
     "name": "stdout",
     "output_type": "stream",
     "text": [
      "Accuracy: 79.4325%\n",
      "Precision: 79.6909%\n",
      "Recall: 79.4325%\n",
      "\n",
      "F1 Score: 0.7943\n",
      "\n",
      "Cnfusion Matrix:\n",
      " [[33460  6387]\n",
      " [10067 30086]]\n"
     ]
    },
    {
     "data": {
      "image/png": "[encoded data removed]",
      "text/plain": [
       "<Figure size 900x540 with 2 Axes>"
      ]
     },
     "metadata": {
      "needs_background": "light"
     },
     "output_type": "display_data"
    }
   ],
   "source": [
    "nb = MultinomialNB()\n",
    "\n",
    "nb.fit(X_train_vect, y_train)\n",
    "\n",
    "ynb_pred = nb.predict(X_test_vect)\n",
    "\n",
    "print(\"Accuracy: {:.4f}%\".format(accuracy_score(y_test, ynb_pred) * 100))\n",
    "print(\"Precision: {:.4f}%\".format(precision_score(y_test, ynb_pred, average='weighted') * 100))\n",
    "print(\"Recall: {:.4f}%\".format(recall_score(y_test, ynb_pred, average='weighted') * 100))\n",
    "print(\"\\nF1 Score: {:.4f}\".format(f1_score(y_test, ynb_pred, average='micro')))\n",
    "print(\"\\nCnfusion Matrix:\\n\", confusion_matrix(y_test, ynb_pred))\n",
    "\n",
    "# Plot normalized confusion matrix\n",
    "plot_confusion_matrix(y_test, ynb_pred, classes=class_names, normalize=True, title='Normalized confusion matrix')\n",
    "plt.show()"
   ]
  },
  {
   "cell_type": "markdown",
   "id": "3e4a4871",
   "metadata": {},
   "source": [
    "### Logistic Regression "
   ]
  },
  {
   "cell_type": "code",
   "execution_count": 44,
   "id": "8414cf4a",
   "metadata": {},
   "outputs": [
    {
     "name": "stderr",
     "output_type": "stream",
     "text": [
      "/Users/ngohanping/opt/anaconda3/lib/python3.9/site-packages/sklearn/linear_model/_logistic.py:763: ConvergenceWarning: lbfgs failed to converge (status=1):\n",
      "STOP: TOTAL NO. of ITERATIONS REACHED LIMIT.\n",
      "\n",
      "Increase the number of iterations (max_iter) or scale the data as shown in:\n",
      "    https://scikit-learn.org/stable/modules/preprocessing.html\n",
      "Please also refer to the documentation for alternative solver options:\n",
      "    https://scikit-learn.org/stable/modules/linear_model.html#logistic-regression\n",
      "  n_iter_i = _check_optimize_result(\n"
     ]
    },
    {
     "name": "stdout",
     "output_type": "stream",
     "text": [
      "Accuracy: 80.9725%\n",
      "Precision: 80.9995%\n",
      "Recall: 80.9725%\n",
      "\n",
      "F1 Score: 0.8097\n",
      "\n",
      "COnfusion Matrix:\n",
      " [[31622  8225]\n",
      " [ 6997 33156]]\n"
     ]
    },
    {
     "data": {
      "image/png": "[encoded data removed]",
      "text/plain": [
       "<Figure size 900x540 with 2 Axes>"
      ]
     },
     "metadata": {
      "needs_background": "light"
     },
     "output_type": "display_data"
    }
   ],
   "source": [
    "log = LogisticRegression(solver='lbfgs', multi_class='auto', max_iter=200)\n",
    "log.fit(X_train_vect, y_train)\n",
    "\n",
    "ylog_pred = log.predict(X_test_vect)\n",
    "\n",
    "print(\"Accuracy: {:.4f}%\".format(accuracy_score(y_test, ylog_pred) * 100))\n",
    "print(\"Precision: {:.4f}%\".format(precision_score(y_test, ylog_pred, average='weighted') * 100))\n",
    "print(\"Recall: {:.4f}%\".format(recall_score(y_test, ylog_pred, average='weighted') * 100))\n",
    "print(\"\\nF1 Score: {:.4f}\".format(f1_score(y_test, ylog_pred, average='micro')))\n",
    "print(\"\\nCOnfusion Matrix:\\n\", confusion_matrix(y_test, ylog_pred))\n",
    "\n",
    "plot_confusion_matrix(y_test, ylog_pred, classes=class_names, normalize=True, title='Normalized confusion matrix')\n",
    "plt.show()"
   ]
  },
  {
   "cell_type": "markdown",
   "id": "ebcb5f8d",
   "metadata": {},
   "source": [
    "### Linear Support Vector"
   ]
  },
  {
   "cell_type": "code",
   "execution_count": 45,
   "id": "d76083f1",
   "metadata": {
    "scrolled": false
   },
   "outputs": [
    {
     "name": "stdout",
     "output_type": "stream",
     "text": [
      "Accuracy: 80.6162%\n",
      "Precision: 80.6400%\n",
      "Recall: 80.6162%\n",
      "\n",
      "F1 Score: 0.8062\n",
      "\n",
      "COnfusion Matrix:\n",
      " [[31512  8335]\n",
      " [ 7172 32981]]\n"
     ]
    },
    {
     "data": {
      "image/png": "[encoded data removed]",
      "text/plain": [
       "<Figure size 900x540 with 2 Axes>"
      ]
     },
     "metadata": {
      "needs_background": "light"
     },
     "output_type": "display_data"
    }
   ],
   "source": [
    "svc = LinearSVC(tol=1e-05)\n",
    "svc.fit(X_train_vect, y_train)\n",
    "\n",
    "ysvm_pred = svc.predict(X_test_vect)\n",
    "\n",
    "print(\"Accuracy: {:.4f}%\".format(accuracy_score(y_test, ysvm_pred) * 100))\n",
    "print(\"Precision: {:.4f}%\".format(precision_score(y_test, ysvm_pred, average='weighted') * 100))\n",
    "print(\"Recall: {:.4f}%\".format(recall_score(y_test, ysvm_pred, average='weighted') * 100))\n",
    "print(\"\\nF1 Score: {:.4f}\".format(f1_score(y_test, ysvm_pred, average='micro')))\n",
    "print(\"\\nCOnfusion Matrix:\\n\", confusion_matrix(y_test, ysvm_pred))\n",
    "\n",
    "plot_confusion_matrix(y_test, ysvm_pred, classes=class_names, normalize=True, title='Normalized confusion matrix')\n",
    "plt.show()"
   ]
  },
  {
   "cell_type": "markdown",
   "id": "c0f40164",
   "metadata": {},
   "source": [
    "# Conclusion\n",
    "As we can see, more preprocessing did not produce higher results in both text representation -- document vector & TF-IDF. <br>\n",
    "Hence, this further supports the idea that having more preprocesses affects the text quality or had a backlash which led to overfitting.<br><br>\n",
    "Also, it was interesting for us to discover TF-IDF producing better results than document vector as document vector focuses on semantic relationships and context as compared to TF-IDF lacking the ability to capture them. <br>\n",
    "We further researched and derived some possibilties on why TF-IDF produced better results.\n",
    "* Nature of tweets are more suited for TD-IDF due to short texts\n",
    "* Training dataset used are generalised and not domain specific\n",
    "* Lack of pre-trained word embeddings that provides rich semantic information<br>\n",
    "\n",
    "Henceforth, possibly allowing TF-IDF to make better predictions of tweet sentiments than document vector."
   ]
  }
 ],
 "metadata": {
  "kernelspec": {
   "display_name": "Python 3 (ipykernel)",
   "language": "python",
   "name": "python3"
  },
  "language_info": {
   "codemirror_mode": {
    "name": "ipython",
    "version": 3
   },
   "file_extension": ".py",
   "mimetype": "text/x-python",
   "name": "python",
   "nbconvert_exporter": "python",
   "pygments_lexer": "ipython3",
   "version": "3.9.7"
  }
 },
 "nbformat": 4,
 "nbformat_minor": 5
}
