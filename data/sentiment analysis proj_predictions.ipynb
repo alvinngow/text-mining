{
 "cells": [
  {
   "cell_type": "code",
   "execution_count": 1,
   "id": "5555969f",
   "metadata": {},
   "outputs": [
    {
     "name": "stderr",
     "output_type": "stream",
     "text": [
      "/Users/ngohanping/opt/anaconda3/lib/python3.9/site-packages/scipy/__init__.py:146: UserWarning: A NumPy version >=1.16.5 and <1.23.0 is required for this version of SciPy (detected version 1.24.2\n",
      "  warnings.warn(f\"A NumPy version >={np_minversion} and <{np_maxversion}\"\n"
     ]
    }
   ],
   "source": [
    "import gensim\n",
    "import csv\n",
    "import pandas as pd\n",
    "import numpy as np\n",
    "\n",
    "# text preprocessing\n",
    "import nltk\n",
    "from nltk import word_tokenize\n",
    "from nltk.stem import PorterStemmer\n",
    "from nltk.corpus import stopwords\n",
    "import re\n",
    "\n",
    "# plots and metrics\n",
    "import matplotlib.pyplot as plt\n",
    "import seaborn as sns\n",
    "from sklearn.model_selection import train_test_split\n",
    "from sklearn.metrics import accuracy_score, f1_score, confusion_matrix, precision_score, recall_score\n",
    "\n",
    "# feature extraction / vectorization\n",
    "from sklearn.feature_extraction.text import CountVectorizer, TfidfVectorizer\n",
    "\n",
    "# classifiers\n",
    "from sklearn.naive_bayes import MultinomialNB\n",
    "from sklearn.linear_model import LogisticRegression, SGDClassifier\n",
    "from sklearn.ensemble import RandomForestClassifier\n",
    "from sklearn.svm import LinearSVC\n",
    "from sklearn.pipeline import Pipeline\n",
    "\n",
    "# save and load a file\n",
    "import pickle"
   ]
  },
  {
   "cell_type": "code",
   "execution_count": 2,
   "id": "eda9ab18",
   "metadata": {},
   "outputs": [],
   "source": [
    "# Read the CSV file into a pandas DataFrame\n",
    "# Replace 'your_data.csv' with the path to your CSV file\n",
    "data = pd.read_csv('400k_sampled_data.csv')"
   ]
  },
  {
   "cell_type": "code",
   "execution_count": 3,
   "id": "6997bb41",
   "metadata": {},
   "outputs": [],
   "source": [
    "# Define a preprocessing function\n",
    "def preprocess_text(text):\n",
    "    stop_list = nltk.corpus.stopwords.words('english')\n",
    "    stemmer = nltk.stem.porter.PorterStemmer()\n",
    "    \n",
    "    # Tokenize\n",
    "    sent = nltk.word_tokenize(text)\n",
    "    \n",
    "     # We do not need this step below because the UICReviewData is already all in lowercase.\n",
    "    sent = [w.lower() for w in sent]\n",
    "\n",
    "    # Stop word removal. Optional!\n",
    "#     sent = [w for w in sent if w not in stop_list]\n",
    "\n",
    "    # Stemming. Optional!\n",
    "    sent = [stemmer.stem(w) for w in sent]\n",
    "    \n",
    "    \n",
    "    \n",
    "    return sent\n"
   ]
  },
  {
   "cell_type": "code",
   "execution_count": 4,
   "id": "f34df579",
   "metadata": {},
   "outputs": [],
   "source": [
    "def preprocess_and_tokenize(data):\n",
    "    #remove html markup\n",
    "    data = re.sub(\"(<.*?>)\", \"\", data)\n",
    "\n",
    "    #remove urls\n",
    "    data = re.sub(r'http\\S+', '', data)\n",
    "    \n",
    "    #remove hashtags and @names\n",
    "    data= re.sub(r\"(#[\\d\\w\\.]+)\", '', data)\n",
    "    data= re.sub(r\"(@[\\d\\w\\.]+)\", '', data)\n",
    "\n",
    "    #remove punctuation and non-ascii digits\n",
    "    data = re.sub(\"(\\\\W|\\\\d)\", \" \", data)\n",
    "    \n",
    "    #remove whitespace\n",
    "    data = data.strip()\n",
    "    \n",
    "    # tokenization with nltk\n",
    "    data = word_tokenize(data)\n",
    "    \n",
    "    # stemming with nltk\n",
    "    porter = PorterStemmer()\n",
    "    stem_data = [porter.stem(word) for word in data]\n",
    "    \n",
    "    return stem_data"
   ]
  },
  {
   "cell_type": "code",
   "execution_count": 5,
   "id": "bfe704d5",
   "metadata": {},
   "outputs": [
    {
     "data": {
      "text/html": [
       "<div>\n",
       "<style scoped>\n",
       "    .dataframe tbody tr th:only-of-type {\n",
       "        vertical-align: middle;\n",
       "    }\n",
       "\n",
       "    .dataframe tbody tr th {\n",
       "        vertical-align: top;\n",
       "    }\n",
       "\n",
       "    .dataframe thead th {\n",
       "        text-align: right;\n",
       "    }\n",
       "</style>\n",
       "<table border=\"1\" class=\"dataframe\">\n",
       "  <thead>\n",
       "    <tr style=\"text-align: right;\">\n",
       "      <th></th>\n",
       "      <th>sentiment</th>\n",
       "      <th>tweet</th>\n",
       "      <th>preprocessed_tweet</th>\n",
       "      <th>more_preprocessed_tweet</th>\n",
       "    </tr>\n",
       "  </thead>\n",
       "  <tbody>\n",
       "    <tr>\n",
       "      <th>0</th>\n",
       "      <td>0</td>\n",
       "      <td>@chrishasboobs AHHH I HOPE YOUR OK!!!</td>\n",
       "      <td>[@, chrishasboob, ahhh, i, hope, your, ok, !, ...</td>\n",
       "      <td>[ahhh, i, hope, your, ok]</td>\n",
       "    </tr>\n",
       "    <tr>\n",
       "      <th>1</th>\n",
       "      <td>0</td>\n",
       "      <td>@misstoriblack cool , i have no tweet apps  fo...</td>\n",
       "      <td>[@, misstoriblack, cool, ,, i, have, no, tweet...</td>\n",
       "      <td>[cool, i, have, no, tweet, app, for, my, razr]</td>\n",
       "    </tr>\n",
       "    <tr>\n",
       "      <th>2</th>\n",
       "      <td>0</td>\n",
       "      <td>@TiannaChaos i know  just family drama. its la...</td>\n",
       "      <td>[@, tiannachao, i, know, just, famili, drama, ...</td>\n",
       "      <td>[i, know, just, famili, drama, it, lame, hey, ...</td>\n",
       "    </tr>\n",
       "    <tr>\n",
       "      <th>3</th>\n",
       "      <td>0</td>\n",
       "      <td>School email won't open  and I have geography ...</td>\n",
       "      <td>[school, email, wo, n't, open, and, i, have, g...</td>\n",
       "      <td>[school, email, won, t, open, and, i, have, ge...</td>\n",
       "    </tr>\n",
       "    <tr>\n",
       "      <th>4</th>\n",
       "      <td>0</td>\n",
       "      <td>upper airways problem</td>\n",
       "      <td>[upper, airway, problem]</td>\n",
       "      <td>[upper, airway, problem]</td>\n",
       "    </tr>\n",
       "    <tr>\n",
       "      <th>...</th>\n",
       "      <td>...</td>\n",
       "      <td>...</td>\n",
       "      <td>...</td>\n",
       "      <td>...</td>\n",
       "    </tr>\n",
       "    <tr>\n",
       "      <th>399995</th>\n",
       "      <td>0</td>\n",
       "      <td>@brykins Splendid! I was told I looked like a ...</td>\n",
       "      <td>[@, brykin, splendid, !, i, wa, told, i, look,...</td>\n",
       "      <td>[splendid, i, wa, told, i, look, like, a, moom...</td>\n",
       "    </tr>\n",
       "    <tr>\n",
       "      <th>399996</th>\n",
       "      <td>0</td>\n",
       "      <td>@herbadmother I'm so sorry!  that IS sad</td>\n",
       "      <td>[@, herbadmoth, i, 'm, so, sorri, !, that, is,...</td>\n",
       "      <td>[i, m, so, sorri, that, is, sad]</td>\n",
       "    </tr>\n",
       "    <tr>\n",
       "      <th>399997</th>\n",
       "      <td>1</td>\n",
       "      <td>@JosieStingray Sounds like Eddie Murphy is coo...</td>\n",
       "      <td>[@, josiestingray, sound, like, eddi, murphi, ...</td>\n",
       "      <td>[sound, like, eddi, murphi, is, cook, tonight,...</td>\n",
       "    </tr>\n",
       "    <tr>\n",
       "      <th>399998</th>\n",
       "      <td>0</td>\n",
       "      <td>http://twitpic.com/4incl - The tiny Porter pla...</td>\n",
       "      <td>[http, :, //twitpic.com/4incl, -, the, tini, p...</td>\n",
       "      <td>[the, tini, porter, plane, that, took, me, fro...</td>\n",
       "    </tr>\n",
       "    <tr>\n",
       "      <th>399999</th>\n",
       "      <td>1</td>\n",
       "      <td>Im glad i got my old gameboy to work,now whene...</td>\n",
       "      <td>[im, glad, i, got, my, old, gameboy, to, work,...</td>\n",
       "      <td>[im, glad, i, got, my, old, gameboy, to, work,...</td>\n",
       "    </tr>\n",
       "  </tbody>\n",
       "</table>\n",
       "<p>400000 rows × 4 columns</p>\n",
       "</div>"
      ],
      "text/plain": [
       "        sentiment                                              tweet  \\\n",
       "0               0             @chrishasboobs AHHH I HOPE YOUR OK!!!    \n",
       "1               0  @misstoriblack cool , i have no tweet apps  fo...   \n",
       "2               0  @TiannaChaos i know  just family drama. its la...   \n",
       "3               0  School email won't open  and I have geography ...   \n",
       "4               0                             upper airways problem    \n",
       "...           ...                                                ...   \n",
       "399995          0  @brykins Splendid! I was told I looked like a ...   \n",
       "399996          0          @herbadmother I'm so sorry!  that IS sad    \n",
       "399997          1  @JosieStingray Sounds like Eddie Murphy is coo...   \n",
       "399998          0  http://twitpic.com/4incl - The tiny Porter pla...   \n",
       "399999          1  Im glad i got my old gameboy to work,now whene...   \n",
       "\n",
       "                                       preprocessed_tweet  \\\n",
       "0       [@, chrishasboob, ahhh, i, hope, your, ok, !, ...   \n",
       "1       [@, misstoriblack, cool, ,, i, have, no, tweet...   \n",
       "2       [@, tiannachao, i, know, just, famili, drama, ...   \n",
       "3       [school, email, wo, n't, open, and, i, have, g...   \n",
       "4                                [upper, airway, problem]   \n",
       "...                                                   ...   \n",
       "399995  [@, brykin, splendid, !, i, wa, told, i, look,...   \n",
       "399996  [@, herbadmoth, i, 'm, so, sorri, !, that, is,...   \n",
       "399997  [@, josiestingray, sound, like, eddi, murphi, ...   \n",
       "399998  [http, :, //twitpic.com/4incl, -, the, tini, p...   \n",
       "399999  [im, glad, i, got, my, old, gameboy, to, work,...   \n",
       "\n",
       "                                  more_preprocessed_tweet  \n",
       "0                               [ahhh, i, hope, your, ok]  \n",
       "1          [cool, i, have, no, tweet, app, for, my, razr]  \n",
       "2       [i, know, just, famili, drama, it, lame, hey, ...  \n",
       "3       [school, email, won, t, open, and, i, have, ge...  \n",
       "4                                [upper, airway, problem]  \n",
       "...                                                   ...  \n",
       "399995  [splendid, i, wa, told, i, look, like, a, moom...  \n",
       "399996                   [i, m, so, sorri, that, is, sad]  \n",
       "399997  [sound, like, eddi, murphi, is, cook, tonight,...  \n",
       "399998  [the, tini, porter, plane, that, took, me, fro...  \n",
       "399999  [im, glad, i, got, my, old, gameboy, to, work,...  \n",
       "\n",
       "[400000 rows x 4 columns]"
      ]
     },
     "execution_count": 5,
     "metadata": {},
     "output_type": "execute_result"
    }
   ],
   "source": [
    "# Apply the preprocessing function to the \"tweet\" column\n",
    "data['preprocessed_tweet'] = data['tweet'].apply(preprocess_text)\n",
    "data['more_preprocessed_tweet'] = data['tweet'].apply(preprocess_and_tokenize)\n",
    "\n",
    "data"
   ]
  },
  {
   "cell_type": "code",
   "execution_count": 6,
   "id": "7138a689",
   "metadata": {},
   "outputs": [],
   "source": [
    "# Split the data into training and test data (80% train, 20% test)\n",
    "train_data, test_data = train_test_split(data, test_size=0.2, random_state=42)"
   ]
  },
  {
   "cell_type": "markdown",
   "id": "4ca62c2c",
   "metadata": {},
   "source": [
    "## Testing/validating data"
   ]
  },
  {
   "cell_type": "markdown",
   "id": "d5ac9ff3",
   "metadata": {},
   "source": [
    "Usually if a document is used to train a classifier, then the trained classifier can most likely make a correct prediction on this training document. What is more challenging is for the classifier to predict the labels of unseen documents. To check how well our trained classifier can perform on unseen documents, we need to use some new documents.\n",
    "\n"
   ]
  },
  {
   "cell_type": "markdown",
   "id": "cdcfcaf1",
   "metadata": {},
   "source": [
    "Now, load and process the test data that requires classification"
   ]
  },
  {
   "cell_type": "code",
   "execution_count": 7,
   "id": "3266084f",
   "metadata": {},
   "outputs": [],
   "source": [
    "class_names = ['positive', 'negative']"
   ]
  },
  {
   "cell_type": "markdown",
   "id": "4281f752",
   "metadata": {},
   "source": [
    "### Confusion Matrix"
   ]
  },
  {
   "cell_type": "code",
   "execution_count": 8,
   "id": "96c73a8c",
   "metadata": {},
   "outputs": [],
   "source": [
    "def plot_confusion_matrix(y_true, y_pred, classes,\n",
    "                          normalize=False,\n",
    "                          title=None,\n",
    "                          cmap=plt.cm.Blues):\n",
    "    '''\n",
    "    This function prints and plots the confusion matrix.\n",
    "    Normalization can be applied by setting `normalize=True`.\n",
    "    '''\n",
    "    if not title:\n",
    "        if normalize:\n",
    "            title = 'Normalized confusion matrix'\n",
    "        else:\n",
    "            title = 'Confusion matrix, without normalization'\n",
    "\n",
    "    # Compute confusion matrix\n",
    "    cm = confusion_matrix(y_true, y_pred)\n",
    "\n",
    "    if normalize:\n",
    "        cm = cm.astype('float') / cm.sum(axis=1)[:, np.newaxis]\n",
    "\n",
    "    fig, ax = plt.subplots()\n",
    "    \n",
    "    # Set size\n",
    "    fig.set_size_inches(12.5, 7.5)\n",
    "    im = ax.imshow(cm, interpolation='nearest', cmap=cmap)\n",
    "    ax.figure.colorbar(im, ax=ax)\n",
    "    ax.grid(False)\n",
    "    \n",
    "    # We want to show all ticks...\n",
    "    ax.set(xticks=np.arange(cm.shape[1]),\n",
    "           yticks=np.arange(cm.shape[0]),\n",
    "           # ... and label them with the respective list entries\n",
    "           xticklabels=classes, yticklabels=classes,\n",
    "           title=title,\n",
    "           ylabel='True label',\n",
    "           xlabel='Predicted label')\n",
    "\n",
    "    # Rotate the tick labels and set their alignment.\n",
    "    plt.setp(ax.get_xticklabels(), rotation=45, ha=\"right\",\n",
    "             rotation_mode=\"anchor\")\n",
    "\n",
    "    # Loop over data dimensions and create text annotations.\n",
    "    fmt = '.2f' if normalize else 'd'\n",
    "    thresh = cm.max() / 2.\n",
    "    for i in range(cm.shape[0]):\n",
    "        for j in range(cm.shape[1]):\n",
    "            ax.text(j, i, format(cm[i, j], fmt),\n",
    "                    ha=\"center\", va=\"center\",\n",
    "                    color=\"white\" if cm[i, j] > thresh else \"black\")\n",
    "    fig.tight_layout()\n",
    "    return ax"
   ]
  },
  {
   "cell_type": "markdown",
   "id": "f107e91a",
   "metadata": {},
   "source": [
    "## Test Representation\n",
    "Vectorizing text using Term Frequency technique (Term Frequency(TF) — Inverse Dense Frequency(IDF))\n",
    "* Tokenize with our preprocess_and_tokenize\n",
    "* Find it’s TF = (Number of repetitions of word in a document) / (# of words in a document)\n",
    "* IDF = log(# of documents / # of documents containing the word)\n",
    "\n",
    "Firstly, prepare dataset."
   ]
  },
  {
   "cell_type": "code",
   "execution_count": 9,
   "id": "3f08f917",
   "metadata": {},
   "outputs": [
    {
     "name": "stdout",
     "output_type": "stream",
     "text": [
      "size of training set: 320000\n",
      "size of validation set: 80000\n",
      "1    200419\n",
      "0    199581\n",
      "Name: sentiment, dtype: int64\n"
     ]
    },
    {
     "data": {
      "text/html": [
       "<div>\n",
       "<style scoped>\n",
       "    .dataframe tbody tr th:only-of-type {\n",
       "        vertical-align: middle;\n",
       "    }\n",
       "\n",
       "    .dataframe tbody tr th {\n",
       "        vertical-align: top;\n",
       "    }\n",
       "\n",
       "    .dataframe thead th {\n",
       "        text-align: right;\n",
       "    }\n",
       "</style>\n",
       "<table border=\"1\" class=\"dataframe\">\n",
       "  <thead>\n",
       "    <tr style=\"text-align: right;\">\n",
       "      <th></th>\n",
       "      <th>sentiment</th>\n",
       "      <th>tweet</th>\n",
       "      <th>preprocessed_tweet</th>\n",
       "      <th>more_preprocessed_tweet</th>\n",
       "    </tr>\n",
       "  </thead>\n",
       "  <tbody>\n",
       "    <tr>\n",
       "      <th>242245</th>\n",
       "      <td>1</td>\n",
       "      <td>The full moon tonight is amazing. Almost like ...</td>\n",
       "      <td>[the, full, moon, tonight, is, amaz, ., almost...</td>\n",
       "      <td>[the, full, moon, tonight, is, amaz, almost, l...</td>\n",
       "    </tr>\n",
       "    <tr>\n",
       "      <th>288918</th>\n",
       "      <td>0</td>\n",
       "      <td>@buttercupamy I miss Amy cards</td>\n",
       "      <td>[@, buttercupami, i, miss, ami, card]</td>\n",
       "      <td>[i, miss, ami, card]</td>\n",
       "    </tr>\n",
       "    <tr>\n",
       "      <th>105103</th>\n",
       "      <td>1</td>\n",
       "      <td>At work and reading People's 100 most beautifu...</td>\n",
       "      <td>[at, work, and, read, peopl, 's, 100, most, be...</td>\n",
       "      <td>[at, work, and, read, peopl, s, most, beauti, ...</td>\n",
       "    </tr>\n",
       "    <tr>\n",
       "      <th>63504</th>\n",
       "      <td>1</td>\n",
       "      <td>@likelyto get how are you doing? thanks for fo...</td>\n",
       "      <td>[@, likelyto, get, how, are, you, do, ?, thank...</td>\n",
       "      <td>[get, how, are, you, do, thank, for, follow, m...</td>\n",
       "    </tr>\n",
       "    <tr>\n",
       "      <th>239180</th>\n",
       "      <td>1</td>\n",
       "      <td>Kinky, now I get it</td>\n",
       "      <td>[kinki, ,, now, i, get, it]</td>\n",
       "      <td>[kinki, now, i, get, it]</td>\n",
       "    </tr>\n",
       "  </tbody>\n",
       "</table>\n",
       "</div>"
      ],
      "text/plain": [
       "        sentiment                                              tweet  \\\n",
       "242245          1  The full moon tonight is amazing. Almost like ...   \n",
       "288918          0                    @buttercupamy I miss Amy cards    \n",
       "105103          1  At work and reading People's 100 most beautifu...   \n",
       "63504           1  @likelyto get how are you doing? thanks for fo...   \n",
       "239180          1                               Kinky, now I get it    \n",
       "\n",
       "                                       preprocessed_tweet  \\\n",
       "242245  [the, full, moon, tonight, is, amaz, ., almost...   \n",
       "288918              [@, buttercupami, i, miss, ami, card]   \n",
       "105103  [at, work, and, read, peopl, 's, 100, most, be...   \n",
       "63504   [@, likelyto, get, how, are, you, do, ?, thank...   \n",
       "239180                        [kinki, ,, now, i, get, it]   \n",
       "\n",
       "                                  more_preprocessed_tweet  \n",
       "242245  [the, full, moon, tonight, is, amaz, almost, l...  \n",
       "288918                               [i, miss, ami, card]  \n",
       "105103  [at, work, and, read, peopl, s, most, beauti, ...  \n",
       "63504   [get, how, are, you, do, thank, for, follow, m...  \n",
       "239180                           [kinki, now, i, get, it]  "
      ]
     },
     "execution_count": 9,
     "metadata": {},
     "output_type": "execute_result"
    }
   ],
   "source": [
    "X_train = train_data.tweet\n",
    "X_test = test_data.tweet\n",
    "\n",
    "y_train = train_data.sentiment\n",
    "y_test = test_data.sentiment\n",
    "\n",
    "idf_data = pd.concat([train_data, test_data])\n",
    "\n",
    "print('size of training set: %s' % (len(train_data['tweet'])))\n",
    "print('size of validation set: %s' % (len(test_data['tweet'])))\n",
    "print(idf_data.sentiment.value_counts())\n",
    "\n",
    "idf_data.head()"
   ]
  },
  {
   "cell_type": "code",
   "execution_count": 10,
   "id": "5810cb97",
   "metadata": {},
   "outputs": [],
   "source": [
    "# TFIDF, unigrams and bigrams\n",
    "vect = TfidfVectorizer(tokenizer=preprocess_text, sublinear_tf=True, norm='l2', ngram_range=(1, 2))"
   ]
  },
  {
   "cell_type": "code",
   "execution_count": 11,
   "id": "4caa7bfc",
   "metadata": {},
   "outputs": [],
   "source": [
    "# fit on our complete corpus\n",
    "vect.fit_transform(idf_data.tweet)\n",
    "\n",
    "# transform testing and training datasets to vectors\n",
    "X_train_vect = vect.transform(X_train)\n",
    "X_test_vect = vect.transform(X_test)"
   ]
  },
  {
   "cell_type": "markdown",
   "id": "d107f943",
   "metadata": {},
   "source": [
    "## Classifiers\n",
    "\n",
    "Time to run the different classifiers now that the text has been transformed into vectors. This is so that we can eventually select the most appropriate classifier that we will use for the model."
   ]
  },
  {
   "cell_type": "markdown",
   "id": "6992458f",
   "metadata": {},
   "source": [
    "### Logistic Regression "
   ]
  },
  {
   "cell_type": "code",
   "execution_count": 12,
   "id": "0d76155a",
   "metadata": {},
   "outputs": [
    {
     "name": "stderr",
     "output_type": "stream",
     "text": [
      "/Users/ngohanping/opt/anaconda3/lib/python3.9/site-packages/sklearn/linear_model/_logistic.py:763: ConvergenceWarning: lbfgs failed to converge (status=1):\n",
      "STOP: TOTAL NO. of ITERATIONS REACHED LIMIT.\n",
      "\n",
      "Increase the number of iterations (max_iter) or scale the data as shown in:\n",
      "    https://scikit-learn.org/stable/modules/preprocessing.html\n",
      "Please also refer to the documentation for alternative solver options:\n",
      "    https://scikit-learn.org/stable/modules/linear_model.html#logistic-regression\n",
      "  n_iter_i = _check_optimize_result(\n"
     ]
    },
    {
     "name": "stdout",
     "output_type": "stream",
     "text": [
      "Accuracy: 81.23%\n",
      "Precision: 81.26%\n",
      "Recall: 81.23%\n",
      "\n",
      "F1 Score: 81.23\n",
      "\n",
      "COnfusion Matrix:\n",
      " [[31663  8184]\n",
      " [ 6833 33320]]\n"
     ]
    },
    {
     "data": {
      "image/png": "[encoded data removed]",
      "text/plain": [
       "<Figure size 900x540 with 2 Axes>"
      ]
     },
     "metadata": {
      "needs_background": "light"
     },
     "output_type": "display_data"
    }
   ],
   "source": [
    "log = LogisticRegression(solver='lbfgs', multi_class='auto', max_iter=200)\n",
    "log.fit(X_train_vect, y_train)\n",
    "\n",
    "ylog_pred = log.predict(X_test_vect)\n",
    "\n",
    "print(\"Accuracy: {:.2f}%\".format(accuracy_score(y_test, ylog_pred) * 100))\n",
    "print(\"Precision: {:.2f}%\".format(precision_score(y_test, ylog_pred, average='weighted') * 100))\n",
    "print(\"Recall: {:.2f}%\".format(recall_score(y_test, ylog_pred, average='weighted') * 100))\n",
    "print(\"\\nF1 Score: {:.2f}\".format(f1_score(y_test, ylog_pred, average='micro') * 100))\n",
    "print(\"\\nCOnfusion Matrix:\\n\", confusion_matrix(y_test, ylog_pred))\n",
    "\n",
    "plot_confusion_matrix(y_test, ylog_pred, classes=class_names, normalize=True, title='Normalized confusion matrix')\n",
    "plt.show()"
   ]
  },
  {
   "cell_type": "markdown",
   "id": "54c29e33",
   "metadata": {},
   "source": [
    "### Linear Support Vector"
   ]
  },
  {
   "cell_type": "code",
   "execution_count": 13,
   "id": "4e5e275b",
   "metadata": {
    "scrolled": true
   },
   "outputs": [
    {
     "name": "stdout",
     "output_type": "stream",
     "text": [
      "Accuracy: 81.24%\n",
      "Precision: 81.27%\n",
      "Recall: 81.24%\n",
      "\n",
      "F1 Score: 81.24\n",
      "\n",
      "COnfusion Matrix:\n",
      " [[31720  8127]\n",
      " [ 6883 33270]]\n"
     ]
    },
    {
     "data": {
      "image/png": "[encoded data removed]",
      "text/plain": [
       "<Figure size 900x540 with 2 Axes>"
      ]
     },
     "metadata": {
      "needs_background": "light"
     },
     "output_type": "display_data"
    }
   ],
   "source": [
    "svc = LinearSVC(tol=1e-05)\n",
    "svc.fit(X_train_vect, y_train)\n",
    "\n",
    "ysvm_pred = svc.predict(X_test_vect)\n",
    "\n",
    "print(\"Accuracy: {:.2f}%\".format(accuracy_score(y_test, ysvm_pred) * 100))\n",
    "print(\"Precision: {:.2f}%\".format(precision_score(y_test, ysvm_pred, average='weighted') * 100))\n",
    "print(\"Recall: {:.2f}%\".format(recall_score(y_test, ysvm_pred, average='weighted') * 100))\n",
    "print(\"\\nF1 Score: {:.2f}\".format(f1_score(y_test, ysvm_pred, average='micro') * 100))\n",
    "print(\"\\nCOnfusion Matrix:\\n\", confusion_matrix(y_test, ysvm_pred))\n",
    "\n",
    "plot_confusion_matrix(y_test, ysvm_pred, classes=class_names, normalize=True, title='Normalized confusion matrix')\n",
    "plt.show()"
   ]
  },
  {
   "cell_type": "markdown",
   "id": "79ee96fc",
   "metadata": {},
   "source": [
    "## Prediction"
   ]
  },
  {
   "cell_type": "code",
   "execution_count": 14,
   "id": "a61397bb",
   "metadata": {},
   "outputs": [
    {
     "data": {
      "text/html": [
       "<div>\n",
       "<style scoped>\n",
       "    .dataframe tbody tr th:only-of-type {\n",
       "        vertical-align: middle;\n",
       "    }\n",
       "\n",
       "    .dataframe tbody tr th {\n",
       "        vertical-align: top;\n",
       "    }\n",
       "\n",
       "    .dataframe thead th {\n",
       "        text-align: right;\n",
       "    }\n",
       "</style>\n",
       "<table border=\"1\" class=\"dataframe\">\n",
       "  <thead>\n",
       "    <tr style=\"text-align: right;\">\n",
       "      <th></th>\n",
       "      <th>id</th>\n",
       "      <th>conversation_id</th>\n",
       "      <th>created_at</th>\n",
       "      <th>date</th>\n",
       "      <th>time</th>\n",
       "      <th>user_id</th>\n",
       "      <th>tweet</th>\n",
       "      <th>language</th>\n",
       "      <th>hashtags</th>\n",
       "      <th>reply_to</th>\n",
       "      <th>translated_text</th>\n",
       "      <th>tokenized_text</th>\n",
       "    </tr>\n",
       "  </thead>\n",
       "  <tbody>\n",
       "    <tr>\n",
       "      <th>0</th>\n",
       "      <td>1598103832080584704</td>\n",
       "      <td>1598103832080584704</td>\n",
       "      <td>2022-12-01 07:56:59 Malay Peninsula Standard Time</td>\n",
       "      <td>2022-12-01</td>\n",
       "      <td>07:56:59</td>\n",
       "      <td>1582818998324178944</td>\n",
       "      <td>Twitterのフォロワーを増やしたい。最低でも1万人。 #ChatGPT  https:/...</td>\n",
       "      <td>ja</td>\n",
       "      <td>['chatgpt']</td>\n",
       "      <td>[]</td>\n",
       "      <td>I want to increase my Twitter followers. At le...</td>\n",
       "      <td>['I', 'want', 'to', 'increase', 'my', 'Twitter...</td>\n",
       "    </tr>\n",
       "    <tr>\n",
       "      <th>1</th>\n",
       "      <td>1598103601507102720</td>\n",
       "      <td>1598103597388279808</td>\n",
       "      <td>2022-12-01 07:56:04 Malay Peninsula Standard Time</td>\n",
       "      <td>2022-12-01</td>\n",
       "      <td>07:56:04</td>\n",
       "      <td>1454189325432901640</td>\n",
       "      <td>Overall, using AI to create art can expand the...</td>\n",
       "      <td>en</td>\n",
       "      <td>['chatgpt']</td>\n",
       "      <td>[]</td>\n",
       "      <td>Overall, using AI to create art can expand the...</td>\n",
       "      <td>['Overall', ',', 'using', 'AI', 'to', 'create'...</td>\n",
       "    </tr>\n",
       "    <tr>\n",
       "      <th>2</th>\n",
       "      <td>1598103593634369536</td>\n",
       "      <td>1598103593634369536</td>\n",
       "      <td>2022-12-01 07:56:02 Malay Peninsula Standard Time</td>\n",
       "      <td>2022-12-01</td>\n",
       "      <td>07:56:02</td>\n",
       "      <td>118166119</td>\n",
       "      <td>Este prompt fue creado con #ChatGPT el nuevo m...</td>\n",
       "      <td>es</td>\n",
       "      <td>['chatgpt', 'martesdedatos', 'chatgpt']</td>\n",
       "      <td>[]</td>\n",
       "      <td>This prompt was created with #ChatGPT the new ...</td>\n",
       "      <td>['This', 'prompt', 'was', 'created', 'with', '...</td>\n",
       "    </tr>\n",
       "    <tr>\n",
       "      <th>3</th>\n",
       "      <td>1598103115060084736</td>\n",
       "      <td>1598103115060084736</td>\n",
       "      <td>2022-12-01 07:54:08 Malay Peninsula Standard Time</td>\n",
       "      <td>2022-12-01</td>\n",
       "      <td>07:54:08</td>\n",
       "      <td>141730376</td>\n",
       "      <td>Just played around with OpenAI's new #ChatGPT ...</td>\n",
       "      <td>en</td>\n",
       "      <td>['chatgpt', 'embodiedcarbon', 'poetry']</td>\n",
       "      <td>[]</td>\n",
       "      <td>Just played around with OpenAI's new #ChatGPT ...</td>\n",
       "      <td>['Just', 'played', 'around', 'with', \"OpenAI's...</td>\n",
       "    </tr>\n",
       "    <tr>\n",
       "      <th>4</th>\n",
       "      <td>1598102468243599361</td>\n",
       "      <td>1598102468243599360</td>\n",
       "      <td>2022-12-01 07:51:34 Malay Peninsula Standard Time</td>\n",
       "      <td>2022-12-01</td>\n",
       "      <td>07:51:34</td>\n",
       "      <td>4034337795</td>\n",
       "      <td>I asked #ChatGPT to write me a story about Sov...</td>\n",
       "      <td>en</td>\n",
       "      <td>['chatgpt']</td>\n",
       "      <td>[]</td>\n",
       "      <td>I asked #ChatGPT to write me a story about Sov...</td>\n",
       "      <td>['I', 'asked', '#ChatGPT', 'to', 'write', 'me'...</td>\n",
       "    </tr>\n",
       "  </tbody>\n",
       "</table>\n",
       "</div>"
      ],
      "text/plain": [
       "                    id      conversation_id  \\\n",
       "0  1598103832080584704  1598103832080584704   \n",
       "1  1598103601507102720  1598103597388279808   \n",
       "2  1598103593634369536  1598103593634369536   \n",
       "3  1598103115060084736  1598103115060084736   \n",
       "4  1598102468243599361  1598102468243599360   \n",
       "\n",
       "                                          created_at        date      time  \\\n",
       "0  2022-12-01 07:56:59 Malay Peninsula Standard Time  2022-12-01  07:56:59   \n",
       "1  2022-12-01 07:56:04 Malay Peninsula Standard Time  2022-12-01  07:56:04   \n",
       "2  2022-12-01 07:56:02 Malay Peninsula Standard Time  2022-12-01  07:56:02   \n",
       "3  2022-12-01 07:54:08 Malay Peninsula Standard Time  2022-12-01  07:54:08   \n",
       "4  2022-12-01 07:51:34 Malay Peninsula Standard Time  2022-12-01  07:51:34   \n",
       "\n",
       "               user_id                                              tweet  \\\n",
       "0  1582818998324178944  Twitterのフォロワーを増やしたい。最低でも1万人。 #ChatGPT  https:/...   \n",
       "1  1454189325432901640  Overall, using AI to create art can expand the...   \n",
       "2            118166119  Este prompt fue creado con #ChatGPT el nuevo m...   \n",
       "3            141730376  Just played around with OpenAI's new #ChatGPT ...   \n",
       "4           4034337795  I asked #ChatGPT to write me a story about Sov...   \n",
       "\n",
       "  language                                 hashtags reply_to  \\\n",
       "0       ja                              ['chatgpt']       []   \n",
       "1       en                              ['chatgpt']       []   \n",
       "2       es  ['chatgpt', 'martesdedatos', 'chatgpt']       []   \n",
       "3       en  ['chatgpt', 'embodiedcarbon', 'poetry']       []   \n",
       "4       en                              ['chatgpt']       []   \n",
       "\n",
       "                                     translated_text  \\\n",
       "0  I want to increase my Twitter followers. At le...   \n",
       "1  Overall, using AI to create art can expand the...   \n",
       "2  This prompt was created with #ChatGPT the new ...   \n",
       "3  Just played around with OpenAI's new #ChatGPT ...   \n",
       "4  I asked #ChatGPT to write me a story about Sov...   \n",
       "\n",
       "                                      tokenized_text  \n",
       "0  ['I', 'want', 'to', 'increase', 'my', 'Twitter...  \n",
       "1  ['Overall', ',', 'using', 'AI', 'to', 'create'...  \n",
       "2  ['This', 'prompt', 'was', 'created', 'with', '...  \n",
       "3  ['Just', 'played', 'around', 'with', \"OpenAI's...  \n",
       "4  ['I', 'asked', '#ChatGPT', 'to', 'write', 'me'...  "
      ]
     },
     "execution_count": 14,
     "metadata": {},
     "output_type": "execute_result"
    }
   ],
   "source": [
    "predicting_file = 'translated_dataframe.csv'\n",
    "p_data = pd.read_csv(predicting_file)\n",
    "p_data.head()"
   ]
  },
  {
   "cell_type": "code",
   "execution_count": 15,
   "id": "8a374222",
   "metadata": {},
   "outputs": [
    {
     "data": {
      "text/html": [
       "<div>\n",
       "<style scoped>\n",
       "    .dataframe tbody tr th:only-of-type {\n",
       "        vertical-align: middle;\n",
       "    }\n",
       "\n",
       "    .dataframe tbody tr th {\n",
       "        vertical-align: top;\n",
       "    }\n",
       "\n",
       "    .dataframe thead th {\n",
       "        text-align: right;\n",
       "    }\n",
       "</style>\n",
       "<table border=\"1\" class=\"dataframe\">\n",
       "  <thead>\n",
       "    <tr style=\"text-align: right;\">\n",
       "      <th></th>\n",
       "      <th>tweet</th>\n",
       "      <th>translated_text</th>\n",
       "      <th>tokenized_text</th>\n",
       "    </tr>\n",
       "  </thead>\n",
       "  <tbody>\n",
       "    <tr>\n",
       "      <th>0</th>\n",
       "      <td>Twitterのフォロワーを増やしたい。最低でも1万人。 #ChatGPT  https:/...</td>\n",
       "      <td>I want to increase my Twitter followers. At le...</td>\n",
       "      <td>['I', 'want', 'to', 'increase', 'my', 'Twitter...</td>\n",
       "    </tr>\n",
       "    <tr>\n",
       "      <th>1</th>\n",
       "      <td>Overall, using AI to create art can expand the...</td>\n",
       "      <td>Overall, using AI to create art can expand the...</td>\n",
       "      <td>['Overall', ',', 'using', 'AI', 'to', 'create'...</td>\n",
       "    </tr>\n",
       "    <tr>\n",
       "      <th>2</th>\n",
       "      <td>Este prompt fue creado con #ChatGPT el nuevo m...</td>\n",
       "      <td>This prompt was created with #ChatGPT the new ...</td>\n",
       "      <td>['This', 'prompt', 'was', 'created', 'with', '...</td>\n",
       "    </tr>\n",
       "    <tr>\n",
       "      <th>3</th>\n",
       "      <td>Just played around with OpenAI's new #ChatGPT ...</td>\n",
       "      <td>Just played around with OpenAI's new #ChatGPT ...</td>\n",
       "      <td>['Just', 'played', 'around', 'with', \"OpenAI's...</td>\n",
       "    </tr>\n",
       "    <tr>\n",
       "      <th>4</th>\n",
       "      <td>I asked #ChatGPT to write me a story about Sov...</td>\n",
       "      <td>I asked #ChatGPT to write me a story about Sov...</td>\n",
       "      <td>['I', 'asked', '#ChatGPT', 'to', 'write', 'me'...</td>\n",
       "    </tr>\n",
       "  </tbody>\n",
       "</table>\n",
       "</div>"
      ],
      "text/plain": [
       "                                               tweet  \\\n",
       "0  Twitterのフォロワーを増やしたい。最低でも1万人。 #ChatGPT  https:/...   \n",
       "1  Overall, using AI to create art can expand the...   \n",
       "2  Este prompt fue creado con #ChatGPT el nuevo m...   \n",
       "3  Just played around with OpenAI's new #ChatGPT ...   \n",
       "4  I asked #ChatGPT to write me a story about Sov...   \n",
       "\n",
       "                                     translated_text  \\\n",
       "0  I want to increase my Twitter followers. At le...   \n",
       "1  Overall, using AI to create art can expand the...   \n",
       "2  This prompt was created with #ChatGPT the new ...   \n",
       "3  Just played around with OpenAI's new #ChatGPT ...   \n",
       "4  I asked #ChatGPT to write me a story about Sov...   \n",
       "\n",
       "                                      tokenized_text  \n",
       "0  ['I', 'want', 'to', 'increase', 'my', 'Twitter...  \n",
       "1  ['Overall', ',', 'using', 'AI', 'to', 'create'...  \n",
       "2  ['This', 'prompt', 'was', 'created', 'with', '...  \n",
       "3  ['Just', 'played', 'around', 'with', \"OpenAI's...  \n",
       "4  ['I', 'asked', '#ChatGPT', 'to', 'write', 'me'...  "
      ]
     },
     "execution_count": 15,
     "metadata": {},
     "output_type": "execute_result"
    }
   ],
   "source": [
    "# clean unnecessary columns\n",
    "pred_data = p_data.drop(columns=['id', 'conversation_id','created_at','date','time','user_id','language','hashtags','reply_to'])\n",
    "pred_data.head()"
   ]
  },
  {
   "cell_type": "code",
   "execution_count": 17,
   "id": "2003a79a",
   "metadata": {
    "scrolled": true
   },
   "outputs": [
    {
     "name": "stdout",
     "output_type": "stream",
     "text": [
      "size of predicting set: 35371\n"
     ]
    },
    {
     "data": {
      "text/html": [
       "<div>\n",
       "<style scoped>\n",
       "    .dataframe tbody tr th:only-of-type {\n",
       "        vertical-align: middle;\n",
       "    }\n",
       "\n",
       "    .dataframe tbody tr th {\n",
       "        vertical-align: top;\n",
       "    }\n",
       "\n",
       "    .dataframe thead th {\n",
       "        text-align: right;\n",
       "    }\n",
       "</style>\n",
       "<table border=\"1\" class=\"dataframe\">\n",
       "  <thead>\n",
       "    <tr style=\"text-align: right;\">\n",
       "      <th></th>\n",
       "      <th>tweet</th>\n",
       "      <th>translated_text</th>\n",
       "      <th>tokenized_text</th>\n",
       "    </tr>\n",
       "  </thead>\n",
       "  <tbody>\n",
       "    <tr>\n",
       "      <th>0</th>\n",
       "      <td>Twitterのフォロワーを増やしたい。最低でも1万人。 #ChatGPT  https:/...</td>\n",
       "      <td>I want to increase my Twitter followers. At le...</td>\n",
       "      <td>['I', 'want', 'to', 'increase', 'my', 'Twitter...</td>\n",
       "    </tr>\n",
       "    <tr>\n",
       "      <th>1</th>\n",
       "      <td>Overall, using AI to create art can expand the...</td>\n",
       "      <td>Overall, using AI to create art can expand the...</td>\n",
       "      <td>['Overall', ',', 'using', 'AI', 'to', 'create'...</td>\n",
       "    </tr>\n",
       "    <tr>\n",
       "      <th>2</th>\n",
       "      <td>Este prompt fue creado con #ChatGPT el nuevo m...</td>\n",
       "      <td>This prompt was created with #ChatGPT the new ...</td>\n",
       "      <td>['This', 'prompt', 'was', 'created', 'with', '...</td>\n",
       "    </tr>\n",
       "    <tr>\n",
       "      <th>3</th>\n",
       "      <td>Just played around with OpenAI's new #ChatGPT ...</td>\n",
       "      <td>Just played around with OpenAI's new #ChatGPT ...</td>\n",
       "      <td>['Just', 'played', 'around', 'with', \"OpenAI's...</td>\n",
       "    </tr>\n",
       "    <tr>\n",
       "      <th>4</th>\n",
       "      <td>I asked #ChatGPT to write me a story about Sov...</td>\n",
       "      <td>I asked #ChatGPT to write me a story about Sov...</td>\n",
       "      <td>['I', 'asked', '#ChatGPT', 'to', 'write', 'me'...</td>\n",
       "    </tr>\n",
       "  </tbody>\n",
       "</table>\n",
       "</div>"
      ],
      "text/plain": [
       "                                               tweet  \\\n",
       "0  Twitterのフォロワーを増やしたい。最低でも1万人。 #ChatGPT  https:/...   \n",
       "1  Overall, using AI to create art can expand the...   \n",
       "2  Este prompt fue creado con #ChatGPT el nuevo m...   \n",
       "3  Just played around with OpenAI's new #ChatGPT ...   \n",
       "4  I asked #ChatGPT to write me a story about Sov...   \n",
       "\n",
       "                                     translated_text  \\\n",
       "0  I want to increase my Twitter followers. At le...   \n",
       "1  Overall, using AI to create art can expand the...   \n",
       "2  This prompt was created with #ChatGPT the new ...   \n",
       "3  Just played around with OpenAI's new #ChatGPT ...   \n",
       "4  I asked #ChatGPT to write me a story about Sov...   \n",
       "\n",
       "                                      tokenized_text  \n",
       "0  ['I', 'want', 'to', 'increase', 'my', 'Twitter...  \n",
       "1  ['Overall', ',', 'using', 'AI', 'to', 'create'...  \n",
       "2  ['This', 'prompt', 'was', 'created', 'with', '...  \n",
       "3  ['Just', 'played', 'around', 'with', \"OpenAI's...  \n",
       "4  ['I', 'asked', '#ChatGPT', 'to', 'write', 'me'...  "
      ]
     },
     "execution_count": 17,
     "metadata": {},
     "output_type": "execute_result"
    }
   ],
   "source": [
    "# X_train = train_data.tweet\n",
    "# X_test = test_data.tweet\n",
    "X_pred = pred_data.translated_text\n",
    "\n",
    "# y_train = train_data.sentiment\n",
    "# y_test = pre_data.sentiment\n",
    "\n",
    "print('size of predicting set: %s' % (len(pred_data['translated_text'])))\n",
    "\n",
    "pred_data.head()"
   ]
  },
  {
   "cell_type": "code",
   "execution_count": 18,
   "id": "76b819f5",
   "metadata": {},
   "outputs": [],
   "source": [
    "# transform predicting datasets to vectors\n",
    "X_pred_vect = vect.transform(X_pred)"
   ]
  },
  {
   "cell_type": "markdown",
   "id": "f549544f",
   "metadata": {},
   "source": [
    "## Log Regression using TFIDF"
   ]
  },
  {
   "cell_type": "code",
   "execution_count": 19,
   "id": "ceed1977",
   "metadata": {},
   "outputs": [
    {
     "data": {
      "text/html": [
       "<div>\n",
       "<style scoped>\n",
       "    .dataframe tbody tr th:only-of-type {\n",
       "        vertical-align: middle;\n",
       "    }\n",
       "\n",
       "    .dataframe tbody tr th {\n",
       "        vertical-align: top;\n",
       "    }\n",
       "\n",
       "    .dataframe thead th {\n",
       "        text-align: right;\n",
       "    }\n",
       "</style>\n",
       "<table border=\"1\" class=\"dataframe\">\n",
       "  <thead>\n",
       "    <tr style=\"text-align: right;\">\n",
       "      <th></th>\n",
       "      <th>tweet</th>\n",
       "      <th>translated_text</th>\n",
       "      <th>tokenized_text</th>\n",
       "      <th>logregress_p_sentiments</th>\n",
       "    </tr>\n",
       "  </thead>\n",
       "  <tbody>\n",
       "    <tr>\n",
       "      <th>0</th>\n",
       "      <td>Twitterのフォロワーを増やしたい。最低でも1万人。 #ChatGPT  https:/...</td>\n",
       "      <td>I want to increase my Twitter followers. At le...</td>\n",
       "      <td>['I', 'want', 'to', 'increase', 'my', 'Twitter...</td>\n",
       "      <td>0</td>\n",
       "    </tr>\n",
       "    <tr>\n",
       "      <th>1</th>\n",
       "      <td>Overall, using AI to create art can expand the...</td>\n",
       "      <td>Overall, using AI to create art can expand the...</td>\n",
       "      <td>['Overall', ',', 'using', 'AI', 'to', 'create'...</td>\n",
       "      <td>1</td>\n",
       "    </tr>\n",
       "    <tr>\n",
       "      <th>2</th>\n",
       "      <td>Este prompt fue creado con #ChatGPT el nuevo m...</td>\n",
       "      <td>This prompt was created with #ChatGPT the new ...</td>\n",
       "      <td>['This', 'prompt', 'was', 'created', 'with', '...</td>\n",
       "      <td>1</td>\n",
       "    </tr>\n",
       "    <tr>\n",
       "      <th>3</th>\n",
       "      <td>Just played around with OpenAI's new #ChatGPT ...</td>\n",
       "      <td>Just played around with OpenAI's new #ChatGPT ...</td>\n",
       "      <td>['Just', 'played', 'around', 'with', \"OpenAI's...</td>\n",
       "      <td>1</td>\n",
       "    </tr>\n",
       "    <tr>\n",
       "      <th>4</th>\n",
       "      <td>I asked #ChatGPT to write me a story about Sov...</td>\n",
       "      <td>I asked #ChatGPT to write me a story about Sov...</td>\n",
       "      <td>['I', 'asked', '#ChatGPT', 'to', 'write', 'me'...</td>\n",
       "      <td>1</td>\n",
       "    </tr>\n",
       "  </tbody>\n",
       "</table>\n",
       "</div>"
      ],
      "text/plain": [
       "                                               tweet  \\\n",
       "0  Twitterのフォロワーを増やしたい。最低でも1万人。 #ChatGPT  https:/...   \n",
       "1  Overall, using AI to create art can expand the...   \n",
       "2  Este prompt fue creado con #ChatGPT el nuevo m...   \n",
       "3  Just played around with OpenAI's new #ChatGPT ...   \n",
       "4  I asked #ChatGPT to write me a story about Sov...   \n",
       "\n",
       "                                     translated_text  \\\n",
       "0  I want to increase my Twitter followers. At le...   \n",
       "1  Overall, using AI to create art can expand the...   \n",
       "2  This prompt was created with #ChatGPT the new ...   \n",
       "3  Just played around with OpenAI's new #ChatGPT ...   \n",
       "4  I asked #ChatGPT to write me a story about Sov...   \n",
       "\n",
       "                                      tokenized_text  logregress_p_sentiments  \n",
       "0  ['I', 'want', 'to', 'increase', 'my', 'Twitter...                        0  \n",
       "1  ['Overall', ',', 'using', 'AI', 'to', 'create'...                        1  \n",
       "2  ['This', 'prompt', 'was', 'created', 'with', '...                        1  \n",
       "3  ['Just', 'played', 'around', 'with', \"OpenAI's...                        1  \n",
       "4  ['I', 'asked', '#ChatGPT', 'to', 'write', 'me'...                        1  "
      ]
     },
     "execution_count": 19,
     "metadata": {},
     "output_type": "execute_result"
    }
   ],
   "source": [
    "# log is already trained, just need to predict\n",
    "ylog_pred = log.predict(X_pred_vect)\n",
    "\n",
    "pred_data['logregress_p_sentiments'] = ylog_pred\n",
    "pred_data.head()"
   ]
  },
  {
   "cell_type": "markdown",
   "id": "02035ae2",
   "metadata": {},
   "source": [
    "## Linear Support Vector using TFIDF"
   ]
  },
  {
   "cell_type": "code",
   "execution_count": 20,
   "id": "9276e2b0",
   "metadata": {},
   "outputs": [
    {
     "data": {
      "text/html": [
       "<div>\n",
       "<style scoped>\n",
       "    .dataframe tbody tr th:only-of-type {\n",
       "        vertical-align: middle;\n",
       "    }\n",
       "\n",
       "    .dataframe tbody tr th {\n",
       "        vertical-align: top;\n",
       "    }\n",
       "\n",
       "    .dataframe thead th {\n",
       "        text-align: right;\n",
       "    }\n",
       "</style>\n",
       "<table border=\"1\" class=\"dataframe\">\n",
       "  <thead>\n",
       "    <tr style=\"text-align: right;\">\n",
       "      <th></th>\n",
       "      <th>tweet</th>\n",
       "      <th>translated_text</th>\n",
       "      <th>tokenized_text</th>\n",
       "      <th>logregress_p_sentiments</th>\n",
       "      <th>svc_p_sentiments</th>\n",
       "    </tr>\n",
       "  </thead>\n",
       "  <tbody>\n",
       "    <tr>\n",
       "      <th>0</th>\n",
       "      <td>Twitterのフォロワーを増やしたい。最低でも1万人。 #ChatGPT  https:/...</td>\n",
       "      <td>I want to increase my Twitter followers. At le...</td>\n",
       "      <td>['I', 'want', 'to', 'increase', 'my', 'Twitter...</td>\n",
       "      <td>0</td>\n",
       "      <td>0</td>\n",
       "    </tr>\n",
       "    <tr>\n",
       "      <th>1</th>\n",
       "      <td>Overall, using AI to create art can expand the...</td>\n",
       "      <td>Overall, using AI to create art can expand the...</td>\n",
       "      <td>['Overall', ',', 'using', 'AI', 'to', 'create'...</td>\n",
       "      <td>1</td>\n",
       "      <td>1</td>\n",
       "    </tr>\n",
       "    <tr>\n",
       "      <th>2</th>\n",
       "      <td>Este prompt fue creado con #ChatGPT el nuevo m...</td>\n",
       "      <td>This prompt was created with #ChatGPT the new ...</td>\n",
       "      <td>['This', 'prompt', 'was', 'created', 'with', '...</td>\n",
       "      <td>1</td>\n",
       "      <td>1</td>\n",
       "    </tr>\n",
       "    <tr>\n",
       "      <th>3</th>\n",
       "      <td>Just played around with OpenAI's new #ChatGPT ...</td>\n",
       "      <td>Just played around with OpenAI's new #ChatGPT ...</td>\n",
       "      <td>['Just', 'played', 'around', 'with', \"OpenAI's...</td>\n",
       "      <td>1</td>\n",
       "      <td>1</td>\n",
       "    </tr>\n",
       "    <tr>\n",
       "      <th>4</th>\n",
       "      <td>I asked #ChatGPT to write me a story about Sov...</td>\n",
       "      <td>I asked #ChatGPT to write me a story about Sov...</td>\n",
       "      <td>['I', 'asked', '#ChatGPT', 'to', 'write', 'me'...</td>\n",
       "      <td>1</td>\n",
       "      <td>0</td>\n",
       "    </tr>\n",
       "  </tbody>\n",
       "</table>\n",
       "</div>"
      ],
      "text/plain": [
       "                                               tweet  \\\n",
       "0  Twitterのフォロワーを増やしたい。最低でも1万人。 #ChatGPT  https:/...   \n",
       "1  Overall, using AI to create art can expand the...   \n",
       "2  Este prompt fue creado con #ChatGPT el nuevo m...   \n",
       "3  Just played around with OpenAI's new #ChatGPT ...   \n",
       "4  I asked #ChatGPT to write me a story about Sov...   \n",
       "\n",
       "                                     translated_text  \\\n",
       "0  I want to increase my Twitter followers. At le...   \n",
       "1  Overall, using AI to create art can expand the...   \n",
       "2  This prompt was created with #ChatGPT the new ...   \n",
       "3  Just played around with OpenAI's new #ChatGPT ...   \n",
       "4  I asked #ChatGPT to write me a story about Sov...   \n",
       "\n",
       "                                      tokenized_text  logregress_p_sentiments  \\\n",
       "0  ['I', 'want', 'to', 'increase', 'my', 'Twitter...                        0   \n",
       "1  ['Overall', ',', 'using', 'AI', 'to', 'create'...                        1   \n",
       "2  ['This', 'prompt', 'was', 'created', 'with', '...                        1   \n",
       "3  ['Just', 'played', 'around', 'with', \"OpenAI's...                        1   \n",
       "4  ['I', 'asked', '#ChatGPT', 'to', 'write', 'me'...                        1   \n",
       "\n",
       "   svc_p_sentiments  \n",
       "0                 0  \n",
       "1                 1  \n",
       "2                 1  \n",
       "3                 1  \n",
       "4                 0  "
      ]
     },
     "execution_count": 20,
     "metadata": {},
     "output_type": "execute_result"
    }
   ],
   "source": [
    "ysvm_pred = svc.predict(X_pred_vect)\n",
    "\n",
    "pred_data['svc_p_sentiments'] = ysvm_pred\n",
    "pred_data.head()"
   ]
  },
  {
   "cell_type": "markdown",
   "id": "edaac038",
   "metadata": {},
   "source": [
    "# View distribution of sentiments using two different classifiers"
   ]
  },
  {
   "cell_type": "code",
   "execution_count": 21,
   "id": "c84904aa",
   "metadata": {},
   "outputs": [
    {
     "data": {
      "image/png": "[encoded data removed]",
      "text/plain": [
       "<Figure size 576x432 with 1 Axes>"
      ]
     },
     "metadata": {
      "needs_background": "light"
     },
     "output_type": "display_data"
    }
   ],
   "source": [
    "# Assuming 'predicted_sentiments' is the column containing sentiment labels\n",
    "logregress_counts = pred_data['logregress_p_sentiments'].value_counts()\n",
    "\n",
    "plt.figure(figsize=(8, 6))\n",
    "sns.barplot(x=logregress_counts.index, y=logregress_counts.values)\n",
    "plt.xlabel('Sentiment')\n",
    "plt.ylabel('Frequency')\n",
    "plt.title('Distribution of Sentiments in the Predicted Data')\n",
    "plt.show()"
   ]
  },
  {
   "cell_type": "code",
   "execution_count": 22,
   "id": "b99e1afd",
   "metadata": {},
   "outputs": [
    {
     "data": {
      "image/png": "[encoded data removed]",
      "text/plain": [
       "<Figure size 576x432 with 1 Axes>"
      ]
     },
     "metadata": {
      "needs_background": "light"
     },
     "output_type": "display_data"
    }
   ],
   "source": [
    "svc_counts = pred_data['svc_p_sentiments'].value_counts()\n",
    "\n",
    "plt.figure(figsize=(8, 6))\n",
    "sns.barplot(x=svc_counts.index, y=svc_counts.values)\n",
    "plt.xlabel('Sentiment')\n",
    "plt.ylabel('Frequency')\n",
    "plt.title('Distribution of Sentiments in the Predicted Data')\n",
    "plt.show()"
   ]
  },
  {
   "cell_type": "code",
   "execution_count": 23,
   "id": "e6c8281e",
   "metadata": {},
   "outputs": [
    {
     "data": {
      "text/plain": [
       "1    29117\n",
       "0     6254\n",
       "Name: logregress_p_sentiments, dtype: int64"
      ]
     },
     "execution_count": 23,
     "metadata": {},
     "output_type": "execute_result"
    }
   ],
   "source": [
    "logregress_counts"
   ]
  },
  {
   "cell_type": "code",
   "execution_count": 24,
   "id": "d11c1ce5",
   "metadata": {},
   "outputs": [
    {
     "data": {
      "text/plain": [
       "1    28028\n",
       "0     7343\n",
       "Name: svc_p_sentiments, dtype: int64"
      ]
     },
     "execution_count": 24,
     "metadata": {},
     "output_type": "execute_result"
    }
   ],
   "source": [
    "svc_counts"
   ]
  },
  {
   "cell_type": "code",
   "execution_count": null,
   "id": "2a3b3080",
   "metadata": {},
   "outputs": [],
   "source": []
  }
 ],
 "metadata": {
  "kernelspec": {
   "display_name": "Python 3 (ipykernel)",
   "language": "python",
   "name": "python3"
  },
  "language_info": {
   "codemirror_mode": {
    "name": "ipython",
    "version": 3
   },
   "file_extension": ".py",
   "mimetype": "text/x-python",
   "name": "python",
   "nbconvert_exporter": "python",
   "pygments_lexer": "ipython3",
   "version": "3.9.7"
  }
 },
 "nbformat": 4,
 "nbformat_minor": 5
}
