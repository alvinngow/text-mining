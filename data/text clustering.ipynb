{
 "cells": [
  {
   "cell_type": "code",
   "execution_count": 35,
   "id": "8abfc481",
   "metadata": {},
   "outputs": [
    {
     "name": "stdout",
     "output_type": "stream",
     "text": [
      "1\n"
     ]
    }
   ],
   "source": [
    "from preprocess import *\n",
    "\n",
    "corpus = load_corpus('translated_tokenized','translated_text')\n",
    "\n",
    "docs = corpus2docs(corpus)\n",
    "\n",
    "dictionary = gensim.corpora.Dictionary(docs)\n",
    "\n",
    "vecs = docs2vecs(docs, dictionary)\n",
    "print(len(docs))"
   ]
  },
  {
   "cell_type": "code",
   "execution_count": 36,
   "id": "c48ec23f",
   "metadata": {},
   "outputs": [
    {
     "name": "stdout",
     "output_type": "stream",
     "text": [
      "[[]]\n"
     ]
    }
   ],
   "source": [
    "print(vecs)"
   ]
  },
  {
   "cell_type": "markdown",
   "id": "60dd60de",
   "metadata": {},
   "source": [
    "<h2>sum of the squared Euclidean distances between each point and the centroid in a cluster\n"
   ]
  },
  {
   "cell_type": "code",
   "execution_count": 9,
   "id": "125dbc69",
   "metadata": {},
   "outputs": [
    {
     "data": {
      "text/plain": [
       "<8604x28154 sparse matrix of type '<class 'numpy.float64'>'\n",
       "\twith 197024 stored elements in Compressed Sparse Row format>"
      ]
     },
     "execution_count": 9,
     "metadata": {},
     "output_type": "execute_result"
    }
   ],
   "source": [
    "import numpy as np\n",
    "from sklearn.feature_extraction.text import TfidfVectorizer\n",
    "from sklearn.cluster import KMeans\n",
    "\n",
    "folder_path = 'preprocessed2'  # Replace with path to your folder\n",
    "sentences = []\n",
    "\n",
    "# Iterate over all files in the folder\n",
    "for filename in os.listdir(folder_path):\n",
    "    if filename.endswith('.txt'):\n",
    "        # Read the text file and store the text in the sentences list\n",
    "        with open(os.path.join(folder_path, filename), 'r') as f:\n",
    "#             print(filename)\n",
    "            document = f.readlines()\n",
    "            for sentence in document:\n",
    "                sentences.append(sentence)\n",
    "                \n",
    "# Convert the text to a vector representation using TF-IDF\n",
    "vectorizer = TfidfVectorizer()\n",
    "x = vectorizer.fit_transform(sentences)\n",
    "x"
   ]
  },
  {
   "cell_type": "code",
   "execution_count": 10,
   "id": "c2a9331c",
   "metadata": {},
   "outputs": [
    {
     "name": "stderr",
     "output_type": "stream",
     "text": [
      "/Users/eileengoh/opt/anaconda3/lib/python3.9/site-packages/sklearn/cluster/_kmeans.py:870: FutureWarning: The default value of `n_init` will change from 10 to 'auto' in 1.4. Set the value of `n_init` explicitly to suppress the warning\n",
      "  warnings.warn(\n"
     ]
    },
    {
     "data": {
      "image/png": "[encoded data removed]",
      "text/plain": [
       "<Figure size 432x288 with 1 Axes>"
      ]
     },
     "metadata": {
      "needs_background": "light"
     },
     "output_type": "display_data"
    }
   ],
   "source": [
    "SSE = []\n",
    "K = range(1,10)    \n",
    "# Create a KMeans object with desired number of clusters\n",
    "for k in K:\n",
    "    model_i = KMeans(n_clusters=k, random_state=99)\n",
    "    model_i.fit(x)\n",
    "    SSE.append(model_i.inertia_)\n",
    "\n",
    "# Plot the elbow\n",
    "import matplotlib.pyplot as plt\n",
    "plt.plot(K, SSE, 'bx-')\n",
    "plt.xlabel('k')\n",
    "plt.ylabel('SSE')\n",
    "plt.title('The Elbow Method showing the optimal k')\n",
    "plt.show()"
   ]
  },
  {
   "cell_type": "code",
   "execution_count": null,
   "id": "5f811958",
   "metadata": {},
   "outputs": [],
   "source": []
  },
  {
   "cell_type": "code",
   "execution_count": null,
   "id": "a8f2bf68",
   "metadata": {},
   "outputs": [],
   "source": []
  },
  {
   "cell_type": "code",
   "execution_count": 80,
   "id": "6291f3c2",
   "metadata": {},
   "outputs": [
    {
     "name": "stdout",
     "output_type": "stream",
     "text": [
      "Using pip 22.3.1 from /Users/eileengoh/opt/anaconda3/lib/python3.9/site-packages/pip (python 3.9)\n",
      "Collecting numpy==1.21.4\n",
      "  Downloading numpy-1.21.4-cp39-cp39-macosx_10_9_x86_64.whl (17.0 MB)\n",
      "\u001b[2K     \u001b[90m━━━━━━━━━━━━━━━━━━━━━━━━━━━━━━━━━━━━━━━━\u001b[0m \u001b[32m17.0/17.0 MB\u001b[0m \u001b[31m13.8 MB/s\u001b[0m eta \u001b[36m0:00:00\u001b[0m00:01\u001b[0m00:01\u001b[0m\n",
      "\u001b[?25hInstalling collected packages: numpy\n",
      "  Attempting uninstall: numpy\n",
      "    Found existing installation: numpy 1.22.4\n",
      "    Uninstalling numpy-1.22.4:\n",
      "      Removing file or directory /Users/eileengoh/opt/anaconda3/bin/f2py\n",
      "      Removing file or directory /Users/eileengoh/opt/anaconda3/bin/f2py3\n",
      "      Removing file or directory /Users/eileengoh/opt/anaconda3/bin/f2py3.9\n",
      "      Removing file or directory /Users/eileengoh/opt/anaconda3/lib/python3.9/site-packages/numpy-1.22.4.dist-info/\n",
      "      Removing file or directory /Users/eileengoh/opt/anaconda3/lib/python3.9/site-packages/numpy/\n",
      "      Successfully uninstalled numpy-1.22.4\n",
      "  changing mode of /Users/eileengoh/opt/anaconda3/bin/f2py to 755\n",
      "  changing mode of /Users/eileengoh/opt/anaconda3/bin/f2py3 to 755\n",
      "  changing mode of /Users/eileengoh/opt/anaconda3/bin/f2py3.9 to 755\n",
      "\u001b[31mERROR: pip's dependency resolver does not currently take into account all the packages that are installed. This behaviour is the source of the following dependency conflicts.\n",
      "daal4py 2021.3.0 requires daal==2021.2.3, which is not installed.\n",
      "pyldavis 3.4.0 requires numpy>=1.22.0, but you have numpy 1.21.4 which is incompatible.\u001b[0m\u001b[31m\n",
      "\u001b[0mSuccessfully installed numpy-1.21.4\n"
     ]
    }
   ],
   "source": [
    "!pip install --force-reinstall -v \"numpy==1.21.4\""
   ]
  },
  {
   "cell_type": "markdown",
   "id": "5e65be52",
   "metadata": {},
   "source": [
    "<h1>if K = 4"
   ]
  },
  {
   "cell_type": "code",
   "execution_count": 11,
   "id": "301d2e22",
   "metadata": {},
   "outputs": [],
   "source": [
    "import k_means\n",
    "\n",
    "num_tokens = len(dictionary.token2id)\n",
    "\n",
    "# k=4\n",
    "clusters = k_means.k_means(vecs, num_tokens, 4)\n"
   ]
  },
  {
   "cell_type": "code",
   "execution_count": 28,
   "id": "24eb9a95",
   "metadata": {},
   "outputs": [
    {
     "name": "stdout",
     "output_type": "stream",
     "text": [
      "Cluster 1: ['dataframe_0_preprocessed.txt', 'dataframe_100_preprocessed.txt', 'dataframe_11_preprocessed.txt', 'dataframe_12_preprocessed.txt', 'dataframe_14_preprocessed.txt', 'dataframe_16_preprocessed.txt', 'dataframe_17_preprocessed.txt', 'dataframe_18_preprocessed.txt', 'dataframe_19_preprocessed.txt', 'dataframe_1_preprocessed.txt', 'dataframe_20_preprocessed.txt', 'dataframe_23_preprocessed.txt', 'dataframe_24_preprocessed.txt', 'dataframe_25_preprocessed.txt', 'dataframe_26_preprocessed.txt', 'dataframe_27_preprocessed.txt', 'dataframe_28_preprocessed.txt', 'dataframe_29_preprocessed.txt', 'dataframe_31_preprocessed.txt', 'dataframe_34_preprocessed.txt', 'dataframe_36_preprocessed.txt', 'dataframe_37_preprocessed.txt', 'dataframe_3_preprocessed.txt', 'dataframe_42_preprocessed.txt', 'dataframe_43_preprocessed.txt', 'dataframe_44_preprocessed.txt', 'dataframe_45_preprocessed.txt', 'dataframe_4_preprocessed.txt', 'dataframe_50_preprocessed.txt', 'dataframe_52_preprocessed.txt', 'dataframe_53_preprocessed.txt', 'dataframe_54_preprocessed.txt', 'dataframe_55_preprocessed.txt', 'dataframe_56_preprocessed.txt', 'dataframe_57_preprocessed.txt', 'dataframe_58_preprocessed.txt', 'dataframe_59_preprocessed.txt', 'dataframe_5_preprocessed.txt', 'dataframe_60_preprocessed.txt', 'dataframe_62_preprocessed.txt', 'dataframe_63_preprocessed.txt', 'dataframe_64_preprocessed.txt', 'dataframe_65_preprocessed.txt', 'dataframe_66_preprocessed.txt', 'dataframe_67_preprocessed.txt', 'dataframe_69_preprocessed.txt', 'dataframe_6_preprocessed.txt', 'dataframe_72_preprocessed.txt', 'dataframe_74_preprocessed.txt', 'dataframe_75_preprocessed.txt', 'dataframe_76_preprocessed.txt', 'dataframe_77_preprocessed.txt', 'dataframe_79_preprocessed.txt', 'dataframe_7_preprocessed.txt', 'dataframe_80_preprocessed.txt', 'dataframe_82_preprocessed.txt', 'dataframe_83_preprocessed.txt', 'dataframe_84_preprocessed.txt', 'dataframe_85_preprocessed.txt', 'dataframe_87_preprocessed.txt', 'dataframe_88_preprocessed.txt', 'dataframe_8_preprocessed.txt', 'dataframe_90_preprocessed.txt', 'dataframe_92_preprocessed.txt', 'dataframe_93_preprocessed.txt', 'dataframe_95_preprocessed.txt', 'dataframe_96_preprocessed.txt', 'dataframe_97_preprocessed.txt', 'dataframe_9_preprocessed.txt']\n",
      "Cluster 2: ['dataframe_38_preprocessed.txt', 'dataframe_39_preprocessed.txt', 'dataframe_40_preprocessed.txt', 'dataframe_47_preprocessed.txt', 'dataframe_48_preprocessed.txt', 'dataframe_49_preprocessed.txt', 'dataframe_61_preprocessed.txt', 'dataframe_78_preprocessed.txt']\n",
      "Cluster 3: ['dataframe_10_preprocessed.txt', 'dataframe_13_preprocessed.txt', 'dataframe_15_preprocessed.txt', 'dataframe_21_preprocessed.txt', 'dataframe_32_preprocessed.txt', 'dataframe_81_preprocessed.txt', 'dataframe_86_preprocessed.txt', 'dataframe_99_preprocessed.txt']\n",
      "Cluster 4: ['dataframe_22_preprocessed.txt', 'dataframe_2_preprocessed.txt', 'dataframe_30_preprocessed.txt', 'dataframe_33_preprocessed.txt', 'dataframe_35_preprocessed.txt', 'dataframe_41_preprocessed.txt', 'dataframe_46_preprocessed.txt', 'dataframe_51_preprocessed.txt', 'dataframe_68_preprocessed.txt', 'dataframe_70_preprocessed.txt', 'dataframe_71_preprocessed.txt', 'dataframe_73_preprocessed.txt', 'dataframe_89_preprocessed.txt', 'dataframe_94_preprocessed.txt', 'dataframe_98_preprocessed.txt']\n"
     ]
    }
   ],
   "source": [
    "fids = corpus.fileids()\n",
    "\n",
    "#The below prints the file ids in each cluster\n",
    "\n",
    "cluster1 = clusters[0]\n",
    "print(\"Cluster 1:\", [fids[d] for d in cluster1])\n",
    "\n",
    "cluster2 = clusters[1]\n",
    "print(\"Cluster 2:\", [fids[d] for d in cluster2])\n",
    "\n",
    "cluster3 = clusters[2]\n",
    "print(\"Cluster 3:\", [fids[d] for d in cluster3])\n",
    "\n",
    "cluster4 = clusters[3]\n",
    "print(\"Cluster 4:\", [fids[d] for d in cluster4])"
   ]
  },
  {
   "cell_type": "code",
   "execution_count": 29,
   "id": "f679f4c3",
   "metadata": {},
   "outputs": [
    {
     "name": "stdout",
     "output_type": "stream",
     "text": [
      "[('chatgpt', 7416), ('https', 5027), ('openai', 746), ('artificialintelligence', 302), ('google', 287), ('using', 283), ('asked', 271), ('technology', 253), ('write', 222), ('intelligence', 211), ('microsoft', 211), ('people', 208), ('chatbot', 197), ('artificial', 191), ('could', 185), ('world', 180), ('think', 176), ('future', 172), ('content', 172), ('today', 166)]\n"
     ]
    }
   ],
   "source": [
    "import nltk\n",
    "from nltk.corpus import stopwords\n",
    "\n",
    "# Get all the file IDs in cluster1\n",
    "cluster1_file_ids = [fids[d] for d in cluster1]\n",
    "\n",
    "# Create an empty list for cluster1 words\n",
    "clust1_words = []\n",
    "\n",
    "# Loop through the file IDs in cluster1 and add the words to clust1_words\n",
    "for fileid in cluster1_file_ids:\n",
    "    clust1_words.extend(corpus.words(fileid))\n",
    "\n",
    "# Remove symbols from the words\n",
    "clust1_words = [re.sub(r'[^\\w\\s]', '', word).strip() for word in clust1_words]\n",
    "\n",
    "# Remove stopwords from the list\n",
    "stop_list = nltk.corpus.stopwords.words('english')\n",
    "\n",
    "clust1_words1 = [w.lower() for w in clust1_words]\n",
    "clust1_words2 = [w for w in clust1_words1 if w not in stop_list and len(w)>4]\n",
    "\n",
    "\n",
    "# Get the frequency distribution of the words and display the top 10 words\n",
    "\n",
    "fdist = nltk.FreqDist(clust1_words2)\n",
    "print(fdist.most_common(20))\n"
   ]
  },
  {
   "cell_type": "code",
   "execution_count": 30,
   "id": "925a91cb",
   "metadata": {},
   "outputs": [
    {
     "name": "stdout",
     "output_type": "stream",
     "text": [
      "[('chatgpt', 711), ('https', 576), ('openai', 84), ('artificialintelligence', 62), ('chatbot', 38), ('prompts', 35), ('chatgptprompts', 34), ('intelligence', 30), ('artificial', 28), ('aichatbot', 26), ('clients', 25), ('yyv3dwcbg4', 24), ('chatbotai', 24), ('aiprompts', 24), ('writingprompts', 24), ('ideaprompts', 24), ('creativeprompts', 24), ('content', 24), ('close', 23), ('ticket', 23)]\n"
     ]
    }
   ],
   "source": [
    "import nltk\n",
    "from nltk.corpus import stopwords\n",
    "\n",
    "# Get all the file IDs in cluster2\n",
    "cluster2_file_ids = [fids[d] for d in cluster2]\n",
    "\n",
    "# Create an empty list for cluster2 words\n",
    "clust2_words = []\n",
    "\n",
    "# Loop through the file IDs in cluster2 and add the words to clust2_words\n",
    "for fileid in cluster2_file_ids:\n",
    "    clust2_words.extend(corpus.words(fileid))\n",
    "\n",
    "# Remove symbols from the words\n",
    "# clust2_words = [re.sub(r'[^\\w\\s]', '', word).strip() for word in clust2_words]\n",
    "\n",
    "# Remove stopwords from the list\n",
    "stop_list = nltk.corpus.stopwords.words('english')\n",
    "\n",
    "clust2_words1 = [w.lower() for w in clust2_words]\n",
    "clust2_words2 = [w for w in clust2_words1 if w not in stop_list and len(w)>4]\n",
    "\n",
    "\n",
    "# Get the frequency distribution of the words and display the top 10 words\n",
    "\n",
    "fdist = nltk.FreqDist(clust2_words2)\n",
    "print(fdist.most_common(20))\n"
   ]
  },
  {
   "cell_type": "code",
   "execution_count": 32,
   "id": "a2e65fa0",
   "metadata": {},
   "outputs": [
    {
     "name": "stdout",
     "output_type": "stream",
     "text": [
      "[('chatgpt', 841), ('https', 497), ('openai', 91), ('google', 55), ('people', 52), ('could', 45), ('chatbot', 38), ('artificialintelligence', 33), ('excel', 32), ('technology', 31), ('money', 29), ('think', 28), ('microsoft', 28), ('saying', 28), ('using', 25), ('human', 25), ('business', 24), ('world', 22), ('asked', 22), ('thread', 22)]\n"
     ]
    }
   ],
   "source": [
    "\n",
    "import nltk\n",
    "from nltk.corpus import stopwords\n",
    "\n",
    "# Get all the file IDs in cluster3\n",
    "cluster3_file_ids = [fids[d] for d in cluster3]\n",
    "\n",
    "# Create an empty list for cluster3 words\n",
    "clust3_words = []\n",
    "\n",
    "# Loop through the file IDs in cluster3 and add the words to clust3_words\n",
    "for fileid in cluster3_file_ids:\n",
    "    clust3_words.extend(corpus.words(fileid))\n",
    "\n",
    "# Remove symbols from the words\n",
    "clust3_words = [re.sub(r'[^\\w\\s]', '', word).strip() for word in clust3_words]\n",
    "\n",
    "# Remove stopwords from the list\n",
    "stop_list = nltk.corpus.stopwords.words('english')\n",
    "\n",
    "clust3_words1 = [w.lower() for w in clust3_words]\n",
    "clust3_words2 = [w for w in clust3_words1 if w not in stop_list and len(w)>4]\n",
    "\n",
    "\n",
    "# Get the frequency distribution of the words and display the top 10 words\n",
    "\n",
    "fdist = nltk.FreqDist(clust3_words2)\n",
    "print(fdist.most_common(20))\n"
   ]
  },
  {
   "cell_type": "code",
   "execution_count": 33,
   "id": "676079ac",
   "metadata": {},
   "outputs": [
    {
     "name": "stdout",
     "output_type": "stream",
     "text": [
      "[('chatgpt', 1622), ('https', 1129), ('openai', 161), ('technology', 81), ('using', 76), ('midjourney', 66), ('artificialintelligence', 61), ('asked', 52), ('world', 51), ('language', 47), ('people', 45), ('create', 44), ('current', 44), ('crypto', 41), ('artificial', 38), ('intelligence', 38), ('learn', 38), ('think', 37), ('chatbot', 36), ('google', 35)]\n"
     ]
    }
   ],
   "source": [
    "\n",
    "import nltk\n",
    "from nltk.corpus import stopwords\n",
    "\n",
    "# Get all the file IDs in cluster4\n",
    "cluster4_file_ids = [fids[d] for d in cluster4]\n",
    "\n",
    "# Create an empty list for cluster3 words\n",
    "clust4_words = []\n",
    "\n",
    "# Loop through the file IDs in cluster4 and add the words to clust4_words\n",
    "for fileid in cluster4_file_ids:\n",
    "    clust4_words.extend(corpus.words(fileid))\n",
    "\n",
    "# Remove symbols from the words\n",
    "clust4_words = [re.sub(r'[^\\w\\s]', '', word).strip() for word in clust4_words]\n",
    "\n",
    "# Remove stopwords from the list\n",
    "stop_list = nltk.corpus.stopwords.words('english')\n",
    "\n",
    "clust4_words1 = [w.lower() for w in clust4_words]\n",
    "clust4_words2 = [w for w in clust4_words1 if w not in stop_list and len(w)>4]\n",
    "\n",
    "\n",
    "# Get the frequency distribution of the words and display the top 10 words\n",
    "\n",
    "fdist = nltk.FreqDist(clust4_words2)\n",
    "print(fdist.most_common(20))\n"
   ]
  },
  {
   "cell_type": "code",
   "execution_count": null,
   "id": "ab185e76",
   "metadata": {},
   "outputs": [],
   "source": []
  },
  {
   "cell_type": "code",
   "execution_count": null,
   "id": "f327386e",
   "metadata": {},
   "outputs": [],
   "source": []
  }
 ],
 "metadata": {
  "kernelspec": {
   "display_name": "Python 3 (ipykernel)",
   "language": "python",
   "name": "python3"
  },
  "language_info": {
   "codemirror_mode": {
    "name": "ipython",
    "version": 3
   },
   "file_extension": ".py",
   "mimetype": "text/x-python",
   "name": "python",
   "nbconvert_exporter": "python",
   "pygments_lexer": "ipython3",
   "version": "3.9.7"
  }
 },
 "nbformat": 4,
 "nbformat_minor": 5
}
