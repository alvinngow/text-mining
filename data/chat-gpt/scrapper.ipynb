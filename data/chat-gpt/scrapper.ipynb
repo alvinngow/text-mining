{
 "cells": [
  {
   "cell_type": "code",
   "execution_count": 3,
   "id": "7ff05f1f",
   "metadata": {},
   "outputs": [],
   "source": [
    "from datetime import date, timedelta\n",
    "import os\n",
    "\n",
    "def daterange(start_date, end_date):\n",
    "    for n in range(int((end_date - start_date).days)):\n",
    "        yield start_date + timedelta(n)\n",
    "\n",
    "start_date = date(2022, 11, 30)\n",
    "end_date = date(2023, 3, 17)\n",
    "\n",
    "for single_date in daterange(start_date, end_date):\n",
    "    os.system(f'twint -s \"chat-gpt until:{str(single_date)}\" --limit 1500 -o {\"\".join(str(single_date).split(\"-\"))}.json --json')"
   ]
  },
  {
   "cell_type": "code",
   "execution_count": null,
   "id": "4bcc8a11",
   "metadata": {},
   "outputs": [],
   "source": []
  }
 ],
 "metadata": {
  "kernelspec": {
   "display_name": "Python 3 (ipykernel)",
   "language": "python",
   "name": "python3"
  },
  "language_info": {
   "codemirror_mode": {
    "name": "ipython",
    "version": 3
   },
   "file_extension": ".py",
   "mimetype": "text/x-python",
   "name": "python",
   "nbconvert_exporter": "python",
   "pygments_lexer": "ipython3",
   "version": "3.8.16"
  }
 },
 "nbformat": 4,
 "nbformat_minor": 5
}
