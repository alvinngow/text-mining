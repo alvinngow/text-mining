{
 "cells": [
  {
   "cell_type": "code",
   "execution_count": 44,
   "id": "2f9fff46",
   "metadata": {},
   "outputs": [],
   "source": [
    "import os\n",
    "import pandas as pd"
   ]
  },
  {
   "cell_type": "code",
   "execution_count": 56,
   "id": "2447167f",
   "metadata": {},
   "outputs": [],
   "source": [
    "datasetPathArray = []\n",
    "dataPath = './data'\n",
    "dataset = os.listdir(dataPath)\n",
    "DF = None\n",
    "\n",
    "for data in dataset:\n",
    "    searchTermPath = dataPath + '/' + data\n",
    "    searchTermData = os.listdir(searchTermPath)\n",
    "    for fileName in searchTermData:\n",
    "        if 'ipynb' not in fileName:\n",
    "            subDF = pd.read_json(searchTermPath + '/' + fileName, lines = True)\n",
    "            subDF = subDF[['id', 'conversation_id', 'created_at', 'date', 'time', 'user_id', 'tweet', 'language', 'hashtags', 'reply_to']]\n",
    "            if DF is None:\n",
    "                DF = subDF\n",
    "            else:\n",
    "                DF = pd.concat([DF,subDF])\n",
    "DF.to_csv('./dataframe.csv', index = False)"
   ]
  }
 ],
 "metadata": {
  "kernelspec": {
   "display_name": "Python 3 (ipykernel)",
   "language": "python",
   "name": "python3"
  },
  "language_info": {
   "codemirror_mode": {
    "name": "ipython",
    "version": 3
   },
   "file_extension": ".py",
   "mimetype": "text/x-python",
   "name": "python",
   "nbconvert_exporter": "python",
   "pygments_lexer": "ipython3",
   "version": "3.8.16"
  }
 },
 "nbformat": 4,
 "nbformat_minor": 5
}
