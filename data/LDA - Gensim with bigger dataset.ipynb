{
 "cells": [
  {
   "cell_type": "code",
   "execution_count": 19,
   "id": "16ae3b1d",
   "metadata": {},
   "outputs": [],
   "source": [
    "import warnings\n",
    "warnings.filterwarnings(\"ignore\", category=DeprecationWarning)\n",
    "\n",
    "import pandas as pd"
   ]
  },
  {
   "cell_type": "code",
   "execution_count": 20,
   "id": "3fbd6648",
   "metadata": {},
   "outputs": [
    {
     "data": {
      "text/html": [
       "<div>\n",
       "<style scoped>\n",
       "    .dataframe tbody tr th:only-of-type {\n",
       "        vertical-align: middle;\n",
       "    }\n",
       "\n",
       "    .dataframe tbody tr th {\n",
       "        vertical-align: top;\n",
       "    }\n",
       "\n",
       "    .dataframe thead th {\n",
       "        text-align: right;\n",
       "    }\n",
       "</style>\n",
       "<table border=\"1\" class=\"dataframe\">\n",
       "  <thead>\n",
       "    <tr style=\"text-align: right;\">\n",
       "      <th></th>\n",
       "      <th>id</th>\n",
       "      <th>conversation_id</th>\n",
       "      <th>created_at</th>\n",
       "      <th>date</th>\n",
       "      <th>time</th>\n",
       "      <th>user_id</th>\n",
       "      <th>tweet</th>\n",
       "      <th>language</th>\n",
       "      <th>hashtags</th>\n",
       "      <th>reply_to</th>\n",
       "      <th>translated_text</th>\n",
       "      <th>tokenized_text</th>\n",
       "    </tr>\n",
       "  </thead>\n",
       "  <tbody>\n",
       "    <tr>\n",
       "      <th>0</th>\n",
       "      <td>1598103832080584704</td>\n",
       "      <td>1598103832080584704</td>\n",
       "      <td>2022-12-01 07:56:59 Malay Peninsula Standard Time</td>\n",
       "      <td>2022-12-01</td>\n",
       "      <td>07:56:59</td>\n",
       "      <td>1582818998324178944</td>\n",
       "      <td>Twitterのフォロワーを増やしたい。最低でも1万人。 #ChatGPT  https:/...</td>\n",
       "      <td>ja</td>\n",
       "      <td>['chatgpt']</td>\n",
       "      <td>[]</td>\n",
       "      <td>I want to increase my Twitter followers. At le...</td>\n",
       "      <td>['I', 'want', 'to', 'increase', 'my', 'Twitter...</td>\n",
       "    </tr>\n",
       "    <tr>\n",
       "      <th>1</th>\n",
       "      <td>1598103601507102720</td>\n",
       "      <td>1598103597388279808</td>\n",
       "      <td>2022-12-01 07:56:04 Malay Peninsula Standard Time</td>\n",
       "      <td>2022-12-01</td>\n",
       "      <td>07:56:04</td>\n",
       "      <td>1454189325432901640</td>\n",
       "      <td>Overall, using AI to create art can expand the...</td>\n",
       "      <td>en</td>\n",
       "      <td>['chatgpt']</td>\n",
       "      <td>[]</td>\n",
       "      <td>Overall, using AI to create art can expand the...</td>\n",
       "      <td>['Overall', ',', 'using', 'AI', 'to', 'create'...</td>\n",
       "    </tr>\n",
       "    <tr>\n",
       "      <th>2</th>\n",
       "      <td>1598103593634369536</td>\n",
       "      <td>1598103593634369536</td>\n",
       "      <td>2022-12-01 07:56:02 Malay Peninsula Standard Time</td>\n",
       "      <td>2022-12-01</td>\n",
       "      <td>07:56:02</td>\n",
       "      <td>118166119</td>\n",
       "      <td>Este prompt fue creado con #ChatGPT el nuevo m...</td>\n",
       "      <td>es</td>\n",
       "      <td>['chatgpt', 'martesdedatos', 'chatgpt']</td>\n",
       "      <td>[]</td>\n",
       "      <td>This prompt was created with #ChatGPT the new ...</td>\n",
       "      <td>['This', 'prompt', 'was', 'created', 'with', '...</td>\n",
       "    </tr>\n",
       "    <tr>\n",
       "      <th>3</th>\n",
       "      <td>1598103115060084736</td>\n",
       "      <td>1598103115060084736</td>\n",
       "      <td>2022-12-01 07:54:08 Malay Peninsula Standard Time</td>\n",
       "      <td>2022-12-01</td>\n",
       "      <td>07:54:08</td>\n",
       "      <td>141730376</td>\n",
       "      <td>Just played around with OpenAI's new #ChatGPT ...</td>\n",
       "      <td>en</td>\n",
       "      <td>['chatgpt', 'embodiedcarbon', 'poetry']</td>\n",
       "      <td>[]</td>\n",
       "      <td>Just played around with OpenAI's new #ChatGPT ...</td>\n",
       "      <td>['Just', 'played', 'around', 'with', \"OpenAI's...</td>\n",
       "    </tr>\n",
       "    <tr>\n",
       "      <th>4</th>\n",
       "      <td>1598102468243599361</td>\n",
       "      <td>1598102468243599360</td>\n",
       "      <td>2022-12-01 07:51:34 Malay Peninsula Standard Time</td>\n",
       "      <td>2022-12-01</td>\n",
       "      <td>07:51:34</td>\n",
       "      <td>4034337795</td>\n",
       "      <td>I asked #ChatGPT to write me a story about Sov...</td>\n",
       "      <td>en</td>\n",
       "      <td>['chatgpt']</td>\n",
       "      <td>[]</td>\n",
       "      <td>I asked #ChatGPT to write me a story about Sov...</td>\n",
       "      <td>['I', 'asked', '#ChatGPT', 'to', 'write', 'me'...</td>\n",
       "    </tr>\n",
       "  </tbody>\n",
       "</table>\n",
       "</div>"
      ],
      "text/plain": [
       "                    id      conversation_id  \\\n",
       "0  1598103832080584704  1598103832080584704   \n",
       "1  1598103601507102720  1598103597388279808   \n",
       "2  1598103593634369536  1598103593634369536   \n",
       "3  1598103115060084736  1598103115060084736   \n",
       "4  1598102468243599361  1598102468243599360   \n",
       "\n",
       "                                          created_at        date      time  \\\n",
       "0  2022-12-01 07:56:59 Malay Peninsula Standard Time  2022-12-01  07:56:59   \n",
       "1  2022-12-01 07:56:04 Malay Peninsula Standard Time  2022-12-01  07:56:04   \n",
       "2  2022-12-01 07:56:02 Malay Peninsula Standard Time  2022-12-01  07:56:02   \n",
       "3  2022-12-01 07:54:08 Malay Peninsula Standard Time  2022-12-01  07:54:08   \n",
       "4  2022-12-01 07:51:34 Malay Peninsula Standard Time  2022-12-01  07:51:34   \n",
       "\n",
       "               user_id                                              tweet  \\\n",
       "0  1582818998324178944  Twitterのフォロワーを増やしたい。最低でも1万人。 #ChatGPT  https:/...   \n",
       "1  1454189325432901640  Overall, using AI to create art can expand the...   \n",
       "2            118166119  Este prompt fue creado con #ChatGPT el nuevo m...   \n",
       "3            141730376  Just played around with OpenAI's new #ChatGPT ...   \n",
       "4           4034337795  I asked #ChatGPT to write me a story about Sov...   \n",
       "\n",
       "  language                                 hashtags reply_to  \\\n",
       "0       ja                              ['chatgpt']       []   \n",
       "1       en                              ['chatgpt']       []   \n",
       "2       es  ['chatgpt', 'martesdedatos', 'chatgpt']       []   \n",
       "3       en  ['chatgpt', 'embodiedcarbon', 'poetry']       []   \n",
       "4       en                              ['chatgpt']       []   \n",
       "\n",
       "                                     translated_text  \\\n",
       "0  I want to increase my Twitter followers. At le...   \n",
       "1  Overall, using AI to create art can expand the...   \n",
       "2  This prompt was created with #ChatGPT the new ...   \n",
       "3  Just played around with OpenAI's new #ChatGPT ...   \n",
       "4  I asked #ChatGPT to write me a story about Sov...   \n",
       "\n",
       "                                      tokenized_text  \n",
       "0  ['I', 'want', 'to', 'increase', 'my', 'Twitter...  \n",
       "1  ['Overall', ',', 'using', 'AI', 'to', 'create'...  \n",
       "2  ['This', 'prompt', 'was', 'created', 'with', '...  \n",
       "3  ['Just', 'played', 'around', 'with', \"OpenAI's...  \n",
       "4  ['I', 'asked', '#ChatGPT', 'to', 'write', 'me'...  "
      ]
     },
     "execution_count": 20,
     "metadata": {},
     "output_type": "execute_result"
    }
   ],
   "source": [
    "df = pd.read_csv('translated_dataframe.csv')\n",
    "df.head()"
   ]
  },
  {
   "cell_type": "code",
   "execution_count": 21,
   "id": "3e4228e1",
   "metadata": {},
   "outputs": [
    {
     "data": {
      "text/plain": [
       "(35371, 12)"
      ]
     },
     "execution_count": 21,
     "metadata": {},
     "output_type": "execute_result"
    }
   ],
   "source": [
    "df.shape"
   ]
  },
  {
   "cell_type": "code",
   "execution_count": 22,
   "id": "f0ec0dbe",
   "metadata": {},
   "outputs": [
    {
     "data": {
      "text/plain": [
       "0        ['I', 'want', 'to', 'increase', 'my', 'Twitter...\n",
       "1        ['Overall', ',', 'using', 'AI', 'to', 'create'...\n",
       "2        ['This', 'prompt', 'was', 'created', 'with', '...\n",
       "3        ['Just', 'played', 'around', 'with', \"OpenAI's...\n",
       "4        ['I', 'asked', '#ChatGPT', 'to', 'write', 'me'...\n",
       "                               ...                        \n",
       "35366    ['According', 'to', '#ChatGPT', 'Xbox', 'has',...\n",
       "35367    ['#ChatGPT', 'will', 'make', '10,000', 'channe...\n",
       "35368                                         ['#ChatGPT']\n",
       "35369    ['\"', 'Finding', 'Indistinguishable', 'AI', 'G...\n",
       "35370    ['#ChatGPT', 'from', 'is', 'not', 'connected',...\n",
       "Name: tokenized_text, Length: 35371, dtype: object"
      ]
     },
     "metadata": {},
     "output_type": "display_data"
    },
    {
     "name": "stdout",
     "output_type": "stream",
     "text": [
      "<class 'pandas.core.series.Series'>\n"
     ]
    }
   ],
   "source": [
    "tokenized_text = df['tokenized_text']\n",
    "display(tokenized_text)\n",
    "print(type(tokenized_text))"
   ]
  },
  {
   "cell_type": "code",
   "execution_count": 23,
   "id": "881aa576",
   "metadata": {},
   "outputs": [
    {
     "name": "stderr",
     "output_type": "stream",
     "text": [
      "IOPub data rate exceeded.\n",
      "The notebook server will temporarily stop sending output\n",
      "to the client in order to avoid crashing it.\n",
      "To change this limit, set the config variable\n",
      "`--NotebookApp.iopub_data_rate_limit`.\n",
      "\n",
      "Current values:\n",
      "NotebookApp.iopub_data_rate_limit=1000000.0 (bytes/sec)\n",
      "NotebookApp.rate_limit_window=3.0 (secs)\n",
      "\n"
     ]
    }
   ],
   "source": [
    "tokenized_big_list = []\n",
    "for string in tokenized_text:\n",
    "    removed_brackets_string = string.replace('[','').replace(']','')\n",
    "    removed_quotes_string = removed_brackets_string.replace(\"'\",'').replace(\"'\",'')\n",
    "    for word in removed_quotes_string.split(\", \"):\n",
    "        tokenized_big_list.append(word)\n",
    "\n",
    "print(tokenized_big_list)"
   ]
  },
  {
   "cell_type": "code",
   "execution_count": 24,
   "id": "c60abb1a",
   "metadata": {},
   "outputs": [],
   "source": [
    "import preprocess2\n",
    "chatgpt_corpus = preprocess2.load_corpus('./')\n",
    "chatgpt_docs = preprocess2.corpus2docs(chatgpt_corpus)\n",
    "\n",
    "import gensim\n",
    "chatgpt_dictionary = gensim.corpora.Dictionary(chatgpt_docs)\n",
    "chatgpt_vecs = preprocess2.docs2vecs(chatgpt_docs, chatgpt_dictionary)"
   ]
  },
  {
   "cell_type": "code",
   "execution_count": 25,
   "id": "94a0b9cb",
   "metadata": {},
   "outputs": [],
   "source": [
    "#I used 10 topics. You can try other numbers as well\n",
    "chatgpt_lda = gensim.models.ldamodel.LdaModel(corpus=chatgpt_vecs, id2word=chatgpt_dictionary, num_topics=10)"
   ]
  },
  {
   "cell_type": "code",
   "execution_count": 26,
   "id": "f9f2e2b9",
   "metadata": {},
   "outputs": [
    {
     "name": "stdout",
     "output_type": "stream",
     "text": [
      "(0, '0.029*\"chatgpt\" + 0.017*\"https\" + 0.011*\"ai\" + 0.005*\"asked\" + 0.005*\"openai\"')\n",
      "(1, '0.050*\"https\" + 0.039*\"chatgpt\" + 0.012*\"ai\" + 0.007*\"create\" + 0.007*\"openai\"')\n",
      "(2, '0.024*\"chatgpt\" + 0.023*\"https\" + 0.007*\"ai\" + 0.005*\"create\" + 0.004*\"openai\"')\n",
      "(3, '0.089*\"chatgpt\" + 0.052*\"https\" + 0.014*\"ai\" + 0.011*\"asked\" + 0.008*\"openai\"')\n",
      "(4, '0.019*\"chatgpt\" + 0.013*\"https\" + 0.006*\"ai\" + 0.004*\"create\" + 0.004*\"openai\"')\n",
      "(5, '0.060*\"chatgpt\" + 0.041*\"https\" + 0.013*\"ai\" + 0.007*\"openai\" + 0.007*\"asked\"')\n",
      "(6, '0.021*\"chatgpt\" + 0.012*\"https\" + 0.006*\"ai\" + 0.004*\"openai\" + 0.004*\"asked\"')\n",
      "(7, '0.095*\"chatgpt\" + 0.075*\"https\" + 0.018*\"ai\" + 0.009*\"asked\" + 0.009*\"create\"')\n",
      "(8, '0.059*\"chatgpt\" + 0.040*\"https\" + 0.014*\"ai\" + 0.007*\"create\" + 0.007*\"asked\"')\n",
      "(9, '0.011*\"chatgpt\" + 0.010*\"https\" + 0.006*\"ai\" + 0.003*\"openai\" + 0.003*\"asked\"')\n"
     ]
    }
   ],
   "source": [
    "topics = chatgpt_lda.show_topics(10, 5)\n",
    "\n",
    "for i in range(0, 10):\n",
    "    print(topics[i])"
   ]
  },
  {
   "cell_type": "code",
   "execution_count": 27,
   "id": "bb5f5abb",
   "metadata": {},
   "outputs": [],
   "source": [
    "import pyLDAvis\n",
    "import pyLDAvis.gensim_models as gensimvis\n",
    "pyLDAvis.enable_notebook()"
   ]
  },
  {
   "cell_type": "code",
   "execution_count": 28,
   "id": "3c8a1cd1",
   "metadata": {},
   "outputs": [
    {
     "name": "stderr",
     "output_type": "stream",
     "text": [
      "/opt/homebrew/Cellar/jupyterlab/3.6.1/libexec/lib/python3.11/site-packages/pyLDAvis/_prepare.py:244: FutureWarning: In a future version of pandas all arguments of DataFrame.drop except for the argument 'labels' will be keyword-only.\n",
      "  by='saliency', ascending=False).head(R).drop('saliency', 1)\n"
     ]
    }
   ],
   "source": [
    "# Generate the visuals\n",
    "visual= gensimvis.prepare(chatgpt_lda, chatgpt_vecs, chatgpt_dictionary)"
   ]
  },
  {
   "cell_type": "code",
   "execution_count": 29,
   "id": "df196850",
   "metadata": {},
   "outputs": [],
   "source": [
    "#Save the output to the html file\n",
    "pyLDAvis.save_html(visual, \"topic_viz.html\")"
   ]
  },
  {
   "cell_type": "code",
   "execution_count": 30,
   "id": "1657bde2",
   "metadata": {},
   "outputs": [],
   "source": [
    "# Compute Perplexity\n",
    "perplex= chatgpt_lda.log_perplexity(chatgpt_vecs, total_docs=None) \n",
    "#For LDAModel a measure of how good the model is. lower the better."
   ]
  },
  {
   "cell_type": "code",
   "execution_count": 31,
   "id": "6789dc22",
   "metadata": {},
   "outputs": [
    {
     "name": "stdout",
     "output_type": "stream",
     "text": [
      "\n",
      "Perplexity for LDAModel:  -7.456345101628141\n"
     ]
    }
   ],
   "source": [
    "print('\\nPerplexity for LDAModel: ', perplex)"
   ]
  },
  {
   "cell_type": "code",
   "execution_count": 32,
   "id": "c224fbc9",
   "metadata": {},
   "outputs": [
    {
     "name": "stdout",
     "output_type": "stream",
     "text": [
      "\n",
      "Coherence Score LDAModel:  0.2526032968480466\n"
     ]
    }
   ],
   "source": [
    "from gensim.models import CoherenceModel\n",
    "\n",
    "coherence_model_lda = CoherenceModel(model=chatgpt_lda, texts=chatgpt_docs, dictionary=chatgpt_dictionary, coherence='c_v')\n",
    "coherence_lda = coherence_model_lda.get_coherence()\n",
    "print('\\nCoherence Score LDAModel: ', coherence_lda)"
   ]
  },
  {
   "cell_type": "code",
   "execution_count": 33,
   "id": "a30b045f",
   "metadata": {},
   "outputs": [
    {
     "name": "stdout",
     "output_type": "stream",
     "text": [
      "2023-03-31 17:16:28.998884\n",
      "#Topics: 2 Score: 0.26682151493694484\n",
      "#Topics: 4 Score: 0.2628412821269349\n",
      "#Topics: 6 Score: 0.282599356810097\n",
      "#Topics: 8 Score: 0.25771060561827813\n",
      "2023-03-31 17:16:36.013964\n"
     ]
    }
   ],
   "source": [
    "# Can take a long time to run. In this case we are going to  k_max=10.\n",
    "import datetime\n",
    "print(datetime.datetime.now())\n",
    "\n",
    "from gensim.models import CoherenceModel\n",
    "\n",
    "model_list = []\n",
    "coherence_values = []\n",
    "model_topics = []\n",
    "\n",
    "for num_topics in range(2, 10, 2):\n",
    "    chatgpt_lda_x = gensim.models.ldamodel.LdaModel(corpus=chatgpt_vecs, id2word=chatgpt_dictionary, num_topics=num_topics)\n",
    "    coherencemodel = CoherenceModel(model=chatgpt_lda_x, texts=chatgpt_docs, dictionary=chatgpt_dictionary, coherence='c_v')\n",
    "    model_topics.append(num_topics)\n",
    "    model_list.append(chatgpt_lda_x)\n",
    "    coherence_values.append(coherencemodel.get_coherence())\n",
    "    print(\"#Topics: \" + str(num_topics) + \" Score: \" + str(coherencemodel.get_coherence()))\n",
    "\n",
    "print(datetime.datetime.now())"
   ]
  },
  {
   "cell_type": "code",
   "execution_count": 34,
   "id": "7b8136eb",
   "metadata": {},
   "outputs": [
    {
     "data": {
      "image/png": "[encoded data removed]",
      "text/plain": [
       "<Figure size 640x480 with 1 Axes>"
      ]
     },
     "metadata": {},
     "output_type": "display_data"
    }
   ],
   "source": [
    "# Show graph\n",
    "\n",
    "import matplotlib.pyplot as plt\n",
    "\n",
    "limit=10; start=2; step=2;\n",
    "x = range(start, limit, step)\n",
    "plt.plot(x, coherence_values)\n",
    "plt.xlabel(\"Num Topics\")\n",
    "plt.ylabel(\"Coherence score\")\n",
    "plt.legend((\"coherence_values\"), loc='best')\n",
    "plt.show()"
   ]
  },
  {
   "cell_type": "code",
   "execution_count": 35,
   "id": "6562220d",
   "metadata": {},
   "outputs": [
    {
     "name": "stdout",
     "output_type": "stream",
     "text": [
      "Num Topics = 2  has Coherence Value of 0.2668\n",
      "Num Topics = 4  has Coherence Value of 0.2628\n",
      "Num Topics = 6  has Coherence Value of 0.2826\n",
      "Num Topics = 8  has Coherence Value of 0.2577\n"
     ]
    }
   ],
   "source": [
    "# Print the coherence scores\n",
    "for m, cv in zip(x, coherence_values):\n",
    "    print(\"Num Topics =\", m, \" has Coherence Value of\", round(cv, 4))"
   ]
  },
  {
   "cell_type": "code",
   "execution_count": 36,
   "id": "851bc089",
   "metadata": {},
   "outputs": [
    {
     "name": "stderr",
     "output_type": "stream",
     "text": [
      "/var/folders/lh/jv6w86l97yjg09r_3ht3_15c0000gq/T/ipykernel_10139/3888425836.py:18: FutureWarning: The frame.append method is deprecated and will be removed from pandas in a future version. Use pandas.concat instead.\n",
      "  sent_topics_df = sent_topics_df.append(pd.Series([int(topic_num), round(prop_topic,4), topic_keywords]), ignore_index=True)\n"
     ]
    },
    {
     "data": {
      "text/html": [
       "<div>\n",
       "<style scoped>\n",
       "    .dataframe tbody tr th:only-of-type {\n",
       "        vertical-align: middle;\n",
       "    }\n",
       "\n",
       "    .dataframe tbody tr th {\n",
       "        vertical-align: top;\n",
       "    }\n",
       "\n",
       "    .dataframe thead th {\n",
       "        text-align: right;\n",
       "    }\n",
       "</style>\n",
       "<table border=\"1\" class=\"dataframe\">\n",
       "  <thead>\n",
       "    <tr style=\"text-align: right;\">\n",
       "      <th></th>\n",
       "      <th>Document_No</th>\n",
       "      <th>Dominant_Topic</th>\n",
       "      <th>Topic_Perc_Contrib</th>\n",
       "      <th>Keywords</th>\n",
       "      <th>Text</th>\n",
       "    </tr>\n",
       "  </thead>\n",
       "  <tbody>\n",
       "    <tr>\n",
       "      <th>0</th>\n",
       "      <td>0</td>\n",
       "      <td>1</td>\n",
       "      <td>0.9987</td>\n",
       "      <td>chatgpt, https, ai, create, asked, openai, wri...</td>\n",
       "      <td>[want, increase, twitter, followers, least, ch...</td>\n",
       "    </tr>\n",
       "  </tbody>\n",
       "</table>\n",
       "</div>"
      ],
      "text/plain": [
       "   Document_No  Dominant_Topic  Topic_Perc_Contrib  \\\n",
       "0            0               1              0.9987   \n",
       "\n",
       "                                            Keywords  \\\n",
       "0  chatgpt, https, ai, create, asked, openai, wri...   \n",
       "\n",
       "                                                Text  \n",
       "0  [want, increase, twitter, followers, least, ch...  "
      ]
     },
     "execution_count": 36,
     "metadata": {},
     "output_type": "execute_result"
    }
   ],
   "source": [
    "#Find most dominant topic\n",
    "\n",
    "import numpy as np\n",
    "import pandas as pd\n",
    "\n",
    "def format_topics_sentences(ldamodel, corpus, data):\n",
    "    # Init output\n",
    "    sent_topics_df = pd.DataFrame()\n",
    "\n",
    "    # Get main topic in each document\n",
    "    for i, row in enumerate(ldamodel[corpus]):\n",
    "        row = sorted(row, key=lambda x: (x[1]), reverse=True)\n",
    "        # Get the Dominant topic, Perc Contribution and Keywords for each document\n",
    "        for j, (topic_num, prop_topic) in enumerate(row):\n",
    "            if j == 0:  # => dominant topic\n",
    "                wp = ldamodel.show_topic(topic_num)\n",
    "                topic_keywords = \", \".join([word for word, prop in wp])\n",
    "                sent_topics_df = sent_topics_df.append(pd.Series([int(topic_num), round(prop_topic,4), topic_keywords]), ignore_index=True)\n",
    "            else:\n",
    "                break\n",
    "    sent_topics_df.columns = ['Dominant_Topic', 'Perc_Contribution', 'Topic_Keywords']\n",
    "\n",
    "    # Add original text to the end of the output\n",
    "    contents = pd.Series(data)\n",
    "    sent_topics_df = pd.concat([sent_topics_df, contents], axis=1)\n",
    "    return(sent_topics_df)\n",
    "\n",
    "#I choose model_list[2] where the number of topics is 6\n",
    "\n",
    "df_topic_sents_keywords = format_topics_sentences(ldamodel=model_list[2], corpus=chatgpt_vecs, data=chatgpt_docs)\n",
    "\n",
    "# Format\n",
    "df_dominant_topic = df_topic_sents_keywords.reset_index()\n",
    "df_dominant_topic.columns = ['Document_No', 'Dominant_Topic', 'Topic_Perc_Contrib', 'Keywords', 'Text']\n",
    "\n",
    "# Show\n",
    "df_dominant_topic.head(10)"
   ]
  },
  {
   "cell_type": "code",
   "execution_count": null,
   "id": "5697db39",
   "metadata": {},
   "outputs": [],
   "source": [
    "# need to save this "
   ]
  },
  {
   "cell_type": "code",
   "execution_count": null,
   "id": "6bd892db",
   "metadata": {},
   "outputs": [],
   "source": []
  }
 ],
 "metadata": {
  "kernelspec": {
   "display_name": "Python 3 (ipykernel)",
   "language": "python",
   "name": "python3"
  },
  "language_info": {
   "codemirror_mode": {
    "name": "ipython",
    "version": 3
   },
   "file_extension": ".py",
   "mimetype": "text/x-python",
   "name": "python",
   "nbconvert_exporter": "python",
   "pygments_lexer": "ipython3",
   "version": "3.11.1"
  }
 },
 "nbformat": 4,
 "nbformat_minor": 5
}
