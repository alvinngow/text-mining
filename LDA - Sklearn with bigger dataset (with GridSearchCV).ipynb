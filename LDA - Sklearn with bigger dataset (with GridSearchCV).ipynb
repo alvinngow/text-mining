{
 "cells": [
  {
   "cell_type": "code",
   "execution_count": 27,
   "id": "93bd5e9a",
   "metadata": {},
   "outputs": [],
   "source": [
    "import warnings\n",
    "warnings.filterwarnings(\"ignore\", category=DeprecationWarning)\n",
    "\n",
    "import pandas as pd\n",
    "import numpy as np\n",
    "import sklearn\n",
    "import ast\n",
    "import validators\n",
    "import string\n",
    "import demoji\n",
    "# import pyLDAvis.sklearn\n",
    "\n",
    "from nltk.corpus import stopwords\n",
    "from sklearn.decomposition import LatentDirichletAllocation\n",
    "from sklearn.feature_extraction.text import CountVectorizer\n",
    "from nltk.stem import WordNetLemmatizer"
   ]
  },
  {
   "cell_type": "code",
   "execution_count": 28,
   "id": "29f3e17e",
   "metadata": {
    "scrolled": true
   },
   "outputs": [
    {
     "data": {
      "text/html": [
       "<div>\n",
       "<style scoped>\n",
       "    .dataframe tbody tr th:only-of-type {\n",
       "        vertical-align: middle;\n",
       "    }\n",
       "\n",
       "    .dataframe tbody tr th {\n",
       "        vertical-align: top;\n",
       "    }\n",
       "\n",
       "    .dataframe thead th {\n",
       "        text-align: right;\n",
       "    }\n",
       "</style>\n",
       "<table border=\"1\" class=\"dataframe\">\n",
       "  <thead>\n",
       "    <tr style=\"text-align: right;\">\n",
       "      <th></th>\n",
       "      <th>id</th>\n",
       "      <th>conversation_id</th>\n",
       "      <th>created_at</th>\n",
       "      <th>date</th>\n",
       "      <th>time</th>\n",
       "      <th>user_id</th>\n",
       "      <th>tweet</th>\n",
       "      <th>language</th>\n",
       "      <th>hashtags</th>\n",
       "      <th>reply_to</th>\n",
       "      <th>translated_text</th>\n",
       "      <th>tokenized_text</th>\n",
       "    </tr>\n",
       "  </thead>\n",
       "  <tbody>\n",
       "    <tr>\n",
       "      <th>0</th>\n",
       "      <td>1598103832080584704</td>\n",
       "      <td>1598103832080584704</td>\n",
       "      <td>2022-12-01 07:56:59 Malay Peninsula Standard Time</td>\n",
       "      <td>2022-12-01</td>\n",
       "      <td>07:56:59</td>\n",
       "      <td>1582818998324178944</td>\n",
       "      <td>Twitterのフォロワーを増やしたい。最低でも1万人。 #ChatGPT  https:/...</td>\n",
       "      <td>ja</td>\n",
       "      <td>['chatgpt']</td>\n",
       "      <td>[]</td>\n",
       "      <td>I want to increase my Twitter followers. At le...</td>\n",
       "      <td>['I', 'want', 'to', 'increase', 'my', 'Twitter...</td>\n",
       "    </tr>\n",
       "    <tr>\n",
       "      <th>1</th>\n",
       "      <td>1598103601507102720</td>\n",
       "      <td>1598103597388279808</td>\n",
       "      <td>2022-12-01 07:56:04 Malay Peninsula Standard Time</td>\n",
       "      <td>2022-12-01</td>\n",
       "      <td>07:56:04</td>\n",
       "      <td>1454189325432901640</td>\n",
       "      <td>Overall, using AI to create art can expand the...</td>\n",
       "      <td>en</td>\n",
       "      <td>['chatgpt']</td>\n",
       "      <td>[]</td>\n",
       "      <td>Overall, using AI to create art can expand the...</td>\n",
       "      <td>['Overall', ',', 'using', 'AI', 'to', 'create'...</td>\n",
       "    </tr>\n",
       "    <tr>\n",
       "      <th>2</th>\n",
       "      <td>1598103593634369536</td>\n",
       "      <td>1598103593634369536</td>\n",
       "      <td>2022-12-01 07:56:02 Malay Peninsula Standard Time</td>\n",
       "      <td>2022-12-01</td>\n",
       "      <td>07:56:02</td>\n",
       "      <td>118166119</td>\n",
       "      <td>Este prompt fue creado con #ChatGPT el nuevo m...</td>\n",
       "      <td>es</td>\n",
       "      <td>['chatgpt', 'martesdedatos', 'chatgpt']</td>\n",
       "      <td>[]</td>\n",
       "      <td>This prompt was created with #ChatGPT the new ...</td>\n",
       "      <td>['This', 'prompt', 'was', 'created', 'with', '...</td>\n",
       "    </tr>\n",
       "    <tr>\n",
       "      <th>3</th>\n",
       "      <td>1598103115060084736</td>\n",
       "      <td>1598103115060084736</td>\n",
       "      <td>2022-12-01 07:54:08 Malay Peninsula Standard Time</td>\n",
       "      <td>2022-12-01</td>\n",
       "      <td>07:54:08</td>\n",
       "      <td>141730376</td>\n",
       "      <td>Just played around with OpenAI's new #ChatGPT ...</td>\n",
       "      <td>en</td>\n",
       "      <td>['chatgpt', 'embodiedcarbon', 'poetry']</td>\n",
       "      <td>[]</td>\n",
       "      <td>Just played around with OpenAI's new #ChatGPT ...</td>\n",
       "      <td>['Just', 'played', 'around', 'with', \"OpenAI's...</td>\n",
       "    </tr>\n",
       "    <tr>\n",
       "      <th>4</th>\n",
       "      <td>1598102468243599361</td>\n",
       "      <td>1598102468243599360</td>\n",
       "      <td>2022-12-01 07:51:34 Malay Peninsula Standard Time</td>\n",
       "      <td>2022-12-01</td>\n",
       "      <td>07:51:34</td>\n",
       "      <td>4034337795</td>\n",
       "      <td>I asked #ChatGPT to write me a story about Sov...</td>\n",
       "      <td>en</td>\n",
       "      <td>['chatgpt']</td>\n",
       "      <td>[]</td>\n",
       "      <td>I asked #ChatGPT to write me a story about Sov...</td>\n",
       "      <td>['I', 'asked', '#ChatGPT', 'to', 'write', 'me'...</td>\n",
       "    </tr>\n",
       "  </tbody>\n",
       "</table>\n",
       "</div>"
      ],
      "text/plain": [
       "                    id      conversation_id  \\\n",
       "0  1598103832080584704  1598103832080584704   \n",
       "1  1598103601507102720  1598103597388279808   \n",
       "2  1598103593634369536  1598103593634369536   \n",
       "3  1598103115060084736  1598103115060084736   \n",
       "4  1598102468243599361  1598102468243599360   \n",
       "\n",
       "                                          created_at        date      time  \\\n",
       "0  2022-12-01 07:56:59 Malay Peninsula Standard Time  2022-12-01  07:56:59   \n",
       "1  2022-12-01 07:56:04 Malay Peninsula Standard Time  2022-12-01  07:56:04   \n",
       "2  2022-12-01 07:56:02 Malay Peninsula Standard Time  2022-12-01  07:56:02   \n",
       "3  2022-12-01 07:54:08 Malay Peninsula Standard Time  2022-12-01  07:54:08   \n",
       "4  2022-12-01 07:51:34 Malay Peninsula Standard Time  2022-12-01  07:51:34   \n",
       "\n",
       "               user_id                                              tweet  \\\n",
       "0  1582818998324178944  Twitterのフォロワーを増やしたい。最低でも1万人。 #ChatGPT  https:/...   \n",
       "1  1454189325432901640  Overall, using AI to create art can expand the...   \n",
       "2            118166119  Este prompt fue creado con #ChatGPT el nuevo m...   \n",
       "3            141730376  Just played around with OpenAI's new #ChatGPT ...   \n",
       "4           4034337795  I asked #ChatGPT to write me a story about Sov...   \n",
       "\n",
       "  language                                 hashtags reply_to  \\\n",
       "0       ja                              ['chatgpt']       []   \n",
       "1       en                              ['chatgpt']       []   \n",
       "2       es  ['chatgpt', 'martesdedatos', 'chatgpt']       []   \n",
       "3       en  ['chatgpt', 'embodiedcarbon', 'poetry']       []   \n",
       "4       en                              ['chatgpt']       []   \n",
       "\n",
       "                                     translated_text  \\\n",
       "0  I want to increase my Twitter followers. At le...   \n",
       "1  Overall, using AI to create art can expand the...   \n",
       "2  This prompt was created with #ChatGPT the new ...   \n",
       "3  Just played around with OpenAI's new #ChatGPT ...   \n",
       "4  I asked #ChatGPT to write me a story about Sov...   \n",
       "\n",
       "                                      tokenized_text  \n",
       "0  ['I', 'want', 'to', 'increase', 'my', 'Twitter...  \n",
       "1  ['Overall', ',', 'using', 'AI', 'to', 'create'...  \n",
       "2  ['This', 'prompt', 'was', 'created', 'with', '...  \n",
       "3  ['Just', 'played', 'around', 'with', \"OpenAI's...  \n",
       "4  ['I', 'asked', '#ChatGPT', 'to', 'write', 'me'...  "
      ]
     },
     "execution_count": 28,
     "metadata": {},
     "output_type": "execute_result"
    }
   ],
   "source": [
    "df = pd.read_csv('translated_dataframe.csv')\n",
    "df.head()"
   ]
  },
  {
   "cell_type": "code",
   "execution_count": 29,
   "id": "54004f19",
   "metadata": {},
   "outputs": [],
   "source": [
    "# Extracting a single column\n",
    "chatgpt_docs = df['tokenized_text']"
   ]
  },
  {
   "cell_type": "code",
   "execution_count": 30,
   "id": "e0c2aa51",
   "metadata": {},
   "outputs": [],
   "source": [
    "def DFToDocument(df):\n",
    "    document = []\n",
    "    lemmatizer = WordNetLemmatizer()\n",
    "    stop_words = set(stopwords.words('english'))\n",
    "    for i, row in df.iterrows():\n",
    "        sentence = \"\"\n",
    "        tokenized_text = ast.literal_eval(row['tokenized_text'])\n",
    "        for token in tokenized_text:\n",
    "            if token not in stop_words and not validators.url(token) and token not in string.punctuation:\n",
    "                sentence += token + ' '\n",
    "        sentence = demoji.replace_with_desc(string = sentence, sep = \":\")\n",
    "        document.append(sentence[:-1])\n",
    "    return document"
   ]
  },
  {
   "cell_type": "code",
   "execution_count": 31,
   "id": "e54b5e2a",
   "metadata": {
    "scrolled": true
   },
   "outputs": [],
   "source": [
    "chatgpt_docs_joined = DFToDocument(df)"
   ]
  },
  {
   "cell_type": "code",
   "execution_count": 32,
   "id": "90e440d6",
   "metadata": {},
   "outputs": [
    {
     "name": "stderr",
     "output_type": "stream",
     "text": [
      "IOPub data rate exceeded.\n",
      "The notebook server will temporarily stop sending output\n",
      "to the client in order to avoid crashing it.\n",
      "To change this limit, set the config variable\n",
      "`--NotebookApp.iopub_data_rate_limit`.\n",
      "\n",
      "Current values:\n",
      "NotebookApp.iopub_data_rate_limit=1000000.0 (bytes/sec)\n",
      "NotebookApp.rate_limit_window=3.0 (secs)\n",
      "\n"
     ]
    }
   ],
   "source": [
    "print(chatgpt_docs_joined)"
   ]
  },
  {
   "cell_type": "code",
   "execution_count": 33,
   "id": "e5a81b7d",
   "metadata": {},
   "outputs": [],
   "source": [
    "# CountVectorizer converts the text documents to a matrix of token counts\n",
    "vectorizer = CountVectorizer()\n",
    "chatgpt_vecs = vectorizer.fit_transform(chatgpt_docs_joined)\n",
    "\n",
    "# get_feature_names saves all the words. This allows us to see the words in each topic later\n",
    "feature_names = vectorizer.get_feature_names_out()"
   ]
  },
  {
   "cell_type": "code",
   "execution_count": 34,
   "id": "adf7649c",
   "metadata": {},
   "outputs": [],
   "source": [
    "# Build LDA Model\n",
    "chatgpt_lda = LatentDirichletAllocation(\n",
    "                batch_size=128, doc_topic_prior=None,\n",
    "                evaluate_every=-1, learning_decay=0.7,\n",
    "                learning_method='online', learning_offset=10.0,\n",
    "                max_doc_update_iter=100, max_iter=10, mean_change_tol=0.001,\n",
    "                n_components=10, perp_tol=0.1,\n",
    "                random_state=100, topic_word_prior=None,\n",
    "                total_samples=1000000.0, verbose=0) \n",
    "# n_jobs = -1\n",
    "# use all available CPU\n",
    "lda_output = chatgpt_lda.fit_transform(chatgpt_vecs)\n",
    "\n",
    "# NOTE:\n",
    "# Changed in version 0.19: n_topics was renamed to n_components"
   ]
  },
  {
   "cell_type": "code",
   "execution_count": 35,
   "id": "dbcb2389",
   "metadata": {
    "scrolled": true
   },
   "outputs": [
    {
     "name": "stdout",
     "output_type": "stream",
     "text": [
      "{'batch_size': 128, 'doc_topic_prior': None, 'evaluate_every': -1, 'learning_decay': 0.7, 'learning_method': 'online', 'learning_offset': 10.0, 'max_doc_update_iter': 100, 'max_iter': 10, 'mean_change_tol': 0.001, 'n_components': 10, 'n_jobs': None, 'perp_tol': 0.1, 'random_state': 100, 'topic_word_prior': None, 'total_samples': 1000000.0, 'verbose': 0}\n"
     ]
    }
   ],
   "source": [
    "print(chatgpt_lda.get_params())"
   ]
  },
  {
   "cell_type": "code",
   "execution_count": 36,
   "id": "e0a3ed0d",
   "metadata": {
    "scrolled": true
   },
   "outputs": [
    {
     "name": "stdout",
     "output_type": "stream",
     "text": [
      "Log Likelihood:  -4417362.120050223\n"
     ]
    }
   ],
   "source": [
    "# EXTRA: Diagnosing the model with log-likelihood\n",
    "# Log-likelihood: the higher the better\n",
    "\n",
    "print(\"Log Likelihood: \", chatgpt_lda.score(chatgpt_vecs))"
   ]
  },
  {
   "cell_type": "code",
   "execution_count": 37,
   "id": "2ab99d18",
   "metadata": {
    "scrolled": true
   },
   "outputs": [
    {
     "name": "stdout",
     "output_type": "stream",
     "text": [
      "Topic 0:\n",
      "chatgpt ai google could things tools great money marketing thread internet saying bard talking power\n",
      "Topic 1:\n",
      "chatgpt give makes knowledge uses sweat ways answers program ever cybersecurity python car blockchain metaverse\n",
      "Topic 2:\n",
      "chatgpt asked write come love japan found quite story copy poem bit mr understanding woman\n",
      "Topic 3:\n",
      "chatgpt take level don self fire high industry chinese business 24 wanted bitcoin btc group\n",
      "Topic 4:\n",
      "chatgpt gpt chat ai get ask time bing like using one we answer can use\n",
      "Topic 5:\n",
      "chatgpt it use also like think good know want right would make if write information\n",
      "Topic 6:\n",
      "chatgpt ai people openai the technology artificialintelligence chatbot how seems us via tech try new\n",
      "Topic 7:\n",
      "face with chatgpt the smiling of eyes on joy tears here thinking rolling robot grinning\n",
      "Topic 8:\n",
      "chatgpt that go midjourney different put tone art there skin another 20 lol jobs old\n",
      "Topic 9:\n",
      "chatgpt ai you the better intelligence artificial world gpt openai gpt4 week new next nft\n"
     ]
    }
   ],
   "source": [
    "# write a function to display the 10 topics and for each topic we choose the top most frequent words. \n",
    "def display_topics(model, feature_names, no_top_words):\n",
    "    for topic_idx, topic in enumerate(model.components_):\n",
    "        print(\"Topic %d:\" % (topic_idx))\n",
    "        print(\" \".join([feature_names[i] for i in topic.argsort()[:-no_top_words - 1:-1]]))\n",
    "\n",
    "no_top_words = 15\n",
    "display_topics(chatgpt_lda, feature_names, 15)"
   ]
  },
  {
   "cell_type": "code",
   "execution_count": 38,
   "id": "5208c310",
   "metadata": {
    "scrolled": true
   },
   "outputs": [],
   "source": [
    "#Set up the environment to display the graphical outputs\n",
    "import pyLDAvis\n",
    "import pyLDAvis.sklearn\n",
    "pyLDAvis.enable_notebook()"
   ]
  },
  {
   "cell_type": "code",
   "execution_count": 39,
   "id": "4ccaa4dc",
   "metadata": {
    "scrolled": true
   },
   "outputs": [
    {
     "name": "stderr",
     "output_type": "stream",
     "text": [
      "/home/jupyter/.local/lib/python3.9/site-packages/pyLDAvis/_prepare.py:243: FutureWarning: In a future version of pandas all arguments of DataFrame.drop except for the argument 'labels' will be keyword-only.\n",
      "  default_term_info = default_term_info.sort_values(\n"
     ]
    }
   ],
   "source": [
    "# Generate the visuals\n",
    "visual = pyLDAvis.sklearn.prepare(chatgpt_lda, chatgpt_vecs, vectorizer, mds='tsne')"
   ]
  },
  {
   "cell_type": "code",
   "execution_count": 40,
   "id": "cae20aa1",
   "metadata": {},
   "outputs": [],
   "source": [
    "#Save the output|to the html file\n",
    "pyLDAvis.save_html(visual, \"topic_viz_sklearn_more.html\")"
   ]
  },
  {
   "cell_type": "code",
   "execution_count": 41,
   "id": "71ef55a8",
   "metadata": {},
   "outputs": [
    {
     "name": "stdout",
     "output_type": "stream",
     "text": [
      "Perplexity:  4385.895590352163\n"
     ]
    }
   ],
   "source": [
    "# Compute Perplexity - Lower the better. \n",
    "# Perplexity = exp(-1. * log-likelihood per word)\n",
    "\n",
    "print(\"Perplexity: \", chatgpt_lda.perplexity(chatgpt_vecs))"
   ]
  },
  {
   "cell_type": "markdown",
   "id": "157ab2bb",
   "metadata": {},
   "source": [
    "# GridSearch for the best LDA model"
   ]
  },
  {
   "cell_type": "code",
   "execution_count": 42,
   "id": "27bc6cf9",
   "metadata": {},
   "outputs": [],
   "source": [
    "from sklearn.model_selection import GridSearchCV"
   ]
  },
  {
   "cell_type": "code",
   "execution_count": 43,
   "id": "d4218e25",
   "metadata": {},
   "outputs": [
    {
     "data": {
      "text/html": [
       "<style>#sk-container-id-2 {color: black;background-color: white;}#sk-container-id-2 pre{padding: 0;}#sk-container-id-2 div.sk-toggleable {background-color: white;}#sk-container-id-2 label.sk-toggleable__label {cursor: pointer;display: block;width: 100%;margin-bottom: 0;padding: 0.3em;box-sizing: border-box;text-align: center;}#sk-container-id-2 label.sk-toggleable__label-arrow:before {content: \"▸\";float: left;margin-right: 0.25em;color: #696969;}#sk-container-id-2 label.sk-toggleable__label-arrow:hover:before {color: black;}#sk-container-id-2 div.sk-estimator:hover label.sk-toggleable__label-arrow:before {color: black;}#sk-container-id-2 div.sk-toggleable__content {max-height: 0;max-width: 0;overflow: hidden;text-align: left;background-color: #f0f8ff;}#sk-container-id-2 div.sk-toggleable__content pre {margin: 0.2em;color: black;border-radius: 0.25em;background-color: #f0f8ff;}#sk-container-id-2 input.sk-toggleable__control:checked~div.sk-toggleable__content {max-height: 200px;max-width: 100%;overflow: auto;}#sk-container-id-2 input.sk-toggleable__control:checked~label.sk-toggleable__label-arrow:before {content: \"▾\";}#sk-container-id-2 div.sk-estimator input.sk-toggleable__control:checked~label.sk-toggleable__label {background-color: #d4ebff;}#sk-container-id-2 div.sk-label input.sk-toggleable__control:checked~label.sk-toggleable__label {background-color: #d4ebff;}#sk-container-id-2 input.sk-hidden--visually {border: 0;clip: rect(1px 1px 1px 1px);clip: rect(1px, 1px, 1px, 1px);height: 1px;margin: -1px;overflow: hidden;padding: 0;position: absolute;width: 1px;}#sk-container-id-2 div.sk-estimator {font-family: monospace;background-color: #f0f8ff;border: 1px dotted black;border-radius: 0.25em;box-sizing: border-box;margin-bottom: 0.5em;}#sk-container-id-2 div.sk-estimator:hover {background-color: #d4ebff;}#sk-container-id-2 div.sk-parallel-item::after {content: \"\";width: 100%;border-bottom: 1px solid gray;flex-grow: 1;}#sk-container-id-2 div.sk-label:hover label.sk-toggleable__label {background-color: #d4ebff;}#sk-container-id-2 div.sk-serial::before {content: \"\";position: absolute;border-left: 1px solid gray;box-sizing: border-box;top: 0;bottom: 0;left: 50%;z-index: 0;}#sk-container-id-2 div.sk-serial {display: flex;flex-direction: column;align-items: center;background-color: white;padding-right: 0.2em;padding-left: 0.2em;position: relative;}#sk-container-id-2 div.sk-item {position: relative;z-index: 1;}#sk-container-id-2 div.sk-parallel {display: flex;align-items: stretch;justify-content: center;background-color: white;position: relative;}#sk-container-id-2 div.sk-item::before, #sk-container-id-2 div.sk-parallel-item::before {content: \"\";position: absolute;border-left: 1px solid gray;box-sizing: border-box;top: 0;bottom: 0;left: 50%;z-index: -1;}#sk-container-id-2 div.sk-parallel-item {display: flex;flex-direction: column;z-index: 1;position: relative;background-color: white;}#sk-container-id-2 div.sk-parallel-item:first-child::after {align-self: flex-end;width: 50%;}#sk-container-id-2 div.sk-parallel-item:last-child::after {align-self: flex-start;width: 50%;}#sk-container-id-2 div.sk-parallel-item:only-child::after {width: 0;}#sk-container-id-2 div.sk-dashed-wrapped {border: 1px dashed gray;margin: 0 0.4em 0.5em 0.4em;box-sizing: border-box;padding-bottom: 0.4em;background-color: white;}#sk-container-id-2 div.sk-label label {font-family: monospace;font-weight: bold;display: inline-block;line-height: 1.2em;}#sk-container-id-2 div.sk-label-container {text-align: center;}#sk-container-id-2 div.sk-container {/* jupyter's `normalize.less` sets `[hidden] { display: none; }` but bootstrap.min.css set `[hidden] { display: none !important; }` so we also need the `!important` here to be able to override the default hidden behavior on the sphinx rendered scikit-learn.org. See: https://github.com/scikit-learn/scikit-learn/issues/21755 */display: inline-block !important;position: relative;}#sk-container-id-2 div.sk-text-repr-fallback {display: none;}</style><div id=\"sk-container-id-2\" class=\"sk-top-container\"><div class=\"sk-text-repr-fallback\"><pre>GridSearchCV(estimator=LatentDirichletAllocation(learning_method=&#x27;online&#x27;,\n",
       "                                                 random_state=100),\n",
       "             n_jobs=8,\n",
       "             param_grid={&#x27;learning_decay&#x27;: [0.5, 0.7, 0.9],\n",
       "                         &#x27;n_components&#x27;: [10, 15, 20, 25, 30]})</pre><b>In a Jupyter environment, please rerun this cell to show the HTML representation or trust the notebook. <br />On GitHub, the HTML representation is unable to render, please try loading this page with nbviewer.org.</b></div><div class=\"sk-container\" hidden><div class=\"sk-item sk-dashed-wrapped\"><div class=\"sk-label-container\"><div class=\"sk-label sk-toggleable\"><input class=\"sk-toggleable__control sk-hidden--visually\" id=\"sk-estimator-id-4\" type=\"checkbox\" ><label for=\"sk-estimator-id-4\" class=\"sk-toggleable__label sk-toggleable__label-arrow\">GridSearchCV</label><div class=\"sk-toggleable__content\"><pre>GridSearchCV(estimator=LatentDirichletAllocation(learning_method=&#x27;online&#x27;,\n",
       "                                                 random_state=100),\n",
       "             n_jobs=8,\n",
       "             param_grid={&#x27;learning_decay&#x27;: [0.5, 0.7, 0.9],\n",
       "                         &#x27;n_components&#x27;: [10, 15, 20, 25, 30]})</pre></div></div></div><div class=\"sk-parallel\"><div class=\"sk-parallel-item\"><div class=\"sk-item\"><div class=\"sk-label-container\"><div class=\"sk-label sk-toggleable\"><input class=\"sk-toggleable__control sk-hidden--visually\" id=\"sk-estimator-id-5\" type=\"checkbox\" ><label for=\"sk-estimator-id-5\" class=\"sk-toggleable__label sk-toggleable__label-arrow\">estimator: LatentDirichletAllocation</label><div class=\"sk-toggleable__content\"><pre>LatentDirichletAllocation(learning_method=&#x27;online&#x27;, random_state=100)</pre></div></div></div><div class=\"sk-serial\"><div class=\"sk-item\"><div class=\"sk-estimator sk-toggleable\"><input class=\"sk-toggleable__control sk-hidden--visually\" id=\"sk-estimator-id-6\" type=\"checkbox\" ><label for=\"sk-estimator-id-6\" class=\"sk-toggleable__label sk-toggleable__label-arrow\">LatentDirichletAllocation</label><div class=\"sk-toggleable__content\"><pre>LatentDirichletAllocation(learning_method=&#x27;online&#x27;, random_state=100)</pre></div></div></div></div></div></div></div></div></div></div>"
      ],
      "text/plain": [
       "GridSearchCV(estimator=LatentDirichletAllocation(learning_method='online',\n",
       "                                                 random_state=100),\n",
       "             n_jobs=8,\n",
       "             param_grid={'learning_decay': [0.5, 0.7, 0.9],\n",
       "                         'n_components': [10, 15, 20, 25, 30]})"
      ]
     },
     "execution_count": 43,
     "metadata": {},
     "output_type": "execute_result"
    }
   ],
   "source": [
    "# Define Search Param\n",
    "search_params = {'n_components': [10, 15, 20, 25, 30], \n",
    "                 'learning_decay': [0.5, 0.7, 0.9]}\n",
    "\n",
    "# Init the Model\n",
    "# chatgpt_lda = LatentDirichletAllocation()\n",
    "\n",
    "# Init Grid Search Class\n",
    "model = GridSearchCV(chatgpt_lda, param_grid=search_params, n_jobs=8)\n",
    "\n",
    "# Do the Grid Search\n",
    "model.fit(chatgpt_vecs)"
   ]
  },
  {
   "cell_type": "code",
   "execution_count": 44,
   "id": "991e2861",
   "metadata": {},
   "outputs": [
    {
     "name": "stdout",
     "output_type": "stream",
     "text": [
      "Best Model's Params:  {'learning_decay': 0.9, 'n_components': 10}\n",
      "Best Log Likelihood Score:  -1055157.9339771334\n",
      "Model Perplexity:  4165.3377128866805\n"
     ]
    }
   ],
   "source": [
    "# Best Model\n",
    "best_lda_model = model.best_estimator_\n",
    "\n",
    "# Model Parameters\n",
    "print(\"Best Model's Params: \", model.best_params_)\n",
    "\n",
    "# Log Likelihood Score\n",
    "print(\"Best Log Likelihood Score: \", model.best_score_)\n",
    "\n",
    "# Perplexity\n",
    "print(\"Model Perplexity: \", best_lda_model.perplexity(chatgpt_vecs))"
   ]
  },
  {
   "cell_type": "code",
   "execution_count": 45,
   "id": "d746ace5",
   "metadata": {},
   "outputs": [],
   "source": [
    "import matplotlib.pyplot as plt"
   ]
  },
  {
   "cell_type": "code",
   "execution_count": 46,
   "id": "85478ec8",
   "metadata": {},
   "outputs": [
    {
     "data": {
      "image/png": "[encoded data removed]",
      "text/plain": [
       "<Figure size 1200x800 with 1 Axes>"
      ]
     },
     "metadata": {},
     "output_type": "display_data"
    }
   ],
   "source": [
    "# Get Log Likelyhoods from Grid Search Output\n",
    "n_topics = [10, 15, 20, 25, 30]\n",
    "# log_likelyhoods_5 = [round(gscore.mean_validation_score) for gscore in model.cv_results_ if gscore.parameters['learning_decay']==0.5]\n",
    "# log_likelyhoods_7 = [round(gscore.mean_validation_score) for gscore in model.cv_results_ if gscore.parameters['learning_decay']==0.7]\n",
    "# log_likelyhoods_9 = [round(gscore.mean_validation_score) for gscore in model.cv_results_ if gscore.parameters['learning_decay']==0.9]\n",
    "\n",
    "log_likelyhoods_5 = [round(model.cv_results_['mean_test_score'][index]) for index, gscore in enumerate(model.cv_results_['params']) if gscore['learning_decay']==0.5]\n",
    "log_likelyhoods_7 = [round(model.cv_results_['mean_test_score'][index]) for index, gscore in enumerate(model.cv_results_['params']) if gscore['learning_decay']==0.7]\n",
    "log_likelyhoods_9 = [round(model.cv_results_['mean_test_score'][index]) for index, gscore in enumerate(model.cv_results_['params']) if gscore['learning_decay']==0.9]\n",
    "\n",
    "\n",
    "# Show graph\n",
    "plt.figure(figsize=(12, 8))\n",
    "plt.plot(n_topics, log_likelyhoods_5, label='0.5')\n",
    "plt.plot(n_topics, log_likelyhoods_7, label='0.7')\n",
    "plt.plot(n_topics, log_likelyhoods_9, label='0.9')\n",
    "\n",
    "plt.title(\"Choosing Optimal LDA Model\")\n",
    "plt.xlabel(\"Num Topics\")\n",
    "plt.ylabel(\"Log Likelyhood Scores\")\n",
    "plt.legend(title='Learning decay', loc='best')\n",
    "plt.show()"
   ]
  },
  {
   "cell_type": "code",
   "execution_count": 47,
   "id": "a574f79b",
   "metadata": {},
   "outputs": [],
   "source": [
    "# I ASSUME THIS IS THE END OF GRID SEARCH"
   ]
  },
  {
   "cell_type": "code",
   "execution_count": null,
   "id": "779014d2",
   "metadata": {},
   "outputs": [],
   "source": []
  },
  {
   "cell_type": "code",
   "execution_count": null,
   "id": "70920e0f",
   "metadata": {},
   "outputs": [],
   "source": []
  },
  {
   "cell_type": "code",
   "execution_count": null,
   "id": "4c0b482c",
   "metadata": {},
   "outputs": [],
   "source": []
  },
  {
   "cell_type": "code",
   "execution_count": null,
   "id": "7b96278f",
   "metadata": {},
   "outputs": [],
   "source": [
    "# Can take a long time to run. In this case we are going to k_max=14.\n",
    "import datetime\n",
    "print(datetime.datetime.now())\n",
    "\n",
    "from gensim.models import CoherenceModel\n",
    "\n",
    "model_list = []\n",
    "perplexity_values = []\n",
    "model_topics = []\n",
    "\n",
    "for num_topics in range(2, 14, 2):\n",
    "    chatgpt_lda_x = LatentDirichletAllocation(n_components=num_topics, learning_method='online')\n",
    "#     , n_jobs = -1\n",
    "    chatgpt_lda_x.fit_transform(chatgpt_vecs)\n",
    "    model_topics.append(num_topics)\n",
    "    model_list.append(chatgpt_lda_x)\n",
    "    perplexity_values.append(chatgpt_lda_x.perplexity(chatgpt_vecs))\n",
    "    print(\"#Topics: \" + str(num_topics) + \", Score: \" + str(chatgpt_lda_x.perplexity(chatgpt_vecs)))\n",
    "\n",
    "print(datetime.datetime.now())"
   ]
  },
  {
   "cell_type": "code",
   "execution_count": null,
   "id": "b87af62c",
   "metadata": {},
   "outputs": [],
   "source": [
    "# Show graph\n",
    "\n",
    "import matplotlib.pyplot as plt\n",
    "\n",
    "limit=14; start=2; step=2;\n",
    "x = range(start, limit, step)\n",
    "plt.plot(x, perplexity_values)\n",
    "plt.xlabel(\"Num Topics\")\n",
    "plt.ylabel(\"perplexity score\")\n",
    "plt.legend((\"perplexity_values\"), loc='best')\n",
    "plt.show()"
   ]
  },
  {
   "cell_type": "code",
   "execution_count": null,
   "id": "6c3951cb",
   "metadata": {},
   "outputs": [],
   "source": [
    "# Create Document - Topic Matrix\n",
    "#I choose model_list[2] where the number of topics is 6\n",
    "lda_output = model_list[2].transform(chatgpt_vecs)\n",
    "\n",
    "# column names\n",
    "topicnames = [\"Topic\" + str(i) for i in range(model_list[2].n_components)]\n",
    "\n",
    "# index names\n",
    "docnames = [\"Doc\" + str(i) for i in range(len(chatgpt_docs))]\n",
    "\n",
    "# Make the pandas dataframe\n",
    "df_document_topic = pd.DataFrame(np.round(lda_output, 5), columns=topicnames, index=docnames)\n",
    "\n",
    "# Get dominant topic for each document\n",
    "dominant_topic = np.argmax(df_document_topic.values, axis=1)\n",
    "df_document_topic['dominant_topic'] = dominant_topic\n",
    "\n",
    "# Styling\n",
    "def color_green(val):\n",
    "    color = 'green' if val > .1 else 'black'\n",
    "    return 'color: {col}'.format(col=color)\n",
    "\n",
    "def make_bold(val):\n",
    "    weight = 700 if val > .1 else 400\n",
    "    return 'font-weight: {weight}'.format(weight=weight)\n",
    "\n",
    "# Apply Style\n",
    "num_doc_to_show = 10  # change this to display the number of documents shown below\n",
    "df_document_topics = df_document_topic.head(num_doc_to_show).style.applymap(color_green).applymap(make_bold)\n",
    "df_document_topics"
   ]
  },
  {
   "cell_type": "code",
   "execution_count": null,
   "id": "653a47ad",
   "metadata": {},
   "outputs": [],
   "source": [
    "import joblib\n",
    "#Save a model to disk, or reload a pre-trained model\n",
    "\n",
    "chatgpt_lda=model_list[1]\n",
    "joblib.dump(chatgpt_lda, 'chatgpt_lda.jl')\n",
    "\n",
    "# # then reload it with\n",
    "lda_disk = joblib.load('chatgpt_lda.jl')"
   ]
  },
  {
   "cell_type": "code",
   "execution_count": null,
   "id": "50d09efd",
   "metadata": {},
   "outputs": [],
   "source": [
    "# SAVING THE LDA MODEL"
   ]
  },
  {
   "cell_type": "code",
   "execution_count": null,
   "id": "8ff644c9",
   "metadata": {},
   "outputs": [],
   "source": [
    "#Code to save theta\n",
    "import pandas as pd\n",
    "\n",
    "df_document_topic.to_csv(\"doc_topic_with_gridsearch.csv\")"
   ]
  },
  {
   "cell_type": "code",
   "execution_count": null,
   "id": "2f2e8de1",
   "metadata": {},
   "outputs": [],
   "source": [
    "# Write code here to save top 10 words for each topic (beta)\n",
    "top_words_per_topic = []\n",
    "    \n",
    "for topic_idx, topic in enumerate(chatgpt_lda.components_):\n",
    "    topic_word_P = [(topic_idx, feature_names[i], topic[i]) for i in topic.argsort()[:-no_top_words - 1:-1]]\n",
    "    top_words_per_topic.extend(topic_word_P)\n",
    "\n",
    "pd.DataFrame(top_words_per_topic, columns=['Topic', 'Word', 'P']).to_csv(\"top_words_with_gridsearch.csv\")"
   ]
  },
  {
   "cell_type": "code",
   "execution_count": null,
   "id": "53077791",
   "metadata": {},
   "outputs": [],
   "source": [
    "# END OF SKLEARN LDA"
   ]
  },
  {
   "cell_type": "code",
   "execution_count": null,
   "id": "bf91d47b",
   "metadata": {},
   "outputs": [],
   "source": []
  },
  {
   "cell_type": "code",
   "execution_count": null,
   "id": "0f3f857c",
   "metadata": {},
   "outputs": [],
   "source": []
  }
 ],
 "metadata": {
  "kernelspec": {
   "display_name": "Python 3 (ipykernel)",
   "language": "python",
   "name": "python3"
  },
  "language_info": {
   "codemirror_mode": {
    "name": "ipython",
    "version": 3
   },
   "file_extension": ".py",
   "mimetype": "text/x-python",
   "name": "python",
   "nbconvert_exporter": "python",
   "pygments_lexer": "ipython3",
   "version": "3.9.2"
  }
 },
 "nbformat": 4,
 "nbformat_minor": 5
}
